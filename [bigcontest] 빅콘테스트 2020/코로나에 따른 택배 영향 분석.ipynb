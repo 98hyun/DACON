{
 "cells": [
  {
   "cell_type": "markdown",
   "metadata": {},
   "source": [
    "## 패키지 불러오기"
   ]
  },
  {
   "cell_type": "code",
   "execution_count": 332,
   "metadata": {},
   "outputs": [],
   "source": [
    "import pandas as pd\n",
    "import numpy as np\n",
    "import matplotlib.pyplot as plt\n",
    "import scipy.stats as stats\n",
    "from sklearn.linear_model import LinearRegression\n",
    "from sklearn.preprocessing import PolynomialFeatures\n",
    "import matplotlib as mpl\n",
    "import matplotlib.pylab as plt\n",
    "from datetime import datetime\n",
    "import seaborn as sns"
   ]
  },
  {
   "cell_type": "code",
   "execution_count": 333,
   "metadata": {},
   "outputs": [],
   "source": [
    "# 한글깨짐 해결\n",
    "plt.rcParams[\"font.family\"] = \"Malgun Gothic\"\n",
    "plt.rcParams[\"font.size\"] = 10\n",
    "plt.rcParams[\"figure.figsize\"] = (10,4)\n",
    "\n",
    "# 마이너스 깨짐 해결\n",
    "mpl.rcParams['axes.unicode_minus'] = False"
   ]
  },
  {
   "cell_type": "code",
   "execution_count": 334,
   "metadata": {},
   "outputs": [],
   "source": [
    "# 추후 그래프의 x축의 주차별 표시 위한 것\n",
    "week_17 = ['1','2','3','4','5','6','7','8','9','10','11','12','13','14','15','16','17']\n",
    "week_from_3week = ['3','4','5','6','7','8','9','10','11','12','13','14','15', '16', '17']"
   ]
  },
  {
   "cell_type": "markdown",
   "metadata": {},
   "source": [
    "## 19년과 20년의 송장 건수의 대략적 비교\n"
   ]
  },
  {
   "cell_type": "code",
   "execution_count": 335,
   "metadata": {
    "scrolled": false
   },
   "outputs": [
    {
     "data": {
      "text/html": [
       "<div>\n",
       "<style scoped>\n",
       "    .dataframe tbody tr th:only-of-type {\n",
       "        vertical-align: middle;\n",
       "    }\n",
       "\n",
       "    .dataframe tbody tr th {\n",
       "        vertical-align: top;\n",
       "    }\n",
       "\n",
       "    .dataframe thead th {\n",
       "        text-align: right;\n",
       "    }\n",
       "</style>\n",
       "<table border=\"1\" class=\"dataframe\">\n",
       "  <thead>\n",
       "    <tr style=\"text-align: right;\">\n",
       "      <th></th>\n",
       "      <th>DL_YMD</th>\n",
       "      <th>DL_GD_LCLS_NM</th>\n",
       "      <th>DL_GD_LCLS_CD</th>\n",
       "      <th>CTPV_NM</th>\n",
       "      <th>CTPV_CD</th>\n",
       "      <th>CTGG_NM</th>\n",
       "      <th>CTGG_CD</th>\n",
       "      <th>HDNG_NM</th>\n",
       "      <th>HDNG_CD</th>\n",
       "      <th>INVC_CONT</th>\n",
       "    </tr>\n",
       "  </thead>\n",
       "  <tbody>\n",
       "    <tr>\n",
       "      <th>0</th>\n",
       "      <td>190201</td>\n",
       "      <td>도서/음반</td>\n",
       "      <td>12</td>\n",
       "      <td>서울특별시</td>\n",
       "      <td>11</td>\n",
       "      <td>중구</td>\n",
       "      <td>14</td>\n",
       "      <td>동화동</td>\n",
       "      <td>665</td>\n",
       "      <td>16</td>\n",
       "    </tr>\n",
       "    <tr>\n",
       "      <th>1</th>\n",
       "      <td>190201</td>\n",
       "      <td>가구/인테리어</td>\n",
       "      <td>10</td>\n",
       "      <td>서울특별시</td>\n",
       "      <td>11</td>\n",
       "      <td>중구</td>\n",
       "      <td>14</td>\n",
       "      <td>신당동</td>\n",
       "      <td>615</td>\n",
       "      <td>4</td>\n",
       "    </tr>\n",
       "    <tr>\n",
       "      <th>2</th>\n",
       "      <td>190201</td>\n",
       "      <td>가구/인테리어</td>\n",
       "      <td>10</td>\n",
       "      <td>대구광역시</td>\n",
       "      <td>27</td>\n",
       "      <td>중구</td>\n",
       "      <td>11</td>\n",
       "      <td>성내1동</td>\n",
       "      <td>565</td>\n",
       "      <td>1</td>\n",
       "    </tr>\n",
       "    <tr>\n",
       "      <th>3</th>\n",
       "      <td>190201</td>\n",
       "      <td>도서/음반</td>\n",
       "      <td>12</td>\n",
       "      <td>대구광역시</td>\n",
       "      <td>27</td>\n",
       "      <td>중구</td>\n",
       "      <td>11</td>\n",
       "      <td>남산2동</td>\n",
       "      <td>650</td>\n",
       "      <td>6</td>\n",
       "    </tr>\n",
       "    <tr>\n",
       "      <th>4</th>\n",
       "      <td>190201</td>\n",
       "      <td>디지털/가전</td>\n",
       "      <td>13</td>\n",
       "      <td>대구광역시</td>\n",
       "      <td>27</td>\n",
       "      <td>수성구</td>\n",
       "      <td>26</td>\n",
       "      <td>고산3동</td>\n",
       "      <td>690</td>\n",
       "      <td>21</td>\n",
       "    </tr>\n",
       "    <tr>\n",
       "      <th>...</th>\n",
       "      <td>...</td>\n",
       "      <td>...</td>\n",
       "      <td>...</td>\n",
       "      <td>...</td>\n",
       "      <td>...</td>\n",
       "      <td>...</td>\n",
       "      <td>...</td>\n",
       "      <td>...</td>\n",
       "      <td>...</td>\n",
       "      <td>...</td>\n",
       "    </tr>\n",
       "    <tr>\n",
       "      <th>156566</th>\n",
       "      <td>200531</td>\n",
       "      <td>패션의류</td>\n",
       "      <td>19</td>\n",
       "      <td>대구광역시</td>\n",
       "      <td>27</td>\n",
       "      <td>수성구</td>\n",
       "      <td>26</td>\n",
       "      <td>범물2동</td>\n",
       "      <td>662</td>\n",
       "      <td>22</td>\n",
       "    </tr>\n",
       "    <tr>\n",
       "      <th>156567</th>\n",
       "      <td>200531</td>\n",
       "      <td>패션의류</td>\n",
       "      <td>19</td>\n",
       "      <td>서울특별시</td>\n",
       "      <td>11</td>\n",
       "      <td>중구</td>\n",
       "      <td>14</td>\n",
       "      <td>약수동</td>\n",
       "      <td>635</td>\n",
       "      <td>21</td>\n",
       "    </tr>\n",
       "    <tr>\n",
       "      <th>156568</th>\n",
       "      <td>200531</td>\n",
       "      <td>패션잡화</td>\n",
       "      <td>20</td>\n",
       "      <td>대구광역시</td>\n",
       "      <td>27</td>\n",
       "      <td>수성구</td>\n",
       "      <td>26</td>\n",
       "      <td>범물2동</td>\n",
       "      <td>662</td>\n",
       "      <td>14</td>\n",
       "    </tr>\n",
       "    <tr>\n",
       "      <th>156569</th>\n",
       "      <td>200531</td>\n",
       "      <td>패션잡화</td>\n",
       "      <td>20</td>\n",
       "      <td>서울특별시</td>\n",
       "      <td>11</td>\n",
       "      <td>노원구</td>\n",
       "      <td>35</td>\n",
       "      <td>상계6.7동</td>\n",
       "      <td>695</td>\n",
       "      <td>25</td>\n",
       "    </tr>\n",
       "    <tr>\n",
       "      <th>156570</th>\n",
       "      <td>200531</td>\n",
       "      <td>화장품/미용</td>\n",
       "      <td>21</td>\n",
       "      <td>대구광역시</td>\n",
       "      <td>27</td>\n",
       "      <td>수성구</td>\n",
       "      <td>26</td>\n",
       "      <td>수성4가동</td>\n",
       "      <td>590</td>\n",
       "      <td>27</td>\n",
       "    </tr>\n",
       "  </tbody>\n",
       "</table>\n",
       "<p>156571 rows × 10 columns</p>\n",
       "</div>"
      ],
      "text/plain": [
       "        DL_YMD DL_GD_LCLS_NM  DL_GD_LCLS_CD CTPV_NM  CTPV_CD CTGG_NM  CTGG_CD  \\\n",
       "0       190201         도서/음반             12   서울특별시       11      중구       14   \n",
       "1       190201       가구/인테리어             10   서울특별시       11      중구       14   \n",
       "2       190201       가구/인테리어             10   대구광역시       27      중구       11   \n",
       "3       190201         도서/음반             12   대구광역시       27      중구       11   \n",
       "4       190201        디지털/가전             13   대구광역시       27     수성구       26   \n",
       "...        ...           ...            ...     ...      ...     ...      ...   \n",
       "156566  200531          패션의류             19   대구광역시       27     수성구       26   \n",
       "156567  200531          패션의류             19   서울특별시       11      중구       14   \n",
       "156568  200531          패션잡화             20   대구광역시       27     수성구       26   \n",
       "156569  200531          패션잡화             20   서울특별시       11     노원구       35   \n",
       "156570  200531        화장품/미용             21   대구광역시       27     수성구       26   \n",
       "\n",
       "       HDNG_NM  HDNG_CD  INVC_CONT  \n",
       "0          동화동      665         16  \n",
       "1          신당동      615          4  \n",
       "2         성내1동      565          1  \n",
       "3         남산2동      650          6  \n",
       "4         고산3동      690         21  \n",
       "...        ...      ...        ...  \n",
       "156566    범물2동      662         22  \n",
       "156567     약수동      635         21  \n",
       "156568    범물2동      662         14  \n",
       "156569  상계6.7동      695         25  \n",
       "156570   수성4가동      590         27  \n",
       "\n",
       "[156571 rows x 10 columns]"
      ]
     },
     "execution_count": 335,
     "metadata": {},
     "output_type": "execute_result"
    }
   ],
   "source": [
    "logistic_data = pd.read_excel('./2020빅콘테스트 문제데이터(혁신아이디어분야) (2)./05_물류데이터(CJ올리브네트웍스)./2020 빅콘테스트_CJ올리브네트웍스_제공DB.xlsx')\n",
    "logistic_data"
   ]
  },
  {
   "cell_type": "code",
   "execution_count": 336,
   "metadata": {},
   "outputs": [],
   "source": [
    "#물류 데이터를 19년 2월부터 5월, 20년도 2월부터 5월까지의 데이터로 나누는 작업\n",
    "\n",
    "logistic_1902=logistic_data[(logistic_data['DL_YMD']>=190201)&(logistic_data['DL_YMD']<=190229)]\n",
    "logistic_1903=logistic_data[(logistic_data['DL_YMD']>=190301)&(logistic_data['DL_YMD']<=190331)]\n",
    "logistic_1904=logistic_data[(logistic_data['DL_YMD']>=190401)&(logistic_data['DL_YMD']<=190431)]\n",
    "logistic_1905=logistic_data[(logistic_data['DL_YMD']>=190501)&(logistic_data['DL_YMD']<=190531)]\n",
    "\n",
    "logistic_2002=logistic_data[(logistic_data['DL_YMD']>=200201)&(logistic_data['DL_YMD']<=200229)]\n",
    "logistic_2002=logistic_data[(logistic_data['DL_YMD']>=200301)&(logistic_data['DL_YMD']<=200331)]\n",
    "logistic_2002=logistic_data[(logistic_data['DL_YMD']>=200401)&(logistic_data['DL_YMD']<=190431)]\n",
    "logistic_2002=logistic_data[(logistic_data['DL_YMD']>=200501)&(logistic_data['DL_YMD']<=190531)]"
   ]
  },
  {
   "cell_type": "code",
   "execution_count": 337,
   "metadata": {},
   "outputs": [
    {
     "data": {
      "text/html": [
       "<div>\n",
       "<style scoped>\n",
       "    .dataframe tbody tr th:only-of-type {\n",
       "        vertical-align: middle;\n",
       "    }\n",
       "\n",
       "    .dataframe tbody tr th {\n",
       "        vertical-align: top;\n",
       "    }\n",
       "\n",
       "    .dataframe thead th {\n",
       "        text-align: right;\n",
       "    }\n",
       "</style>\n",
       "<table border=\"1\" class=\"dataframe\">\n",
       "  <thead>\n",
       "    <tr style=\"text-align: right;\">\n",
       "      <th></th>\n",
       "      <th>DL_YMD</th>\n",
       "      <th>INVC_CONT</th>\n",
       "    </tr>\n",
       "  </thead>\n",
       "  <tbody>\n",
       "    <tr>\n",
       "      <th>0</th>\n",
       "      <td>190201</td>\n",
       "      <td>11575</td>\n",
       "    </tr>\n",
       "    <tr>\n",
       "      <th>1</th>\n",
       "      <td>190202</td>\n",
       "      <td>1646</td>\n",
       "    </tr>\n",
       "    <tr>\n",
       "      <th>2</th>\n",
       "      <td>190203</td>\n",
       "      <td>369</td>\n",
       "    </tr>\n",
       "    <tr>\n",
       "      <th>3</th>\n",
       "      <td>190204</td>\n",
       "      <td>123</td>\n",
       "    </tr>\n",
       "    <tr>\n",
       "      <th>4</th>\n",
       "      <td>190205</td>\n",
       "      <td>69</td>\n",
       "    </tr>\n",
       "    <tr>\n",
       "      <th>...</th>\n",
       "      <td>...</td>\n",
       "      <td>...</td>\n",
       "    </tr>\n",
       "    <tr>\n",
       "      <th>236</th>\n",
       "      <td>200527</td>\n",
       "      <td>106021</td>\n",
       "    </tr>\n",
       "    <tr>\n",
       "      <th>237</th>\n",
       "      <td>200528</td>\n",
       "      <td>100891</td>\n",
       "    </tr>\n",
       "    <tr>\n",
       "      <th>238</th>\n",
       "      <td>200529</td>\n",
       "      <td>91972</td>\n",
       "    </tr>\n",
       "    <tr>\n",
       "      <th>239</th>\n",
       "      <td>200530</td>\n",
       "      <td>12289</td>\n",
       "    </tr>\n",
       "    <tr>\n",
       "      <th>240</th>\n",
       "      <td>200531</td>\n",
       "      <td>9790</td>\n",
       "    </tr>\n",
       "  </tbody>\n",
       "</table>\n",
       "<p>241 rows × 2 columns</p>\n",
       "</div>"
      ],
      "text/plain": [
       "     DL_YMD  INVC_CONT\n",
       "0    190201      11575\n",
       "1    190202       1646\n",
       "2    190203        369\n",
       "3    190204        123\n",
       "4    190205         69\n",
       "..      ...        ...\n",
       "236  200527     106021\n",
       "237  200528     100891\n",
       "238  200529      91972\n",
       "239  200530      12289\n",
       "240  200531       9790\n",
       "\n",
       "[241 rows x 2 columns]"
      ]
     },
     "execution_count": 337,
     "metadata": {},
     "output_type": "execute_result"
    }
   ],
   "source": [
    "#날짜별 송장건수의 합을 구함\n",
    "\n",
    "logistic_data_by_month=logistic_data.groupby(['DL_YMD'], as_index=False).sum().drop(['DL_GD_LCLS_CD','CTPV_CD','CTGG_CD','HDNG_CD'], axis=1)\n",
    "logistic_data_by_month"
   ]
  },
  {
   "cell_type": "code",
   "execution_count": 338,
   "metadata": {},
   "outputs": [],
   "source": [
    "#월별 송장건수의 합을 구함\n",
    "\n",
    "logistic_data_2019=logistic_data[(logistic_data['DL_YMD']>=190201)&(logistic_data['DL_YMD']<=190531)].drop(['DL_GD_LCLS_NM','DL_GD_LCLS_CD','CTPV_NM','CTPV_CD','CTGG_NM','CTGG_CD','HDNG_NM','HDNG_CD'], axis=1)\n",
    "conditions=[(logistic_data_2019['DL_YMD']>=190201)&(logistic_data_2019['DL_YMD']<=190231),\n",
    "            (logistic_data_2019['DL_YMD']>=190301)&(logistic_data_2019['DL_YMD']<=190331),\n",
    "           (logistic_data_2019['DL_YMD']>=190401)&(logistic_data_2019['DL_YMD']<=190431),\n",
    "           (logistic_data_2019['DL_YMD']>=190501)&(logistic_data_2019['DL_YMD']<=190531)]\n",
    "choices=['19년_2월', '19년_3월', '19년_4월', '19년_5월']\n",
    "logistic_data_2019['날짜']=np.select(conditions, choices)"
   ]
  },
  {
   "cell_type": "markdown",
   "metadata": {},
   "source": [
    "19년도의 월별 송장 건수"
   ]
  },
  {
   "cell_type": "code",
   "execution_count": 339,
   "metadata": {},
   "outputs": [
    {
     "data": {
      "text/html": [
       "<div>\n",
       "<style scoped>\n",
       "    .dataframe tbody tr th:only-of-type {\n",
       "        vertical-align: middle;\n",
       "    }\n",
       "\n",
       "    .dataframe tbody tr th {\n",
       "        vertical-align: top;\n",
       "    }\n",
       "\n",
       "    .dataframe thead th {\n",
       "        text-align: right;\n",
       "    }\n",
       "</style>\n",
       "<table border=\"1\" class=\"dataframe\">\n",
       "  <thead>\n",
       "    <tr style=\"text-align: right;\">\n",
       "      <th></th>\n",
       "      <th>월별 송장건수</th>\n",
       "    </tr>\n",
       "    <tr>\n",
       "      <th>날짜</th>\n",
       "      <th></th>\n",
       "    </tr>\n",
       "  </thead>\n",
       "  <tbody>\n",
       "    <tr>\n",
       "      <th>19년_2월</th>\n",
       "      <td>1627147</td>\n",
       "    </tr>\n",
       "    <tr>\n",
       "      <th>19년_3월</th>\n",
       "      <td>1977310</td>\n",
       "    </tr>\n",
       "    <tr>\n",
       "      <th>19년_4월</th>\n",
       "      <td>2010280</td>\n",
       "    </tr>\n",
       "    <tr>\n",
       "      <th>19년_5월</th>\n",
       "      <td>2048914</td>\n",
       "    </tr>\n",
       "  </tbody>\n",
       "</table>\n",
       "</div>"
      ],
      "text/plain": [
       "        월별 송장건수\n",
       "날짜             \n",
       "19년_2월  1627147\n",
       "19년_3월  1977310\n",
       "19년_4월  2010280\n",
       "19년_5월  2048914"
      ]
     },
     "execution_count": 339,
     "metadata": {},
     "output_type": "execute_result"
    }
   ],
   "source": [
    "logistic_data_2019_edit=logistic_data_2019.drop(['DL_YMD'],axis=1)\n",
    "logistic_data_2019_pivot=logistic_data_2019_edit.pivot_table(index='날짜',\n",
    "                                                             values='INVC_CONT',\n",
    "                                                             aggfunc=np.sum)\n",
    "logistic_data_2019_pivot.rename(columns={'INVC_CONT':'월별 송장건수'},inplace=True)\n",
    "logistic_data_2019_pivot"
   ]
  },
  {
   "cell_type": "markdown",
   "metadata": {},
   "source": [
    "20년도의 월별 송장 건수"
   ]
  },
  {
   "cell_type": "code",
   "execution_count": 340,
   "metadata": {},
   "outputs": [],
   "source": [
    "logistic_data_2020=logistic_data[(logistic_data['DL_YMD']>=200201)&(logistic_data['DL_YMD']<=200531)].drop(['DL_GD_LCLS_NM','DL_GD_LCLS_CD','CTPV_NM','CTPV_CD','CTGG_NM','CTGG_CD','HDNG_NM','HDNG_CD'], axis=1)\n",
    "conditions=[(logistic_data_2020['DL_YMD']>=200201)&(logistic_data_2020['DL_YMD']<=200231),\n",
    "            (logistic_data_2020['DL_YMD']>=200301)&(logistic_data_2020['DL_YMD']<=200331),\n",
    "           (logistic_data_2020['DL_YMD']>=200401)&(logistic_data_2020['DL_YMD']<=200431),\n",
    "           (logistic_data_2020['DL_YMD']>=200501)&(logistic_data_2020['DL_YMD']<=200531)]\n",
    "choices=['20년_2월', '20년_3월', '20년_4월', '20년_5월']\n",
    "logistic_data_2020['날짜']=np.select(conditions, choices)"
   ]
  },
  {
   "cell_type": "code",
   "execution_count": 341,
   "metadata": {},
   "outputs": [
    {
     "data": {
      "text/html": [
       "<div>\n",
       "<style scoped>\n",
       "    .dataframe tbody tr th:only-of-type {\n",
       "        vertical-align: middle;\n",
       "    }\n",
       "\n",
       "    .dataframe tbody tr th {\n",
       "        vertical-align: top;\n",
       "    }\n",
       "\n",
       "    .dataframe thead th {\n",
       "        text-align: right;\n",
       "    }\n",
       "</style>\n",
       "<table border=\"1\" class=\"dataframe\">\n",
       "  <thead>\n",
       "    <tr style=\"text-align: right;\">\n",
       "      <th></th>\n",
       "      <th>월별 송장건수</th>\n",
       "    </tr>\n",
       "    <tr>\n",
       "      <th>날짜</th>\n",
       "      <th></th>\n",
       "    </tr>\n",
       "  </thead>\n",
       "  <tbody>\n",
       "    <tr>\n",
       "      <th>20년_2월</th>\n",
       "      <td>2348916</td>\n",
       "    </tr>\n",
       "    <tr>\n",
       "      <th>20년_3월</th>\n",
       "      <td>2764249</td>\n",
       "    </tr>\n",
       "    <tr>\n",
       "      <th>20년_4월</th>\n",
       "      <td>2438587</td>\n",
       "    </tr>\n",
       "    <tr>\n",
       "      <th>20년_5월</th>\n",
       "      <td>2610071</td>\n",
       "    </tr>\n",
       "  </tbody>\n",
       "</table>\n",
       "</div>"
      ],
      "text/plain": [
       "        월별 송장건수\n",
       "날짜             \n",
       "20년_2월  2348916\n",
       "20년_3월  2764249\n",
       "20년_4월  2438587\n",
       "20년_5월  2610071"
      ]
     },
     "execution_count": 341,
     "metadata": {},
     "output_type": "execute_result"
    }
   ],
   "source": [
    "logistic_data_2020_edit=logistic_data_2020.drop(['DL_YMD'],axis=1)\n",
    "logistic_data_2020_pivot=logistic_data_2020_edit.pivot_table(index='날짜',\n",
    "                                                             values='INVC_CONT',\n",
    "                                                             aggfunc=np.sum)\n",
    "logistic_data_2020_pivot.rename(columns={'INVC_CONT':'월별 송장건수'},inplace=True)\n",
    "logistic_data_2020_pivot"
   ]
  },
  {
   "cell_type": "code",
   "execution_count": 342,
   "metadata": {},
   "outputs": [],
   "source": [
    "logistic_data_2020=logistic_data[(logistic_data['DL_YMD']>=200201)&(logistic_data['DL_YMD']<=200531)].drop(['DL_GD_LCLS_NM','DL_GD_LCLS_CD','CTPV_NM','CTPV_CD','CTGG_NM','CTGG_CD','HDNG_NM','HDNG_CD'], axis=1)\n",
    "conditions=[(logistic_data_2020['DL_YMD']>=200201)&(logistic_data_2020['DL_YMD']<=200231),\n",
    "            (logistic_data_2020['DL_YMD']>=200301)&(logistic_data_2020['DL_YMD']<=200331),\n",
    "           (logistic_data_2020['DL_YMD']>=200401)&(logistic_data_2020['DL_YMD']<=200431),\n",
    "           (logistic_data_2020['DL_YMD']>=200501)&(logistic_data_2020['DL_YMD']<=200531)]\n",
    "choices=['20년_2월', '20년_3월', '20년_4월', '20년_5월']\n",
    "logistic_data_2020['날짜']=np.select(conditions, choices)"
   ]
  },
  {
   "cell_type": "code",
   "execution_count": 343,
   "metadata": {
    "scrolled": false
   },
   "outputs": [
    {
     "data": {
      "image/png": "[encoded data removed]",
      "text/plain": [
       "<Figure size 936x432 with 1 Axes>"
      ]
     },
     "metadata": {
      "needs_background": "light"
     },
     "output_type": "display_data"
    }
   ],
   "source": [
    "plt.figure(figsize=(13, 6))\n",
    "ax=plt.plot(['2월','3월','4월','5월'],logistic_data_2020_pivot['월별 송장건수'], label='2020')\n",
    "ax=plt.plot(['2월','3월','4월','5월'],logistic_data_2019_pivot['월별 송장건수'], label='2019')\n",
    "ax=plt.xlabel('Month')\n",
    "ax=plt.ylabel('송장건수')\n",
    "ax=plt.title('월별 송장 건수')\n",
    "plt.legend()\n",
    "plt.show()"
   ]
  },
  {
   "attachments": {},
   "cell_type": "markdown",
   "metadata": {},
   "source": [
    "### 기존의 택배 확산세 고려한 분석\n",
    "국가물류통합정보센터에 따르면, 택배산업은 2012년~2019년 평균 10% 성장하고 있다. 이를 고려해 코로나가 없다고 가정한 2020년의 예측 송장 건수와 실제 송장 건수를 비교해보자"
   ]
  },
  {
   "cell_type": "code",
   "execution_count": 344,
   "metadata": {
    "scrolled": false
   },
   "outputs": [
    {
     "data": {
      "image/png": "[encoded data removed]",
      "text/plain": [
       "<Figure size 720x288 with 1 Axes>"
      ]
     },
     "metadata": {
      "needs_background": "light"
     },
     "output_type": "display_data"
    }
   ],
   "source": [
    "logistic_data = pd.read_excel('./2020빅콘테스트 문제데이터(혁신아이디어분야) (2)./05_물류데이터(CJ올리브네트웍스)./2020 빅콘테스트_CJ올리브네트웍스_제공DB.xlsx')\n",
    "Logistics=pd.read_excel('./01_parcelServiceLogistics.xlsx')\n",
    "# 국가물류통합정보센터-물류통계-생활물류통계-택배 물동량 추이 데이터\n",
    "\n",
    "logistic_data=logistic_data[['DL_YMD','INVC_CONT']]\n",
    "# 2020 빅콘테스트_CJ올리브네트웍스_제공DB 데이터의 일자별 송장건수 데이터 추출\n",
    "\n",
    "data = logistic_data.set_index(\"DL_YMD\", append=False)\n",
    "\n",
    "data1 = data.groupby(by=['DL_YMD']).sum()\n",
    "\n",
    "data1=data1.reset_index()\n",
    "data1[\"DL_YMD\"]=pd.to_datetime(data1[\"DL_YMD\"],format=\"%y%m%d\")\n",
    "\n",
    "dataa=data1.set_index('DL_YMD')\n",
    "\n",
    "data2 = dataa.resample('MS').sum()\n",
    "# 추출한 일자별 송장건수 데이터를 월별 합으로 묶음\n",
    "\n",
    "growth_rate = Logistics['Unnamed: 8'][4:12].mean()\n",
    "# 택배 물동량 추이 데이터의 12년도부터 19년도까지의 YoY 성장률의 평균값\n",
    "\n",
    "data_19 = data2[0:4]\n",
    "\n",
    "exp_20 = data_19*(1+growth_rate)\n",
    "# 코로나 상황을 무시한 2020년 예상 택배 물동량\n",
    "\n",
    "data_20 = data2[12:17]\n",
    "\n",
    "plt.plot(['2월','3월','4월', '5월'], exp_20, label='2020예상')\n",
    "plt.plot(['2월','3월','4월', '5월'], data_19, label='2019')\n",
    "plt.plot(['2월','3월','4월', '5월'], data_20, label='2020')\n",
    "plt.xlabel('month')\n",
    "plt.ylabel('invoice')\n",
    "plt.title('월별 송장 건수')\n",
    "\n",
    "plt.legend()\n",
    "plt.show()"
   ]
  },
  {
   "cell_type": "markdown",
   "metadata": {},
   "source": [
    "기존의 택배 확산세를 고려한 예측값보다 훨씬 더 많은 택배가 발생했다.  \n",
    "이른 코로나 때문으로 보인다.  \n",
    "  \n",
    "그렇다면, 코로나 확산세에 따른 택배량 변화를 분석해보자"
   ]
  },
  {
   "cell_type": "markdown",
   "metadata": {},
   "source": [
    "# 1. 코로나 확산세와 송장 건수 상관도 분석\n",
    "    - 보건복지부_코로나19 시·도발생_현황 (공공데이터)\n",
    "    - 물류데이터(CJ올리브네트웍스)\n",
    "코로나 확산세에 따른 송장 건수의 변화 예측 모델 만들기\n",
    "\n",
    "f(코로나 확산세)=송장 건수\n"
   ]
  },
  {
   "cell_type": "markdown",
   "metadata": {},
   "source": [
    "## 2020년 2월~5월의 서울시 코로나 일일 확진자 데이터 분석  "
   ]
  },
  {
   "cell_type": "code",
   "execution_count": 345,
   "metadata": {
    "scrolled": true
   },
   "outputs": [
    {
     "data": {
      "text/html": [
       "<div>\n",
       "<style scoped>\n",
       "    .dataframe tbody tr th:only-of-type {\n",
       "        vertical-align: middle;\n",
       "    }\n",
       "\n",
       "    .dataframe tbody tr th {\n",
       "        vertical-align: top;\n",
       "    }\n",
       "\n",
       "    .dataframe thead th {\n",
       "        text-align: right;\n",
       "    }\n",
       "</style>\n",
       "<table border=\"1\" class=\"dataframe\">\n",
       "  <thead>\n",
       "    <tr style=\"text-align: right;\">\n",
       "      <th></th>\n",
       "      <th>0</th>\n",
       "      <th>1</th>\n",
       "      <th>2</th>\n",
       "      <th>3</th>\n",
       "      <th>4</th>\n",
       "      <th>5</th>\n",
       "      <th>6</th>\n",
       "      <th>7</th>\n",
       "      <th>8</th>\n",
       "      <th>9</th>\n",
       "      <th>10</th>\n",
       "      <th>11</th>\n",
       "      <th>12</th>\n",
       "      <th>13</th>\n",
       "    </tr>\n",
       "  </thead>\n",
       "  <tbody>\n",
       "    <tr>\n",
       "      <th>0</th>\n",
       "      <td>연번</td>\n",
       "      <td>확진일</td>\n",
       "      <td>환자번호</td>\n",
       "      <td>국적</td>\n",
       "      <td>환자정보</td>\n",
       "      <td>지역</td>\n",
       "      <td>여행력</td>\n",
       "      <td>접촉력</td>\n",
       "      <td>조치사항</td>\n",
       "      <td>상태</td>\n",
       "      <td>이동경로</td>\n",
       "      <td>등록일</td>\n",
       "      <td>수정일</td>\n",
       "      <td>노출여부</td>\n",
       "    </tr>\n",
       "    <tr>\n",
       "      <th>1</th>\n",
       "      <td>1</td>\n",
       "      <td>1.24.</td>\n",
       "      <td>#2</td>\n",
       "      <td>한국인</td>\n",
       "      <td>남(?64)</td>\n",
       "      <td>강서구</td>\n",
       "      <td>중국 우한시</td>\n",
       "      <td>해외 접촉</td>\n",
       "      <td>국립중앙의료원</td>\n",
       "      <td>퇴원</td>\n",
       "      <td>이동경로 공개기간 경과</td>\n",
       "      <td>2020-08-19 14:49</td>\n",
       "      <td>2020-08-19 14:49</td>\n",
       "      <td>Y</td>\n",
       "    </tr>\n",
       "    <tr>\n",
       "      <th>2</th>\n",
       "      <td>2</td>\n",
       "      <td>1.30.</td>\n",
       "      <td>#5</td>\n",
       "      <td>한국인</td>\n",
       "      <td>남(?87)</td>\n",
       "      <td>중랑구</td>\n",
       "      <td>중국 우한시</td>\n",
       "      <td>해외 접촉</td>\n",
       "      <td>서울의료원</td>\n",
       "      <td>퇴원</td>\n",
       "      <td>이동경로 공개기간 경과</td>\n",
       "      <td>2020-08-19 14:49</td>\n",
       "      <td>2020-08-19 14:49</td>\n",
       "      <td>Y</td>\n",
       "    </tr>\n",
       "    <tr>\n",
       "      <th>3</th>\n",
       "      <td>3</td>\n",
       "      <td>1.30.</td>\n",
       "      <td>#6</td>\n",
       "      <td>한국인</td>\n",
       "      <td>남(?64)</td>\n",
       "      <td>종로구</td>\n",
       "      <td>NaN</td>\n",
       "      <td>#3 접촉</td>\n",
       "      <td>서울대학교병원</td>\n",
       "      <td>퇴원</td>\n",
       "      <td>이동경로 공개기간 경과</td>\n",
       "      <td>2020-08-19 14:49</td>\n",
       "      <td>2020-08-19 14:49</td>\n",
       "      <td>Y</td>\n",
       "    </tr>\n",
       "    <tr>\n",
       "      <th>4</th>\n",
       "      <td>4</td>\n",
       "      <td>1.30.</td>\n",
       "      <td>#7</td>\n",
       "      <td>한국인</td>\n",
       "      <td>남(?91)</td>\n",
       "      <td>마포구</td>\n",
       "      <td>중국 우한시</td>\n",
       "      <td>해외 접촉</td>\n",
       "      <td>서울의료원</td>\n",
       "      <td>퇴원</td>\n",
       "      <td>이동경로 공개기간 경과</td>\n",
       "      <td>2020-08-19 14:49</td>\n",
       "      <td>2020-08-19 14:49</td>\n",
       "      <td>Y</td>\n",
       "    </tr>\n",
       "    <tr>\n",
       "      <th>...</th>\n",
       "      <td>...</td>\n",
       "      <td>...</td>\n",
       "      <td>...</td>\n",
       "      <td>...</td>\n",
       "      <td>...</td>\n",
       "      <td>...</td>\n",
       "      <td>...</td>\n",
       "      <td>...</td>\n",
       "      <td>...</td>\n",
       "      <td>...</td>\n",
       "      <td>...</td>\n",
       "      <td>...</td>\n",
       "      <td>...</td>\n",
       "      <td>...</td>\n",
       "    </tr>\n",
       "    <tr>\n",
       "      <th>2356</th>\n",
       "      <td>2356</td>\n",
       "      <td>8.18.</td>\n",
       "      <td>15955</td>\n",
       "      <td>한국인</td>\n",
       "      <td>남(`74)</td>\n",
       "      <td>기타</td>\n",
       "      <td>NaN</td>\n",
       "      <td>확인 중</td>\n",
       "      <td>배정중</td>\n",
       "      <td>NaN</td>\n",
       "      <td>확인 중</td>\n",
       "      <td>2020-08-19 14:49</td>\n",
       "      <td>2020-08-19 14:49</td>\n",
       "      <td>Y</td>\n",
       "    </tr>\n",
       "    <tr>\n",
       "      <th>2357</th>\n",
       "      <td>2357</td>\n",
       "      <td>8.18.</td>\n",
       "      <td>16023</td>\n",
       "      <td>한국인</td>\n",
       "      <td>여(`54)</td>\n",
       "      <td>기타</td>\n",
       "      <td>NaN</td>\n",
       "      <td>확인 중</td>\n",
       "      <td>배정중</td>\n",
       "      <td>NaN</td>\n",
       "      <td>확인 중</td>\n",
       "      <td>2020-08-19 14:49</td>\n",
       "      <td>2020-08-19 14:49</td>\n",
       "      <td>Y</td>\n",
       "    </tr>\n",
       "    <tr>\n",
       "      <th>2358</th>\n",
       "      <td>2358</td>\n",
       "      <td>8.18.</td>\n",
       "      <td>15958</td>\n",
       "      <td>한국인</td>\n",
       "      <td>남(`91)</td>\n",
       "      <td>기타</td>\n",
       "      <td>NaN</td>\n",
       "      <td>확인 중</td>\n",
       "      <td>배정중</td>\n",
       "      <td>NaN</td>\n",
       "      <td>확인 중</td>\n",
       "      <td>2020-08-19 14:49</td>\n",
       "      <td>2020-08-19 14:49</td>\n",
       "      <td>Y</td>\n",
       "    </tr>\n",
       "    <tr>\n",
       "      <th>2359</th>\n",
       "      <td>2359</td>\n",
       "      <td>8.18.</td>\n",
       "      <td>16053</td>\n",
       "      <td>한국인</td>\n",
       "      <td>여(`00)</td>\n",
       "      <td>기타</td>\n",
       "      <td>NaN</td>\n",
       "      <td>확인 중</td>\n",
       "      <td>배정중</td>\n",
       "      <td>NaN</td>\n",
       "      <td>확인 중</td>\n",
       "      <td>2020-08-19 14:49</td>\n",
       "      <td>2020-08-19 14:49</td>\n",
       "      <td>Y</td>\n",
       "    </tr>\n",
       "    <tr>\n",
       "      <th>2360</th>\n",
       "      <td>2360</td>\n",
       "      <td>8.18.</td>\n",
       "      <td>16047</td>\n",
       "      <td>한국인</td>\n",
       "      <td>남(`17)</td>\n",
       "      <td>기타</td>\n",
       "      <td>NaN</td>\n",
       "      <td>확인 중</td>\n",
       "      <td>배정중</td>\n",
       "      <td>NaN</td>\n",
       "      <td>확인 중</td>\n",
       "      <td>2020-08-19 14:49</td>\n",
       "      <td>2020-08-19 14:49</td>\n",
       "      <td>Y</td>\n",
       "    </tr>\n",
       "  </tbody>\n",
       "</table>\n",
       "<p>2361 rows × 14 columns</p>\n",
       "</div>"
      ],
      "text/plain": [
       "        0      1      2    3       4    5       6      7        8    9   \\\n",
       "0       연번    확진일   환자번호   국적    환자정보   지역     여행력    접촉력     조치사항   상태   \n",
       "1        1  1.24.     #2  한국인  남(?64)  강서구  중국 우한시  해외 접촉  국립중앙의료원   퇴원   \n",
       "2        2  1.30.     #5  한국인  남(?87)  중랑구  중국 우한시  해외 접촉    서울의료원   퇴원   \n",
       "3        3  1.30.     #6  한국인  남(?64)  종로구     NaN  #3 접촉  서울대학교병원   퇴원   \n",
       "4        4  1.30.     #7  한국인  남(?91)  마포구  중국 우한시  해외 접촉    서울의료원   퇴원   \n",
       "...    ...    ...    ...  ...     ...  ...     ...    ...      ...  ...   \n",
       "2356  2356  8.18.  15955  한국인  남(`74)   기타     NaN   확인 중      배정중  NaN   \n",
       "2357  2357  8.18.  16023  한국인  여(`54)   기타     NaN   확인 중      배정중  NaN   \n",
       "2358  2358  8.18.  15958  한국인  남(`91)   기타     NaN   확인 중      배정중  NaN   \n",
       "2359  2359  8.18.  16053  한국인  여(`00)   기타     NaN   확인 중      배정중  NaN   \n",
       "2360  2360  8.18.  16047  한국인  남(`17)   기타     NaN   확인 중      배정중  NaN   \n",
       "\n",
       "                10                11                12    13  \n",
       "0             이동경로               등록일               수정일  노출여부  \n",
       "1     이동경로 공개기간 경과  2020-08-19 14:49  2020-08-19 14:49     Y  \n",
       "2     이동경로 공개기간 경과  2020-08-19 14:49  2020-08-19 14:49     Y  \n",
       "3     이동경로 공개기간 경과  2020-08-19 14:49  2020-08-19 14:49     Y  \n",
       "4     이동경로 공개기간 경과  2020-08-19 14:49  2020-08-19 14:49     Y  \n",
       "...            ...               ...               ...   ...  \n",
       "2356          확인 중  2020-08-19 14:49  2020-08-19 14:49     Y  \n",
       "2357          확인 중  2020-08-19 14:49  2020-08-19 14:49     Y  \n",
       "2358          확인 중  2020-08-19 14:49  2020-08-19 14:49     Y  \n",
       "2359          확인 중  2020-08-19 14:49  2020-08-19 14:49     Y  \n",
       "2360          확인 중  2020-08-19 14:49  2020-08-19 14:49     Y  \n",
       "\n",
       "[2361 rows x 14 columns]"
      ]
     },
     "execution_count": 345,
     "metadata": {},
     "output_type": "execute_result"
    }
   ],
   "source": [
    "seoul = pd.read_csv('./서울시 코로나19 확진자 현황.csv', sep=',',thousands=',',  header=None)\n",
    "seoul"
   ]
  },
  {
   "cell_type": "code",
   "execution_count": 346,
   "metadata": {},
   "outputs": [],
   "source": [
    "day_num_feb = pd.Series(range(29))\n",
    "for i in range(1,30):\n",
    "    k = \"a=seoul[seoul[1]=='2.%d.']\"%i # 데이터에서 2월 x일 데이터프레임 뽑기\n",
    "    exec(k)\n",
    "    number = len(a) # 데이터프레임의 길이 = 2월 x일 확진자 수\n",
    "    day_num_feb[i-1]=number # x일의 확진자 수를 day_num_feb에 넣기\n",
    "day_num_feb=list(day_num_feb)\n",
    "\n",
    "day_num_mar = pd.Series(range(31))\n",
    "for i in range(1,32):\n",
    "    k = \"a=seoul[seoul[1]=='3.%d.']\"%i\n",
    "    exec(k)\n",
    "    number = len(a)\n",
    "    day_num_mar[i-1]=number\n",
    "day_num_mar=list(day_num_mar)\n",
    "\n",
    "day_num_apr = pd.Series(range(30))\n",
    "for i in range(1,31):\n",
    "    k = \"a=seoul[seoul[1]=='4.%d.']\"%i\n",
    "    exec(k)\n",
    "    number = len(a)\n",
    "    day_num_apr[i-1]=number\n",
    "day_num_apr=list(day_num_apr)\n",
    "\n",
    "day_num_may = pd.Series(range(31))\n",
    "for i in range(1,32):\n",
    "    k = \"a=seoul[seoul[1]=='5.%d.']\"%i\n",
    "    exec(k)\n",
    "    number = len(a)\n",
    "    day_num_may[i-1]=number\n",
    "day_num_may=list(day_num_may)"
   ]
  },
  {
   "cell_type": "markdown",
   "metadata": {},
   "source": [
    "서울시 코로나 일일 확진자를 리스트로 만든 것"
   ]
  },
  {
   "cell_type": "code",
   "execution_count": 347,
   "metadata": {},
   "outputs": [],
   "source": [
    "day_num_seoul_20=day_num_feb+day_num_mar+day_num_apr+day_num_may"
   ]
  },
  {
   "cell_type": "markdown",
   "metadata": {},
   "source": [
    "## 서울시 일일 코로나 확진자 추이(2월~5월)"
   ]
  },
  {
   "cell_type": "code",
   "execution_count": 348,
   "metadata": {},
   "outputs": [
    {
     "data": {
      "text/plain": [
       "Text(0.5, 1.0, 'seoul_confirmed')"
      ]
     },
     "execution_count": 348,
     "metadata": {},
     "output_type": "execute_result"
    },
    {
     "data": {
      "image/png": "[encoded data removed]",
      "text/plain": [
       "<Figure size 720x288 with 1 Axes>"
      ]
     },
     "metadata": {
      "needs_background": "light"
     },
     "output_type": "display_data"
    }
   ],
   "source": [
    "plt.plot(day_num_seoul_20)\n",
    "plt.title('seoul_confirmed')"
   ]
  },
  {
   "cell_type": "markdown",
   "metadata": {},
   "source": [
    "# 서울시 송장 건수 데이터 분석"
   ]
  },
  {
   "cell_type": "code",
   "execution_count": 349,
   "metadata": {
    "scrolled": true
   },
   "outputs": [
    {
     "data": {
      "text/html": [
       "<div>\n",
       "<style scoped>\n",
       "    .dataframe tbody tr th:only-of-type {\n",
       "        vertical-align: middle;\n",
       "    }\n",
       "\n",
       "    .dataframe tbody tr th {\n",
       "        vertical-align: top;\n",
       "    }\n",
       "\n",
       "    .dataframe thead th {\n",
       "        text-align: right;\n",
       "    }\n",
       "</style>\n",
       "<table border=\"1\" class=\"dataframe\">\n",
       "  <thead>\n",
       "    <tr style=\"text-align: right;\">\n",
       "      <th></th>\n",
       "      <th>DL_YMD</th>\n",
       "      <th>DL_GD_LCLS_NM</th>\n",
       "      <th>DL_GD_LCLS_CD</th>\n",
       "      <th>CTPV_NM</th>\n",
       "      <th>CTPV_CD</th>\n",
       "      <th>CTGG_NM</th>\n",
       "      <th>CTGG_CD</th>\n",
       "      <th>HDNG_NM</th>\n",
       "      <th>HDNG_CD</th>\n",
       "      <th>INVC_CONT</th>\n",
       "    </tr>\n",
       "  </thead>\n",
       "  <tbody>\n",
       "    <tr>\n",
       "      <th>76893</th>\n",
       "      <td>200201</td>\n",
       "      <td>도서/음반</td>\n",
       "      <td>12</td>\n",
       "      <td>서울특별시</td>\n",
       "      <td>11</td>\n",
       "      <td>노원구</td>\n",
       "      <td>35</td>\n",
       "      <td>월계1동</td>\n",
       "      <td>560</td>\n",
       "      <td>24</td>\n",
       "    </tr>\n",
       "    <tr>\n",
       "      <th>76895</th>\n",
       "      <td>200201</td>\n",
       "      <td>가구/인테리어</td>\n",
       "      <td>10</td>\n",
       "      <td>서울특별시</td>\n",
       "      <td>11</td>\n",
       "      <td>노원구</td>\n",
       "      <td>35</td>\n",
       "      <td>상계3.4동</td>\n",
       "      <td>665</td>\n",
       "      <td>4</td>\n",
       "    </tr>\n",
       "    <tr>\n",
       "      <th>76897</th>\n",
       "      <td>200201</td>\n",
       "      <td>디지털/가전</td>\n",
       "      <td>13</td>\n",
       "      <td>서울특별시</td>\n",
       "      <td>11</td>\n",
       "      <td>노원구</td>\n",
       "      <td>35</td>\n",
       "      <td>상계6.7동</td>\n",
       "      <td>695</td>\n",
       "      <td>23</td>\n",
       "    </tr>\n",
       "    <tr>\n",
       "      <th>76902</th>\n",
       "      <td>200201</td>\n",
       "      <td>도서/음반</td>\n",
       "      <td>12</td>\n",
       "      <td>서울특별시</td>\n",
       "      <td>11</td>\n",
       "      <td>중구</td>\n",
       "      <td>14</td>\n",
       "      <td>신당제5동</td>\n",
       "      <td>650</td>\n",
       "      <td>16</td>\n",
       "    </tr>\n",
       "    <tr>\n",
       "      <th>76905</th>\n",
       "      <td>200201</td>\n",
       "      <td>식품</td>\n",
       "      <td>17</td>\n",
       "      <td>서울특별시</td>\n",
       "      <td>11</td>\n",
       "      <td>노원구</td>\n",
       "      <td>35</td>\n",
       "      <td>상계5동</td>\n",
       "      <td>670</td>\n",
       "      <td>17</td>\n",
       "    </tr>\n",
       "    <tr>\n",
       "      <th>...</th>\n",
       "      <td>...</td>\n",
       "      <td>...</td>\n",
       "      <td>...</td>\n",
       "      <td>...</td>\n",
       "      <td>...</td>\n",
       "      <td>...</td>\n",
       "      <td>...</td>\n",
       "      <td>...</td>\n",
       "      <td>...</td>\n",
       "      <td>...</td>\n",
       "    </tr>\n",
       "    <tr>\n",
       "      <th>156563</th>\n",
       "      <td>200531</td>\n",
       "      <td>패션잡화</td>\n",
       "      <td>20</td>\n",
       "      <td>서울특별시</td>\n",
       "      <td>11</td>\n",
       "      <td>중구</td>\n",
       "      <td>14</td>\n",
       "      <td>명동</td>\n",
       "      <td>550</td>\n",
       "      <td>9</td>\n",
       "    </tr>\n",
       "    <tr>\n",
       "      <th>156564</th>\n",
       "      <td>200531</td>\n",
       "      <td>화장품/미용</td>\n",
       "      <td>21</td>\n",
       "      <td>서울특별시</td>\n",
       "      <td>11</td>\n",
       "      <td>노원구</td>\n",
       "      <td>35</td>\n",
       "      <td>상계1동</td>\n",
       "      <td>630</td>\n",
       "      <td>39</td>\n",
       "    </tr>\n",
       "    <tr>\n",
       "      <th>156565</th>\n",
       "      <td>200531</td>\n",
       "      <td>출산/육아</td>\n",
       "      <td>18</td>\n",
       "      <td>서울특별시</td>\n",
       "      <td>11</td>\n",
       "      <td>노원구</td>\n",
       "      <td>35</td>\n",
       "      <td>상계10동</td>\n",
       "      <td>720</td>\n",
       "      <td>1</td>\n",
       "    </tr>\n",
       "    <tr>\n",
       "      <th>156567</th>\n",
       "      <td>200531</td>\n",
       "      <td>패션의류</td>\n",
       "      <td>19</td>\n",
       "      <td>서울특별시</td>\n",
       "      <td>11</td>\n",
       "      <td>중구</td>\n",
       "      <td>14</td>\n",
       "      <td>약수동</td>\n",
       "      <td>635</td>\n",
       "      <td>21</td>\n",
       "    </tr>\n",
       "    <tr>\n",
       "      <th>156569</th>\n",
       "      <td>200531</td>\n",
       "      <td>패션잡화</td>\n",
       "      <td>20</td>\n",
       "      <td>서울특별시</td>\n",
       "      <td>11</td>\n",
       "      <td>노원구</td>\n",
       "      <td>35</td>\n",
       "      <td>상계6.7동</td>\n",
       "      <td>695</td>\n",
       "      <td>25</td>\n",
       "    </tr>\n",
       "  </tbody>\n",
       "</table>\n",
       "<p>39468 rows × 10 columns</p>\n",
       "</div>"
      ],
      "text/plain": [
       "        DL_YMD DL_GD_LCLS_NM  DL_GD_LCLS_CD CTPV_NM  CTPV_CD CTGG_NM  CTGG_CD  \\\n",
       "76893   200201         도서/음반             12   서울특별시       11     노원구       35   \n",
       "76895   200201       가구/인테리어             10   서울특별시       11     노원구       35   \n",
       "76897   200201        디지털/가전             13   서울특별시       11     노원구       35   \n",
       "76902   200201         도서/음반             12   서울특별시       11      중구       14   \n",
       "76905   200201            식품             17   서울특별시       11     노원구       35   \n",
       "...        ...           ...            ...     ...      ...     ...      ...   \n",
       "156563  200531          패션잡화             20   서울특별시       11      중구       14   \n",
       "156564  200531        화장품/미용             21   서울특별시       11     노원구       35   \n",
       "156565  200531         출산/육아             18   서울특별시       11     노원구       35   \n",
       "156567  200531          패션의류             19   서울특별시       11      중구       14   \n",
       "156569  200531          패션잡화             20   서울특별시       11     노원구       35   \n",
       "\n",
       "       HDNG_NM  HDNG_CD  INVC_CONT  \n",
       "76893     월계1동      560         24  \n",
       "76895   상계3.4동      665          4  \n",
       "76897   상계6.7동      695         23  \n",
       "76902    신당제5동      650         16  \n",
       "76905     상계5동      670         17  \n",
       "...        ...      ...        ...  \n",
       "156563      명동      550          9  \n",
       "156564    상계1동      630         39  \n",
       "156565   상계10동      720          1  \n",
       "156567     약수동      635         21  \n",
       "156569  상계6.7동      695         25  \n",
       "\n",
       "[39468 rows x 10 columns]"
      ]
     },
     "execution_count": 349,
     "metadata": {},
     "output_type": "execute_result"
    }
   ],
   "source": [
    "logistic_data = pd.read_excel('./2020빅콘테스트 문제데이터(혁신아이디어분야) (2)./05_물류데이터(CJ올리브네트웍스)./2020 빅콘테스트_CJ올리브네트웍스_제공DB.xlsx')\n",
    "logistic_data_seoul=logistic_data[(logistic_data['CTPV_NM']=='서울특별시')&(logistic_data['DL_YMD']>=200201)]\n",
    "logistic_data_seoul"
   ]
  },
  {
   "cell_type": "code",
   "execution_count": 350,
   "metadata": {
    "scrolled": true
   },
   "outputs": [
    {
     "data": {
      "text/html": [
       "<div>\n",
       "<style scoped>\n",
       "    .dataframe tbody tr th:only-of-type {\n",
       "        vertical-align: middle;\n",
       "    }\n",
       "\n",
       "    .dataframe tbody tr th {\n",
       "        vertical-align: top;\n",
       "    }\n",
       "\n",
       "    .dataframe thead th {\n",
       "        text-align: right;\n",
       "    }\n",
       "</style>\n",
       "<table border=\"1\" class=\"dataframe\">\n",
       "  <thead>\n",
       "    <tr style=\"text-align: right;\">\n",
       "      <th></th>\n",
       "      <th>서울 일일 송장건수</th>\n",
       "    </tr>\n",
       "  </thead>\n",
       "  <tbody>\n",
       "    <tr>\n",
       "      <th>2020-02-01</th>\n",
       "      <td>8969</td>\n",
       "    </tr>\n",
       "    <tr>\n",
       "      <th>2020-02-02</th>\n",
       "      <td>8121</td>\n",
       "    </tr>\n",
       "    <tr>\n",
       "      <th>2020-02-03</th>\n",
       "      <td>95777</td>\n",
       "    </tr>\n",
       "    <tr>\n",
       "      <th>2020-02-04</th>\n",
       "      <td>61582</td>\n",
       "    </tr>\n",
       "    <tr>\n",
       "      <th>2020-02-05</th>\n",
       "      <td>55682</td>\n",
       "    </tr>\n",
       "    <tr>\n",
       "      <th>...</th>\n",
       "      <td>...</td>\n",
       "    </tr>\n",
       "    <tr>\n",
       "      <th>2020-05-27</th>\n",
       "      <td>61737</td>\n",
       "    </tr>\n",
       "    <tr>\n",
       "      <th>2020-05-28</th>\n",
       "      <td>59298</td>\n",
       "    </tr>\n",
       "    <tr>\n",
       "      <th>2020-05-29</th>\n",
       "      <td>53479</td>\n",
       "    </tr>\n",
       "    <tr>\n",
       "      <th>2020-05-30</th>\n",
       "      <td>7094</td>\n",
       "    </tr>\n",
       "    <tr>\n",
       "      <th>2020-05-31</th>\n",
       "      <td>5021</td>\n",
       "    </tr>\n",
       "  </tbody>\n",
       "</table>\n",
       "<p>121 rows × 1 columns</p>\n",
       "</div>"
      ],
      "text/plain": [
       "            서울 일일 송장건수\n",
       "2020-02-01        8969\n",
       "2020-02-02        8121\n",
       "2020-02-03       95777\n",
       "2020-02-04       61582\n",
       "2020-02-05       55682\n",
       "...                ...\n",
       "2020-05-27       61737\n",
       "2020-05-28       59298\n",
       "2020-05-29       53479\n",
       "2020-05-30        7094\n",
       "2020-05-31        5021\n",
       "\n",
       "[121 rows x 1 columns]"
      ]
     },
     "execution_count": 350,
     "metadata": {},
     "output_type": "execute_result"
    }
   ],
   "source": [
    "#서울 20년도 송장건수 데이터를 일별로 더해 데이터 프레임으로 생성\n",
    "\n",
    "logistic_data_seoul=logistic_data_seoul.groupby(['DL_YMD'], as_index=False).sum().drop(['DL_YMD', 'DL_GD_LCLS_CD', 'CTPV_CD', 'CTGG_CD', 'HDNG_CD'], axis=1)\n",
    "\n",
    "date_range=pd.date_range('2020-02-01', periods=121)\n",
    "logistic_data_seoul.set_index(date_range, inplace=True)\n",
    "logistic_data_seoul.rename(columns={'INVC_CONT': '서울 일일 송장건수'}, inplace=True)\n",
    "logistic_data_seoul"
   ]
  },
  {
   "cell_type": "markdown",
   "metadata": {},
   "source": [
    "### 서울시 일일 송장 건수"
   ]
  },
  {
   "cell_type": "markdown",
   "metadata": {},
   "source": [
    "일일 송장 건수를 리스트형태로 바꾼 것"
   ]
  },
  {
   "cell_type": "code",
   "execution_count": 351,
   "metadata": {},
   "outputs": [],
   "source": [
    "day_inv_seoul_20 = list(logistic_data_seoul['서울 일일 송장건수'].values)"
   ]
  },
  {
   "cell_type": "code",
   "execution_count": 352,
   "metadata": {
    "scrolled": true
   },
   "outputs": [
    {
     "data": {
      "text/plain": [
       "<matplotlib.axes._subplots.AxesSubplot at 0x2c13712cf98>"
      ]
     },
     "execution_count": 352,
     "metadata": {},
     "output_type": "execute_result"
    },
    {
     "data": {
      "image/png": "[encoded data removed]",
      "text/plain": [
       "<Figure size 1008x360 with 1 Axes>"
      ]
     },
     "metadata": {
      "needs_background": "light"
     },
     "output_type": "display_data"
    }
   ],
   "source": [
    "plt.figure(figsize=(14, 5))\n",
    "sns.lineplot(data=logistic_data_seoul)"
   ]
  },
  {
   "cell_type": "markdown",
   "metadata": {},
   "source": [
    "#### 주말에는 택배 배송량이 급감하므로 일일 배송량이 아닌 주간 배송량으로 교체  \n",
    "2월 1,2일은 주말이여서 편의상 2월 3일부터 데이터 분석 시작  \n",
    "5월 31일은 일요일이여서 교체할 필요x"
   ]
  },
  {
   "cell_type": "code",
   "execution_count": 353,
   "metadata": {},
   "outputs": [],
   "source": [
    "day_inv_con_seoul_20 = day_inv_seoul_20[2:]"
   ]
  },
  {
   "cell_type": "code",
   "execution_count": 354,
   "metadata": {},
   "outputs": [
    {
     "name": "stdout",
     "output_type": "stream",
     "text": [
      "2020년 2월~5월 서울시 주간 송장 건수\n",
      " [331653, 317639, 315361, 369923, 379571, 358675, 342580, 337261, 341308, 338457, 318884, 343574, 285466, 367233, 364869, 360065, 353648]\n"
     ]
    }
   ],
   "source": [
    "week_inv_seoul_20=[]\n",
    "for i in range(0,int(len(day_inv_con_seoul_20)),7):\n",
    "    week_inv_seoul_20.append(sum(day_inv_con_seoul_20[i:i+7]))\n",
    "print('2020년 2월~5월 서울시 주간 송장 건수\\n', week_inv_seoul_20)"
   ]
  },
  {
   "cell_type": "markdown",
   "metadata": {},
   "source": [
    "서울시 주간 송장 건수"
   ]
  },
  {
   "cell_type": "code",
   "execution_count": 355,
   "metadata": {},
   "outputs": [
    {
     "data": {
      "image/png": "[encoded data removed]",
      "text/plain": [
       "<Figure size 720x288 with 1 Axes>"
      ]
     },
     "metadata": {
      "needs_background": "light"
     },
     "output_type": "display_data"
    }
   ],
   "source": [
    "plt.plot(week_17, week_inv_seoul_20)\n",
    "plt.title('서울 주간 송장 건수')\n",
    "plt.xlabel('week')\n",
    "plt.ylabel('inv')\n",
    "plt.show()"
   ]
  },
  {
   "cell_type": "markdown",
   "metadata": {},
   "source": [
    "#### 서울시 일별 코로나 확진자 수 -> 주간 확진자 수로 교체  \n",
    "마찬가지로 2월 3일부터 시작"
   ]
  },
  {
   "cell_type": "code",
   "execution_count": 356,
   "metadata": {},
   "outputs": [
    {
     "name": "stdout",
     "output_type": "stream",
     "text": [
      "2020년 2월~5월 서울시 주간 확진자 수\n",
      " [4, 2, 17, 62, 37, 124, 76, 105, 128, 47, 15, 4, 8, 51, 48, 39, 87]\n"
     ]
    }
   ],
   "source": [
    "day_num_con_seoul_20 = day_num_seoul_20[2:]\n",
    "\n",
    "week_num_seoul_20=[]\n",
    "for i in range(0,int(len(day_num_seoul_20))-7,7):\n",
    "    week_num_seoul_20.append(sum(day_num_con_seoul_20[i:i+7]))\n",
    "print('2020년 2월~5월 서울시 주간 확진자 수\\n', week_num_seoul_20)"
   ]
  },
  {
   "cell_type": "markdown",
   "metadata": {},
   "source": [
    "#### 서울시 주간 확진자 수"
   ]
  },
  {
   "cell_type": "code",
   "execution_count": 357,
   "metadata": {
    "scrolled": true
   },
   "outputs": [
    {
     "data": {
      "image/png": "[encoded data removed]",
      "text/plain": [
       "<Figure size 720x288 with 1 Axes>"
      ]
     },
     "metadata": {
      "needs_background": "light"
     },
     "output_type": "display_data"
    }
   ],
   "source": [
    "plt.plot(week_num_seoul_20)\n",
    "plt.title('week_num_seoul')\n",
    "plt.xlabel('week')\n",
    "plt.ylabel('num')\n",
    "plt.show()"
   ]
  },
  {
   "cell_type": "markdown",
   "metadata": {},
   "source": [
    "## 요일에 따른 송장 건수 분석"
   ]
  },
  {
   "cell_type": "code",
   "execution_count": 358,
   "metadata": {},
   "outputs": [
    {
     "name": "stdout",
     "output_type": "stream",
     "text": [
      "\n",
      "월요일 평균 송장 :  96476.94117647059\n",
      "화요일 평균 송장 :  59899.05882352941\n",
      "수요일 평균 송장 :  58811.35294117647\n",
      "목요일 평균 송장 :  56792.705882352944\n",
      "금요일 평균 송장 :  53510.117647058825\n",
      "토요일 평균 송장 :  9570.176470588236\n",
      "일요일 평균 송장 :  7655.35294117647\n",
      "\n",
      "평일 평균 송장 :  65098.035294117646\n",
      "주말 평균 송장 :  8612.764705882353\n"
     ]
    }
   ],
   "source": [
    "day_inv_con_seoul_weekday = []\n",
    "day_inv_con_seoul_mon = []\n",
    "day_inv_con_seoul_tue = []\n",
    "day_inv_con_seoul_wed = []\n",
    "day_inv_con_seoul_thu = []\n",
    "day_inv_con_seoul_fri = []\n",
    "day_inv_con_seoul_sat = []\n",
    "day_inv_con_seoul_sun = []\n",
    "for i in range(0,len(day_inv_con_seoul_20),7):\n",
    "    day_inv_con_seoul_weekday.append(day_inv_con_seoul_20[i])\n",
    "    day_inv_con_seoul_weekday.append(day_inv_con_seoul_20[i+1])\n",
    "    day_inv_con_seoul_weekday.append(day_inv_con_seoul_20[i+2])\n",
    "    day_inv_con_seoul_weekday.append(day_inv_con_seoul_20[i+3])\n",
    "    day_inv_con_seoul_weekday.append(day_inv_con_seoul_20[i+4])\n",
    "    \n",
    "    day_inv_con_seoul_mon.append(day_inv_con_seoul_20[i])\n",
    "    day_inv_con_seoul_tue.append(day_inv_con_seoul_20[i+1])\n",
    "    day_inv_con_seoul_wed.append(day_inv_con_seoul_20[i+2])\n",
    "    day_inv_con_seoul_thu.append(day_inv_con_seoul_20[i+3])\n",
    "    day_inv_con_seoul_fri.append(day_inv_con_seoul_20[i+4])\n",
    "    \n",
    "#plt.plot(day_inv_con_seoul_weekday)\n",
    "#plt.title('서울 평일 송장 건수')\n",
    "avg_inv_weekday = sum(day_inv_con_seoul_weekday)/len(day_inv_con_seoul_weekday)\n",
    "\n",
    "day_inv_con_seoul_weekend = []\n",
    "for i in range(0,len(day_inv_con_seoul_20),7):\n",
    "    day_inv_con_seoul_weekend.append(day_inv_con_seoul_20[i+5])\n",
    "    day_inv_con_seoul_weekend.append(day_inv_con_seoul_20[i+6])\n",
    "    \n",
    "    day_inv_con_seoul_sat.append(day_inv_con_seoul_20[i+5])\n",
    "    day_inv_con_seoul_sun.append(day_inv_con_seoul_20[i+6])\n",
    "avg_inv_weekend =  sum(day_inv_con_seoul_weekend)/len(day_inv_con_seoul_weekend)\n",
    "print()\n",
    "\n",
    "print('월요일 평균 송장 : ', sum(day_inv_con_seoul_mon)/len(day_inv_con_seoul_mon))\n",
    "print('화요일 평균 송장 : ', sum(day_inv_con_seoul_tue)/len(day_inv_con_seoul_tue))\n",
    "print('수요일 평균 송장 : ', sum(day_inv_con_seoul_wed)/len(day_inv_con_seoul_wed))\n",
    "print('목요일 평균 송장 : ', sum(day_inv_con_seoul_thu)/len(day_inv_con_seoul_thu))\n",
    "print('금요일 평균 송장 : ', sum(day_inv_con_seoul_fri)/len(day_inv_con_seoul_fri))\n",
    "print('토요일 평균 송장 : ', sum(day_inv_con_seoul_sat)/len(day_inv_con_seoul_sat))\n",
    "print('일요일 평균 송장 : ', sum(day_inv_con_seoul_sun)/len(day_inv_con_seoul_sun))\n",
    "print()\n",
    "print('평일 평균 송장 : ', avg_inv_weekday)\n",
    "print('주말 평균 송장 : ', avg_inv_weekend)\n"
   ]
  },
  {
   "cell_type": "markdown",
   "metadata": {},
   "source": [
    "#### 공휴일, 주말물량은 평일의 13%  \n",
    "#### 월요일 물량은 화수목금의 170%  \n",
    "\n",
    "주간 배송량을 100으로 둔다면,\n",
    "#### 월28 화17 수17 목17 금17 토2 일2 = 100 이라고 볼 수 있다.\n"
   ]
  },
  {
   "cell_type": "code",
   "execution_count": 359,
   "metadata": {},
   "outputs": [
    {
     "data": {
      "text/plain": [
       "[<matplotlib.lines.Line2D at 0x2c137b95be0>]"
      ]
     },
     "execution_count": 359,
     "metadata": {},
     "output_type": "execute_result"
    },
    {
     "data": {
      "image/png": "[encoded data removed]",
      "text/plain": [
       "<Figure size 720x288 with 1 Axes>"
      ]
     },
     "metadata": {
      "needs_background": "light"
     },
     "output_type": "display_data"
    }
   ],
   "source": [
    "plt.plot(logistic_data_seoul[70:100])"
   ]
  },
  {
   "cell_type": "markdown",
   "metadata": {},
   "source": [
    "위의 그래프를 보면 4/15 선거, 5/5 어린이날에 물량이 주말 수준으로 감소하는 것을 알 수 있다.  \n",
    "#### 공휴일에는 주말수준인 평일의 13%만 배송한다는 것이다.  \n",
    "#### 또한 다음날에는 기존 화수목금 수준이 아닌, 월요일에 준하는 수준으로 증가한다.  \n",
    "4/30일도 부처님오신날로서 물량이 감소했지만 다음날이 5/1(근로자의날)이여서 일부는 쉰 것으로 보여서 이부분은 고려하지 않았다.\n",
    "  \n",
    "따라서 화요일에 공휴일이 있다고 가정하면  \n",
    "월28 화2 수28 목17 금17 토2 일2 = 96  이렇게 요일별 배송량이 변하므로  \n",
    "#### 평소보다 주간 배송량 4% 감소, 반사효과로 다음 주의 배송량이 4% 증가함을 유추할 수 있다.\n",
    "(공휴일이 있으면 택배 배송은 쉬지만, 사람들이 물량을 덜 시키지는 않으므로)  \n",
    "-> 공휴일의 발생으로 인한 주간 배송량 차이를 없애려면 보정 필요하다.  \n",
    "코로나로 인한 택배물량의 변동을 알기 위해선 다른 변인들을 통제해야 하기 때문이다."
   ]
  },
  {
   "cell_type": "markdown",
   "metadata": {},
   "source": [
    "#### 2020년의 공휴일  \n",
    "   \n",
    "   \n",
    "4/15 선거(11주차), 4/30 부처님오신날(13주차), 5/5어린이날(14주차) \n",
    "   \n",
    "이 주차들은 코로나가 아닌 공휴일의 영향을 받아 배송량이 4%씩 감소한 주이므로,  \n",
    "배송량을 4%씩 인위적으로 늘리고,  \n",
    "각 주의 다음 주는 배송량을 4%씩 줄이는 보정작업 실시"
   ]
  },
  {
   "cell_type": "markdown",
   "metadata": {},
   "source": [
    "엄밀히 말하면 4%가 감소한 것을 원래 수준으로 맞추기 위해선 4%를 늘리는 것이 아니라, 100/96*100-100=4.16% 를 늘려야 하고,   \n",
    "마찬가지로 4%가 증가한 것을 원래 수준으로 맞추기 위해선 ㅣ100/104x100-100ㅣ= 3.85%를 줄여야 하지만,  \n",
    "편의상 4%로 통일하였다."
   ]
  },
  {
   "cell_type": "code",
   "execution_count": 360,
   "metadata": {},
   "outputs": [],
   "source": [
    "week_inv_seoul_20_adj = []\n",
    "\n",
    "for i in range(17):\n",
    "    if i == 10:\n",
    "        week_inv_seoul_20_adj.append(int(week_inv_seoul_20[i]*1.04))\n",
    "    elif i == 11:\n",
    "        week_inv_seoul_20_adj.append(int(week_inv_seoul_20[i]*0.96))\n",
    "    elif i == 12:\n",
    "        week_inv_seoul_20_adj.append(int(week_inv_seoul_20[i]*1.04))\n",
    "    # 14주차(i==13)는 13주차 공휴일에 의한 영향이 14주차 어린이날에 의한 영향으로 상쇄\n",
    "    elif i == 14:\n",
    "        week_inv_seoul_20_adj.append(int(week_inv_seoul_20[i]*0.96))\n",
    "    else:\n",
    "        week_inv_seoul_20_adj.append(week_inv_seoul_20[i])"
   ]
  },
  {
   "cell_type": "code",
   "execution_count": 361,
   "metadata": {},
   "outputs": [
    {
     "data": {
      "image/png": "[encoded data removed]",
      "text/plain": [
       "<Figure size 720x288 with 1 Axes>"
      ]
     },
     "metadata": {
      "needs_background": "light"
     },
     "output_type": "display_data"
    }
   ],
   "source": [
    "plt.plot(week_inv_seoul_20_adj, label='보정 후')\n",
    "plt.plot(week_inv_seoul_20, label = '보정 전')\n",
    "plt.title('서울 주간 송장 건수')\n",
    "plt.legend()\n",
    "plt.show()"
   ]
  },
  {
   "cell_type": "markdown",
   "metadata": {},
   "source": [
    "\n",
    "### 19년도도 공휴일 보정 실시  \n",
    "19년도는 2월 29일이 없어 하루가 적기 때문에 2/2로 시작점을 하루 앞당겼고,  \n",
    "2/2이 토요일이므로 한 주의 주기가 토~금 이다 \n",
    "\n",
    "2019년의 공휴일  \n",
    "  \n",
    "1주차 설날(월화수 공휴일) - 이는 나중에 1,2주차는 통계에서 제외할 것이므로 계산에서 제외. 근거는 언급할 것이다.\n",
    "\n",
    "4주차[ 2/23(토)~3/1(금) ] 삼일절 - 한 주의 마지막에 공휴일이 있으므로 다음날 증가하는 배송량의 영향을 못받으므로 4%감소가 아니다  \n",
    "  \n",
    "  \n",
    "월28 화17 수17 목17 금17 토2 일2 = 100 에서  \n",
    "월28 화17 수17 목17 금2 토2 일2 = 85이므로 15% 감소\n",
    "\n",
    "따라서 4주차는 15% 증가시키고\n",
    "다음 주(5주차)는 15%감소시킨다\n",
    "\n",
    "14주차 어린이날 대체휴일 - 4%증가시키고, 15주차는 4%감소시킨다."
   ]
  },
  {
   "cell_type": "markdown",
   "metadata": {},
   "source": [
    "여기서도 15% 감소, 증가를 자세하게 계산하지 않고 위에서 4%로 통일한 것 처럼 15%로 계산했다."
   ]
  },
  {
   "cell_type": "markdown",
   "metadata": {},
   "source": [
    "## 19년도 서울 송장 건수"
   ]
  },
  {
   "cell_type": "code",
   "execution_count": 362,
   "metadata": {
    "scrolled": true
   },
   "outputs": [
    {
     "data": {
      "text/html": [
       "<div>\n",
       "<style scoped>\n",
       "    .dataframe tbody tr th:only-of-type {\n",
       "        vertical-align: middle;\n",
       "    }\n",
       "\n",
       "    .dataframe tbody tr th {\n",
       "        vertical-align: top;\n",
       "    }\n",
       "\n",
       "    .dataframe thead th {\n",
       "        text-align: right;\n",
       "    }\n",
       "</style>\n",
       "<table border=\"1\" class=\"dataframe\">\n",
       "  <thead>\n",
       "    <tr style=\"text-align: right;\">\n",
       "      <th></th>\n",
       "      <th>DL_YMD</th>\n",
       "      <th>DL_GD_LCLS_NM</th>\n",
       "      <th>DL_GD_LCLS_CD</th>\n",
       "      <th>CTPV_NM</th>\n",
       "      <th>CTPV_CD</th>\n",
       "      <th>CTGG_NM</th>\n",
       "      <th>CTGG_CD</th>\n",
       "      <th>HDNG_NM</th>\n",
       "      <th>HDNG_CD</th>\n",
       "      <th>INVC_CONT</th>\n",
       "    </tr>\n",
       "  </thead>\n",
       "  <tbody>\n",
       "    <tr>\n",
       "      <th>0</th>\n",
       "      <td>190201</td>\n",
       "      <td>도서/음반</td>\n",
       "      <td>12</td>\n",
       "      <td>서울특별시</td>\n",
       "      <td>11</td>\n",
       "      <td>중구</td>\n",
       "      <td>14</td>\n",
       "      <td>동화동</td>\n",
       "      <td>665</td>\n",
       "      <td>16</td>\n",
       "    </tr>\n",
       "    <tr>\n",
       "      <th>1</th>\n",
       "      <td>190201</td>\n",
       "      <td>가구/인테리어</td>\n",
       "      <td>10</td>\n",
       "      <td>서울특별시</td>\n",
       "      <td>11</td>\n",
       "      <td>중구</td>\n",
       "      <td>14</td>\n",
       "      <td>신당동</td>\n",
       "      <td>615</td>\n",
       "      <td>4</td>\n",
       "    </tr>\n",
       "    <tr>\n",
       "      <th>5</th>\n",
       "      <td>190201</td>\n",
       "      <td>도서/음반</td>\n",
       "      <td>12</td>\n",
       "      <td>서울특별시</td>\n",
       "      <td>11</td>\n",
       "      <td>중구</td>\n",
       "      <td>14</td>\n",
       "      <td>회현동</td>\n",
       "      <td>540</td>\n",
       "      <td>25</td>\n",
       "    </tr>\n",
       "    <tr>\n",
       "      <th>7</th>\n",
       "      <td>190201</td>\n",
       "      <td>디지털/가전</td>\n",
       "      <td>13</td>\n",
       "      <td>서울특별시</td>\n",
       "      <td>11</td>\n",
       "      <td>중구</td>\n",
       "      <td>14</td>\n",
       "      <td>황학동</td>\n",
       "      <td>670</td>\n",
       "      <td>14</td>\n",
       "    </tr>\n",
       "    <tr>\n",
       "      <th>13</th>\n",
       "      <td>190201</td>\n",
       "      <td>가구/인테리어</td>\n",
       "      <td>10</td>\n",
       "      <td>서울특별시</td>\n",
       "      <td>11</td>\n",
       "      <td>중구</td>\n",
       "      <td>14</td>\n",
       "      <td>약수동</td>\n",
       "      <td>635</td>\n",
       "      <td>4</td>\n",
       "    </tr>\n",
       "    <tr>\n",
       "      <th>...</th>\n",
       "      <td>...</td>\n",
       "      <td>...</td>\n",
       "      <td>...</td>\n",
       "      <td>...</td>\n",
       "      <td>...</td>\n",
       "      <td>...</td>\n",
       "      <td>...</td>\n",
       "      <td>...</td>\n",
       "      <td>...</td>\n",
       "      <td>...</td>\n",
       "    </tr>\n",
       "    <tr>\n",
       "      <th>76884</th>\n",
       "      <td>190531</td>\n",
       "      <td>출산/육아</td>\n",
       "      <td>18</td>\n",
       "      <td>서울특별시</td>\n",
       "      <td>11</td>\n",
       "      <td>노원구</td>\n",
       "      <td>35</td>\n",
       "      <td>월계1동</td>\n",
       "      <td>560</td>\n",
       "      <td>8</td>\n",
       "    </tr>\n",
       "    <tr>\n",
       "      <th>76885</th>\n",
       "      <td>190531</td>\n",
       "      <td>화장품/미용</td>\n",
       "      <td>21</td>\n",
       "      <td>서울특별시</td>\n",
       "      <td>11</td>\n",
       "      <td>노원구</td>\n",
       "      <td>35</td>\n",
       "      <td>상계1동</td>\n",
       "      <td>630</td>\n",
       "      <td>254</td>\n",
       "    </tr>\n",
       "    <tr>\n",
       "      <th>76887</th>\n",
       "      <td>190531</td>\n",
       "      <td>패션잡화</td>\n",
       "      <td>20</td>\n",
       "      <td>서울특별시</td>\n",
       "      <td>11</td>\n",
       "      <td>중구</td>\n",
       "      <td>14</td>\n",
       "      <td>청구동</td>\n",
       "      <td>645</td>\n",
       "      <td>55</td>\n",
       "    </tr>\n",
       "    <tr>\n",
       "      <th>76889</th>\n",
       "      <td>190531</td>\n",
       "      <td>화장품/미용</td>\n",
       "      <td>21</td>\n",
       "      <td>서울특별시</td>\n",
       "      <td>11</td>\n",
       "      <td>중구</td>\n",
       "      <td>14</td>\n",
       "      <td>다산동</td>\n",
       "      <td>625</td>\n",
       "      <td>74</td>\n",
       "    </tr>\n",
       "    <tr>\n",
       "      <th>76891</th>\n",
       "      <td>190531</td>\n",
       "      <td>패션잡화</td>\n",
       "      <td>20</td>\n",
       "      <td>서울특별시</td>\n",
       "      <td>11</td>\n",
       "      <td>중구</td>\n",
       "      <td>14</td>\n",
       "      <td>신당제5동</td>\n",
       "      <td>650</td>\n",
       "      <td>55</td>\n",
       "    </tr>\n",
       "  </tbody>\n",
       "</table>\n",
       "<p>38230 rows × 10 columns</p>\n",
       "</div>"
      ],
      "text/plain": [
       "       DL_YMD DL_GD_LCLS_NM  DL_GD_LCLS_CD CTPV_NM  CTPV_CD CTGG_NM  CTGG_CD  \\\n",
       "0      190201         도서/음반             12   서울특별시       11      중구       14   \n",
       "1      190201       가구/인테리어             10   서울특별시       11      중구       14   \n",
       "5      190201         도서/음반             12   서울특별시       11      중구       14   \n",
       "7      190201        디지털/가전             13   서울특별시       11      중구       14   \n",
       "13     190201       가구/인테리어             10   서울특별시       11      중구       14   \n",
       "...       ...           ...            ...     ...      ...     ...      ...   \n",
       "76884  190531         출산/육아             18   서울특별시       11     노원구       35   \n",
       "76885  190531        화장품/미용             21   서울특별시       11     노원구       35   \n",
       "76887  190531          패션잡화             20   서울특별시       11      중구       14   \n",
       "76889  190531        화장품/미용             21   서울특별시       11      중구       14   \n",
       "76891  190531          패션잡화             20   서울특별시       11      중구       14   \n",
       "\n",
       "      HDNG_NM  HDNG_CD  INVC_CONT  \n",
       "0         동화동      665         16  \n",
       "1         신당동      615          4  \n",
       "5         회현동      540         25  \n",
       "7         황학동      670         14  \n",
       "13        약수동      635          4  \n",
       "...       ...      ...        ...  \n",
       "76884    월계1동      560          8  \n",
       "76885    상계1동      630        254  \n",
       "76887     청구동      645         55  \n",
       "76889     다산동      625         74  \n",
       "76891   신당제5동      650         55  \n",
       "\n",
       "[38230 rows x 10 columns]"
      ]
     },
     "execution_count": 362,
     "metadata": {},
     "output_type": "execute_result"
    }
   ],
   "source": [
    "#서울의 19년도 송장건수를 불러옴\n",
    "logistic_data_seoul_19=logistic_data[(logistic_data['CTPV_NM']=='서울특별시')&(logistic_data['DL_YMD']>=190201)&(logistic_data['DL_YMD']<=190531)]\n",
    "logistic_data_seoul_19"
   ]
  },
  {
   "cell_type": "code",
   "execution_count": 363,
   "metadata": {},
   "outputs": [
    {
     "data": {
      "text/html": [
       "<div>\n",
       "<style scoped>\n",
       "    .dataframe tbody tr th:only-of-type {\n",
       "        vertical-align: middle;\n",
       "    }\n",
       "\n",
       "    .dataframe tbody tr th {\n",
       "        vertical-align: top;\n",
       "    }\n",
       "\n",
       "    .dataframe thead th {\n",
       "        text-align: right;\n",
       "    }\n",
       "</style>\n",
       "<table border=\"1\" class=\"dataframe\">\n",
       "  <thead>\n",
       "    <tr style=\"text-align: right;\">\n",
       "      <th></th>\n",
       "      <th>서울 일일 송장건수</th>\n",
       "    </tr>\n",
       "  </thead>\n",
       "  <tbody>\n",
       "    <tr>\n",
       "      <th>2019-02-01</th>\n",
       "      <td>6522</td>\n",
       "    </tr>\n",
       "    <tr>\n",
       "      <th>2019-02-02</th>\n",
       "      <td>959</td>\n",
       "    </tr>\n",
       "    <tr>\n",
       "      <th>2019-02-03</th>\n",
       "      <td>205</td>\n",
       "    </tr>\n",
       "    <tr>\n",
       "      <th>2019-02-04</th>\n",
       "      <td>84</td>\n",
       "    </tr>\n",
       "    <tr>\n",
       "      <th>2019-02-05</th>\n",
       "      <td>48</td>\n",
       "    </tr>\n",
       "    <tr>\n",
       "      <th>...</th>\n",
       "      <td>...</td>\n",
       "    </tr>\n",
       "    <tr>\n",
       "      <th>2019-05-27</th>\n",
       "      <td>78612</td>\n",
       "    </tr>\n",
       "    <tr>\n",
       "      <th>2019-05-28</th>\n",
       "      <td>54428</td>\n",
       "    </tr>\n",
       "    <tr>\n",
       "      <th>2019-05-29</th>\n",
       "      <td>48669</td>\n",
       "    </tr>\n",
       "    <tr>\n",
       "      <th>2019-05-30</th>\n",
       "      <td>45138</td>\n",
       "    </tr>\n",
       "    <tr>\n",
       "      <th>2019-05-31</th>\n",
       "      <td>40271</td>\n",
       "    </tr>\n",
       "  </tbody>\n",
       "</table>\n",
       "<p>120 rows × 1 columns</p>\n",
       "</div>"
      ],
      "text/plain": [
       "            서울 일일 송장건수\n",
       "2019-02-01        6522\n",
       "2019-02-02         959\n",
       "2019-02-03         205\n",
       "2019-02-04          84\n",
       "2019-02-05          48\n",
       "...                ...\n",
       "2019-05-27       78612\n",
       "2019-05-28       54428\n",
       "2019-05-29       48669\n",
       "2019-05-30       45138\n",
       "2019-05-31       40271\n",
       "\n",
       "[120 rows x 1 columns]"
      ]
     },
     "execution_count": 363,
     "metadata": {},
     "output_type": "execute_result"
    }
   ],
   "source": [
    "#서울 19년도 송장건수 데이터를 일별로 더해 데이터 프레임으로 생성\n",
    "logistic_data_seoul_19=logistic_data_seoul_19.groupby(['DL_YMD'], as_index=False).sum().drop(['DL_YMD', 'DL_GD_LCLS_CD', 'CTPV_CD', 'CTGG_CD', 'HDNG_CD'], axis=1)\n",
    "\n",
    "date_range=pd.date_range('2019-02-01', periods=120)\n",
    "logistic_data_seoul_19.set_index(date_range, inplace=True)\n",
    "logistic_data_seoul_19.rename(columns={'INVC_CONT': '서울 일일 송장건수'}, inplace=True)\n",
    "logistic_data_seoul_19"
   ]
  },
  {
   "cell_type": "code",
   "execution_count": 364,
   "metadata": {
    "scrolled": true
   },
   "outputs": [
    {
     "data": {
      "text/html": [
       "<div>\n",
       "<style scoped>\n",
       "    .dataframe tbody tr th:only-of-type {\n",
       "        vertical-align: middle;\n",
       "    }\n",
       "\n",
       "    .dataframe tbody tr th {\n",
       "        vertical-align: top;\n",
       "    }\n",
       "\n",
       "    .dataframe thead th {\n",
       "        text-align: right;\n",
       "    }\n",
       "</style>\n",
       "<table border=\"1\" class=\"dataframe\">\n",
       "  <thead>\n",
       "    <tr style=\"text-align: right;\">\n",
       "      <th></th>\n",
       "      <th>서울시 주간 송장건수</th>\n",
       "    </tr>\n",
       "  </thead>\n",
       "  <tbody>\n",
       "    <tr>\n",
       "      <th>0</th>\n",
       "      <td>185505</td>\n",
       "    </tr>\n",
       "    <tr>\n",
       "      <th>1</th>\n",
       "      <td>290406</td>\n",
       "    </tr>\n",
       "    <tr>\n",
       "      <th>2</th>\n",
       "      <td>263510</td>\n",
       "    </tr>\n",
       "    <tr>\n",
       "      <th>3</th>\n",
       "      <td>230354</td>\n",
       "    </tr>\n",
       "    <tr>\n",
       "      <th>4</th>\n",
       "      <td>329960</td>\n",
       "    </tr>\n",
       "    <tr>\n",
       "      <th>5</th>\n",
       "      <td>290822</td>\n",
       "    </tr>\n",
       "    <tr>\n",
       "      <th>6</th>\n",
       "      <td>275079</td>\n",
       "    </tr>\n",
       "    <tr>\n",
       "      <th>7</th>\n",
       "      <td>277328</td>\n",
       "    </tr>\n",
       "    <tr>\n",
       "      <th>8</th>\n",
       "      <td>274900</td>\n",
       "    </tr>\n",
       "    <tr>\n",
       "      <th>9</th>\n",
       "      <td>273458</td>\n",
       "    </tr>\n",
       "    <tr>\n",
       "      <th>10</th>\n",
       "      <td>270656</td>\n",
       "    </tr>\n",
       "    <tr>\n",
       "      <th>11</th>\n",
       "      <td>266462</td>\n",
       "    </tr>\n",
       "    <tr>\n",
       "      <th>12</th>\n",
       "      <td>259931</td>\n",
       "    </tr>\n",
       "    <tr>\n",
       "      <th>13</th>\n",
       "      <td>251948</td>\n",
       "    </tr>\n",
       "    <tr>\n",
       "      <th>14</th>\n",
       "      <td>284086</td>\n",
       "    </tr>\n",
       "    <tr>\n",
       "      <th>15</th>\n",
       "      <td>284592</td>\n",
       "    </tr>\n",
       "    <tr>\n",
       "      <th>16</th>\n",
       "      <td>272233</td>\n",
       "    </tr>\n",
       "  </tbody>\n",
       "</table>\n",
       "</div>"
      ],
      "text/plain": [
       "    서울시 주간 송장건수\n",
       "0        185505\n",
       "1        290406\n",
       "2        263510\n",
       "3        230354\n",
       "4        329960\n",
       "5        290822\n",
       "6        275079\n",
       "7        277328\n",
       "8        274900\n",
       "9        273458\n",
       "10       270656\n",
       "11       266462\n",
       "12       259931\n",
       "13       251948\n",
       "14       284086\n",
       "15       284592\n",
       "16       272233"
      ]
     },
     "execution_count": 364,
     "metadata": {},
     "output_type": "execute_result"
    }
   ],
   "source": [
    "#이것 또한 마찬가지로 확진자와의 비교를 위해 서울 일일 송장건수 데이터를 서울 주간 송장건수 데이터로 수정해줌\n",
    "week_inv_seoul_19=[]\n",
    "for i in range(2,int(len(logistic_data_seoul_19)),7):\n",
    "    week_inv_seoul_19.append(sum(logistic_data_seoul_19.iloc[i:i+7, 0]))\n",
    "\n",
    "week_inv_seoul_19=pd.DataFrame(columns=['서울시 주간 송장건수'], data=week_inv_seoul_19)\n",
    "week_inv_seoul_19"
   ]
  },
  {
   "cell_type": "code",
   "execution_count": 365,
   "metadata": {},
   "outputs": [],
   "source": [
    "week_inv_seoul_19 = list(week_inv_seoul_19['서울시 주간 송장건수'].values)"
   ]
  },
  {
   "cell_type": "code",
   "execution_count": 366,
   "metadata": {},
   "outputs": [],
   "source": [
    "week_inv_seoul_19_adj = []\n",
    "\n",
    "for i in range(17):\n",
    "    if i == 3:\n",
    "        week_inv_seoul_19_adj.append(int(week_inv_seoul_19[i]*1.15))\n",
    "    elif i == 4:\n",
    "        week_inv_seoul_19_adj.append(int(week_inv_seoul_19[i]*0.85))\n",
    "    elif i == 13:\n",
    "        week_inv_seoul_19_adj.append(int(week_inv_seoul_19[i]*1.04))\n",
    "    elif i == 14:\n",
    "        week_inv_seoul_19_adj.append(int(week_inv_seoul_19[i]*0.96))\n",
    "    else:\n",
    "        week_inv_seoul_19_adj.append(week_inv_seoul_19[i])"
   ]
  },
  {
   "cell_type": "markdown",
   "metadata": {},
   "source": [
    "## 서울 주간 확진자 수와 주간 송장 건수 상관계수(보정 전, 후 비교)"
   ]
  },
  {
   "cell_type": "code",
   "execution_count": 367,
   "metadata": {},
   "outputs": [
    {
     "name": "stdout",
     "output_type": "stream",
     "text": [
      "보정 전\n",
      "          0         1\n",
      "0  1.000000  0.414386\n",
      "1  0.414386  1.000000\n",
      "\n",
      "보정 후\n",
      "          0         1\n",
      "0  1.000000  0.446079\n",
      "1  0.446079  1.000000\n"
     ]
    }
   ],
   "source": [
    "print('보정 전')\n",
    "lst=[week_num_seoul_20, week_inv_seoul_20]\n",
    "df = pd.DataFrame(lst).T\n",
    "corr = df.corr(method = 'pearson')\n",
    "print(corr)\n",
    "print()\n",
    "\n",
    "print('보정 후')\n",
    "lst=[week_num_seoul_20, week_inv_seoul_20_adj]\n",
    "df = pd.DataFrame(lst).T\n",
    "corr = df.corr(method = 'pearson')\n",
    "print(corr)"
   ]
  },
  {
   "cell_type": "markdown",
   "metadata": {},
   "source": [
    "### 공휴일에 따른 보정작업으로 상관계수가 증가했음을 알 수 있다."
   ]
  },
  {
   "cell_type": "markdown",
   "metadata": {},
   "source": [
    "but 0.44상관계수만으로는 확진자 수에 따른 송장 건수 변화의 유의미한 도출이 힘들다.  \n",
    "\n",
    "하지만 상관도가 높다는 것이므로, '서울'택배가 '서울'확진자 수에 영향을 받기 보다, 다른 지역의 확산세가 더 큰 영향을 미치는 것이 아닐까?         \n",
    "예를들어, 코로나 초반 대구에서 신천지로 인해 급증 확진자 수가 급증했을 때, 서울 사람들은 '서울'의 확진자 수는 적었더라고   \n",
    "코로나에 대한 두려움 때문에 외출을 꺼려 택배를 많이 주문했을 것이다. 이러한 외부 요인이 위의 상관계수에는 들어가있지 않다. \n",
    "  \n",
    "따라서 대구도 한번 분석해보자"
   ]
  },
  {
   "cell_type": "markdown",
   "metadata": {},
   "source": [
    "# 대구 송장 건수 분석"
   ]
  },
  {
   "cell_type": "code",
   "execution_count": 368,
   "metadata": {},
   "outputs": [],
   "source": [
    "logistic_data = pd.read_excel('./2020빅콘테스트 문제데이터(혁신아이디어분야) (2)./05_물류데이터(CJ올리브네트웍스)./2020 빅콘테스트_CJ올리브네트웍스_제공DB.xlsx')"
   ]
  },
  {
   "cell_type": "code",
   "execution_count": 369,
   "metadata": {
    "scrolled": true
   },
   "outputs": [
    {
     "data": {
      "text/html": [
       "<div>\n",
       "<style scoped>\n",
       "    .dataframe tbody tr th:only-of-type {\n",
       "        vertical-align: middle;\n",
       "    }\n",
       "\n",
       "    .dataframe tbody tr th {\n",
       "        vertical-align: top;\n",
       "    }\n",
       "\n",
       "    .dataframe thead th {\n",
       "        text-align: right;\n",
       "    }\n",
       "</style>\n",
       "<table border=\"1\" class=\"dataframe\">\n",
       "  <thead>\n",
       "    <tr style=\"text-align: right;\">\n",
       "      <th></th>\n",
       "      <th>DL_YMD</th>\n",
       "      <th>DL_GD_LCLS_NM</th>\n",
       "      <th>DL_GD_LCLS_CD</th>\n",
       "      <th>CTPV_NM</th>\n",
       "      <th>CTPV_CD</th>\n",
       "      <th>CTGG_NM</th>\n",
       "      <th>CTGG_CD</th>\n",
       "      <th>HDNG_NM</th>\n",
       "      <th>HDNG_CD</th>\n",
       "      <th>INVC_CONT</th>\n",
       "    </tr>\n",
       "  </thead>\n",
       "  <tbody>\n",
       "    <tr>\n",
       "      <th>76892</th>\n",
       "      <td>200201</td>\n",
       "      <td>가구/인테리어</td>\n",
       "      <td>10</td>\n",
       "      <td>대구광역시</td>\n",
       "      <td>27</td>\n",
       "      <td>수성구</td>\n",
       "      <td>26</td>\n",
       "      <td>범어3동</td>\n",
       "      <td>530</td>\n",
       "      <td>3</td>\n",
       "    </tr>\n",
       "    <tr>\n",
       "      <th>76894</th>\n",
       "      <td>200201</td>\n",
       "      <td>가구/인테리어</td>\n",
       "      <td>10</td>\n",
       "      <td>대구광역시</td>\n",
       "      <td>27</td>\n",
       "      <td>수성구</td>\n",
       "      <td>26</td>\n",
       "      <td>범물2동</td>\n",
       "      <td>662</td>\n",
       "      <td>3</td>\n",
       "    </tr>\n",
       "    <tr>\n",
       "      <th>76896</th>\n",
       "      <td>200201</td>\n",
       "      <td>도서/음반</td>\n",
       "      <td>12</td>\n",
       "      <td>대구광역시</td>\n",
       "      <td>27</td>\n",
       "      <td>수성구</td>\n",
       "      <td>26</td>\n",
       "      <td>수성1가동</td>\n",
       "      <td>570</td>\n",
       "      <td>34</td>\n",
       "    </tr>\n",
       "    <tr>\n",
       "      <th>76898</th>\n",
       "      <td>200201</td>\n",
       "      <td>디지털/가전</td>\n",
       "      <td>13</td>\n",
       "      <td>대구광역시</td>\n",
       "      <td>27</td>\n",
       "      <td>수성구</td>\n",
       "      <td>26</td>\n",
       "      <td>만촌1동</td>\n",
       "      <td>550</td>\n",
       "      <td>14</td>\n",
       "    </tr>\n",
       "    <tr>\n",
       "      <th>76899</th>\n",
       "      <td>200201</td>\n",
       "      <td>도서/음반</td>\n",
       "      <td>12</td>\n",
       "      <td>대구광역시</td>\n",
       "      <td>27</td>\n",
       "      <td>수성구</td>\n",
       "      <td>26</td>\n",
       "      <td>파동</td>\n",
       "      <td>630</td>\n",
       "      <td>18</td>\n",
       "    </tr>\n",
       "    <tr>\n",
       "      <th>...</th>\n",
       "      <td>...</td>\n",
       "      <td>...</td>\n",
       "      <td>...</td>\n",
       "      <td>...</td>\n",
       "      <td>...</td>\n",
       "      <td>...</td>\n",
       "      <td>...</td>\n",
       "      <td>...</td>\n",
       "      <td>...</td>\n",
       "      <td>...</td>\n",
       "    </tr>\n",
       "    <tr>\n",
       "      <th>156559</th>\n",
       "      <td>200531</td>\n",
       "      <td>패션잡화</td>\n",
       "      <td>20</td>\n",
       "      <td>대구광역시</td>\n",
       "      <td>27</td>\n",
       "      <td>수성구</td>\n",
       "      <td>26</td>\n",
       "      <td>지산2동</td>\n",
       "      <td>652</td>\n",
       "      <td>10</td>\n",
       "    </tr>\n",
       "    <tr>\n",
       "      <th>156560</th>\n",
       "      <td>200531</td>\n",
       "      <td>패션잡화</td>\n",
       "      <td>20</td>\n",
       "      <td>대구광역시</td>\n",
       "      <td>27</td>\n",
       "      <td>중구</td>\n",
       "      <td>11</td>\n",
       "      <td>대봉2동</td>\n",
       "      <td>690</td>\n",
       "      <td>2</td>\n",
       "    </tr>\n",
       "    <tr>\n",
       "      <th>156566</th>\n",
       "      <td>200531</td>\n",
       "      <td>패션의류</td>\n",
       "      <td>19</td>\n",
       "      <td>대구광역시</td>\n",
       "      <td>27</td>\n",
       "      <td>수성구</td>\n",
       "      <td>26</td>\n",
       "      <td>범물2동</td>\n",
       "      <td>662</td>\n",
       "      <td>22</td>\n",
       "    </tr>\n",
       "    <tr>\n",
       "      <th>156568</th>\n",
       "      <td>200531</td>\n",
       "      <td>패션잡화</td>\n",
       "      <td>20</td>\n",
       "      <td>대구광역시</td>\n",
       "      <td>27</td>\n",
       "      <td>수성구</td>\n",
       "      <td>26</td>\n",
       "      <td>범물2동</td>\n",
       "      <td>662</td>\n",
       "      <td>14</td>\n",
       "    </tr>\n",
       "    <tr>\n",
       "      <th>156570</th>\n",
       "      <td>200531</td>\n",
       "      <td>화장품/미용</td>\n",
       "      <td>21</td>\n",
       "      <td>대구광역시</td>\n",
       "      <td>27</td>\n",
       "      <td>수성구</td>\n",
       "      <td>26</td>\n",
       "      <td>수성4가동</td>\n",
       "      <td>590</td>\n",
       "      <td>27</td>\n",
       "    </tr>\n",
       "  </tbody>\n",
       "</table>\n",
       "<p>40211 rows × 10 columns</p>\n",
       "</div>"
      ],
      "text/plain": [
       "        DL_YMD DL_GD_LCLS_NM  DL_GD_LCLS_CD CTPV_NM  CTPV_CD CTGG_NM  CTGG_CD  \\\n",
       "76892   200201       가구/인테리어             10   대구광역시       27     수성구       26   \n",
       "76894   200201       가구/인테리어             10   대구광역시       27     수성구       26   \n",
       "76896   200201         도서/음반             12   대구광역시       27     수성구       26   \n",
       "76898   200201        디지털/가전             13   대구광역시       27     수성구       26   \n",
       "76899   200201         도서/음반             12   대구광역시       27     수성구       26   \n",
       "...        ...           ...            ...     ...      ...     ...      ...   \n",
       "156559  200531          패션잡화             20   대구광역시       27     수성구       26   \n",
       "156560  200531          패션잡화             20   대구광역시       27      중구       11   \n",
       "156566  200531          패션의류             19   대구광역시       27     수성구       26   \n",
       "156568  200531          패션잡화             20   대구광역시       27     수성구       26   \n",
       "156570  200531        화장품/미용             21   대구광역시       27     수성구       26   \n",
       "\n",
       "       HDNG_NM  HDNG_CD  INVC_CONT  \n",
       "76892     범어3동      530          3  \n",
       "76894     범물2동      662          3  \n",
       "76896    수성1가동      570         34  \n",
       "76898     만촌1동      550         14  \n",
       "76899       파동      630         18  \n",
       "...        ...      ...        ...  \n",
       "156559    지산2동      652         10  \n",
       "156560    대봉2동      690          2  \n",
       "156566    범물2동      662         22  \n",
       "156568    범물2동      662         14  \n",
       "156570   수성4가동      590         27  \n",
       "\n",
       "[40211 rows x 10 columns]"
      ]
     },
     "execution_count": 369,
     "metadata": {},
     "output_type": "execute_result"
    }
   ],
   "source": [
    "logistic_data_daegu=logistic_data[(logistic_data['CTPV_NM']=='대구광역시')&(logistic_data['DL_YMD']>=200201)]\n",
    "logistic_data_daegu"
   ]
  },
  {
   "cell_type": "markdown",
   "metadata": {},
   "source": [
    "## 20년도 대구 송장 건수 분석"
   ]
  },
  {
   "cell_type": "code",
   "execution_count": 370,
   "metadata": {},
   "outputs": [
    {
     "data": {
      "text/html": [
       "<div>\n",
       "<style scoped>\n",
       "    .dataframe tbody tr th:only-of-type {\n",
       "        vertical-align: middle;\n",
       "    }\n",
       "\n",
       "    .dataframe tbody tr th {\n",
       "        vertical-align: top;\n",
       "    }\n",
       "\n",
       "    .dataframe thead th {\n",
       "        text-align: right;\n",
       "    }\n",
       "</style>\n",
       "<table border=\"1\" class=\"dataframe\">\n",
       "  <thead>\n",
       "    <tr style=\"text-align: right;\">\n",
       "      <th></th>\n",
       "      <th>대구 일일 송장건수</th>\n",
       "    </tr>\n",
       "  </thead>\n",
       "  <tbody>\n",
       "    <tr>\n",
       "      <th>2020-02-01</th>\n",
       "      <td>5521</td>\n",
       "    </tr>\n",
       "    <tr>\n",
       "      <th>2020-02-02</th>\n",
       "      <td>5736</td>\n",
       "    </tr>\n",
       "    <tr>\n",
       "      <th>2020-02-03</th>\n",
       "      <td>65987</td>\n",
       "    </tr>\n",
       "    <tr>\n",
       "      <th>2020-02-04</th>\n",
       "      <td>40949</td>\n",
       "    </tr>\n",
       "    <tr>\n",
       "      <th>2020-02-05</th>\n",
       "      <td>36994</td>\n",
       "    </tr>\n",
       "    <tr>\n",
       "      <th>...</th>\n",
       "      <td>...</td>\n",
       "    </tr>\n",
       "    <tr>\n",
       "      <th>2020-05-27</th>\n",
       "      <td>44284</td>\n",
       "    </tr>\n",
       "    <tr>\n",
       "      <th>2020-05-28</th>\n",
       "      <td>41593</td>\n",
       "    </tr>\n",
       "    <tr>\n",
       "      <th>2020-05-29</th>\n",
       "      <td>38493</td>\n",
       "    </tr>\n",
       "    <tr>\n",
       "      <th>2020-05-30</th>\n",
       "      <td>5195</td>\n",
       "    </tr>\n",
       "    <tr>\n",
       "      <th>2020-05-31</th>\n",
       "      <td>4769</td>\n",
       "    </tr>\n",
       "  </tbody>\n",
       "</table>\n",
       "<p>121 rows × 1 columns</p>\n",
       "</div>"
      ],
      "text/plain": [
       "            대구 일일 송장건수\n",
       "2020-02-01        5521\n",
       "2020-02-02        5736\n",
       "2020-02-03       65987\n",
       "2020-02-04       40949\n",
       "2020-02-05       36994\n",
       "...                ...\n",
       "2020-05-27       44284\n",
       "2020-05-28       41593\n",
       "2020-05-29       38493\n",
       "2020-05-30        5195\n",
       "2020-05-31        4769\n",
       "\n",
       "[121 rows x 1 columns]"
      ]
     },
     "execution_count": 370,
     "metadata": {},
     "output_type": "execute_result"
    }
   ],
   "source": [
    "logistic_data_daegu=logistic_data_daegu.groupby(['DL_YMD'], as_index=False).sum().drop(['DL_YMD', 'DL_GD_LCLS_CD', 'CTPV_CD', 'CTGG_CD', 'HDNG_CD'], axis=1)\n",
    "\n",
    "date_range=pd.date_range('2020-02-01', periods=121)\n",
    "logistic_data_daegu.set_index(date_range, inplace=True)\n",
    "logistic_data_daegu.rename(columns={'INVC_CONT': '대구 일일 송장건수'}, inplace=True)\n",
    "logistic_data_daegu"
   ]
  },
  {
   "cell_type": "code",
   "execution_count": 371,
   "metadata": {},
   "outputs": [
    {
     "data": {
      "text/html": [
       "<div>\n",
       "<style scoped>\n",
       "    .dataframe tbody tr th:only-of-type {\n",
       "        vertical-align: middle;\n",
       "    }\n",
       "\n",
       "    .dataframe tbody tr th {\n",
       "        vertical-align: top;\n",
       "    }\n",
       "\n",
       "    .dataframe thead th {\n",
       "        text-align: right;\n",
       "    }\n",
       "</style>\n",
       "<table border=\"1\" class=\"dataframe\">\n",
       "  <thead>\n",
       "    <tr style=\"text-align: right;\">\n",
       "      <th></th>\n",
       "      <th>대구시 주간 송장건수</th>\n",
       "    </tr>\n",
       "  </thead>\n",
       "  <tbody>\n",
       "    <tr>\n",
       "      <th>0</th>\n",
       "      <td>223340</td>\n",
       "    </tr>\n",
       "    <tr>\n",
       "      <th>1</th>\n",
       "      <td>213045</td>\n",
       "    </tr>\n",
       "    <tr>\n",
       "      <th>2</th>\n",
       "      <td>262975</td>\n",
       "    </tr>\n",
       "    <tr>\n",
       "      <th>3</th>\n",
       "      <td>305342</td>\n",
       "    </tr>\n",
       "    <tr>\n",
       "      <th>4</th>\n",
       "      <td>293144</td>\n",
       "    </tr>\n",
       "    <tr>\n",
       "      <th>5</th>\n",
       "      <td>267988</td>\n",
       "    </tr>\n",
       "    <tr>\n",
       "      <th>6</th>\n",
       "      <td>257076</td>\n",
       "    </tr>\n",
       "    <tr>\n",
       "      <th>7</th>\n",
       "      <td>249738</td>\n",
       "    </tr>\n",
       "    <tr>\n",
       "      <th>8</th>\n",
       "      <td>249843</td>\n",
       "    </tr>\n",
       "    <tr>\n",
       "      <th>9</th>\n",
       "      <td>249394</td>\n",
       "    </tr>\n",
       "    <tr>\n",
       "      <th>10</th>\n",
       "      <td>233534</td>\n",
       "    </tr>\n",
       "    <tr>\n",
       "      <th>11</th>\n",
       "      <td>247393</td>\n",
       "    </tr>\n",
       "    <tr>\n",
       "      <th>12</th>\n",
       "      <td>211530</td>\n",
       "    </tr>\n",
       "    <tr>\n",
       "      <th>13</th>\n",
       "      <td>272781</td>\n",
       "    </tr>\n",
       "    <tr>\n",
       "      <th>14</th>\n",
       "      <td>259049</td>\n",
       "    </tr>\n",
       "    <tr>\n",
       "      <th>15</th>\n",
       "      <td>257342</td>\n",
       "    </tr>\n",
       "    <tr>\n",
       "      <th>16</th>\n",
       "      <td>253795</td>\n",
       "    </tr>\n",
       "  </tbody>\n",
       "</table>\n",
       "</div>"
      ],
      "text/plain": [
       "    대구시 주간 송장건수\n",
       "0        223340\n",
       "1        213045\n",
       "2        262975\n",
       "3        305342\n",
       "4        293144\n",
       "5        267988\n",
       "6        257076\n",
       "7        249738\n",
       "8        249843\n",
       "9        249394\n",
       "10       233534\n",
       "11       247393\n",
       "12       211530\n",
       "13       272781\n",
       "14       259049\n",
       "15       257342\n",
       "16       253795"
      ]
     },
     "execution_count": 371,
     "metadata": {},
     "output_type": "execute_result"
    }
   ],
   "source": [
    "week_inv_daegu_20=[]\n",
    "for i in range(2,int(len(logistic_data_daegu)),7):\n",
    "    week_inv_daegu_20.append(sum(logistic_data_daegu.iloc[i:i+7, 0]))\n",
    "\n",
    "week_inv_daegu_20=pd.DataFrame(columns=['대구시 주간 송장건수'], data=week_inv_daegu_20)\n",
    "week_inv_daegu_20"
   ]
  },
  {
   "cell_type": "markdown",
   "metadata": {},
   "source": [
    "\n",
    "#### 대구 주간 송장 건수"
   ]
  },
  {
   "cell_type": "code",
   "execution_count": 372,
   "metadata": {},
   "outputs": [
    {
     "data": {
      "text/plain": [
       "<matplotlib.axes._subplots.AxesSubplot at 0x2c135aaa400>"
      ]
     },
     "execution_count": 372,
     "metadata": {},
     "output_type": "execute_result"
    },
    {
     "data": {
      "image/png": "[encoded data removed]",
      "text/plain": [
       "<Figure size 1008x504 with 1 Axes>"
      ]
     },
     "metadata": {
      "needs_background": "light"
     },
     "output_type": "display_data"
    }
   ],
   "source": [
    "plt.figure(figsize=(14, 7))\n",
    "sns.lineplot(data=week_inv_daegu_20)"
   ]
  },
  {
   "cell_type": "code",
   "execution_count": 373,
   "metadata": {},
   "outputs": [],
   "source": [
    "day_inv_daegu_20 = list(logistic_data_daegu['대구 일일 송장건수'].values)\n",
    "day_inv_con_daegu_20 = day_inv_daegu_20[2:]"
   ]
  },
  {
   "cell_type": "code",
   "execution_count": 374,
   "metadata": {},
   "outputs": [
    {
     "name": "stdout",
     "output_type": "stream",
     "text": [
      "2020년 2월~5월 대구 주간 송장 건수\n",
      " [223340, 213045, 262975, 305342, 293144, 267988, 257076, 249738, 249843, 249394, 233534, 247393, 211530, 272781, 259049, 257342, 253795]\n"
     ]
    }
   ],
   "source": [
    "week_inv_daegu_20=[]\n",
    "for i in range(0,int(len(day_inv_daegu_20))-7,7):\n",
    "    week_inv_daegu_20.append(sum(day_inv_con_daegu_20[i:i+7]))\n",
    "print('2020년 2월~5월 대구 주간 송장 건수\\n', week_inv_daegu_20)"
   ]
  },
  {
   "cell_type": "markdown",
   "metadata": {},
   "source": [
    "#### 대구 주간 확진자 수  \n",
    "출처 : coronaboard\n"
   ]
  },
  {
   "cell_type": "code",
   "execution_count": 375,
   "metadata": {},
   "outputs": [
    {
     "data": {
      "text/plain": [
       "[<matplotlib.lines.Line2D at 0x2c146466320>]"
      ]
     },
     "execution_count": 375,
     "metadata": {},
     "output_type": "execute_result"
    },
    {
     "data": {
      "image/png": "[encoded data removed]",
      "text/plain": [
       "<Figure size 720x288 with 1 Axes>"
      ]
     },
     "metadata": {
      "needs_background": "light"
     },
     "output_type": "display_data"
    }
   ],
   "source": [
    "week_num_daegu_20 = [0,0, 310, 2366, 2676, 650, 356, 223, 158, 48, 16, 14, 10, 5, 9, 3, 10]\n",
    "#2월 1,2,주차는 정보가 없어 0으로 뒀다. 이는 니중에 1,2주차를 분석에서 제외할 근거가 된다.\n",
    "month_num_daegu_20=[2236,4448,199,23]\n",
    "plt.title('대구 주간 확진자 수')\n",
    "plt.plot(week_num_daegu_20)"
   ]
  },
  {
   "cell_type": "code",
   "execution_count": 376,
   "metadata": {},
   "outputs": [
    {
     "data": {
      "image/png": "[encoded data removed]",
      "text/plain": [
       "<Figure size 720x288 with 1 Axes>"
      ]
     },
     "metadata": {
      "needs_background": "light"
     },
     "output_type": "display_data"
    }
   ],
   "source": [
    "plt.plot(week_inv_daegu_20)\n",
    "plt.title('대구 주간 송장 건수')\n",
    "plt.xlabel('week')\n",
    "plt.ylabel('num')\n",
    "plt.show()"
   ]
  },
  {
   "cell_type": "markdown",
   "metadata": {},
   "source": [
    "마찬가지로 공휴일 보정을 실시하면"
   ]
  },
  {
   "cell_type": "code",
   "execution_count": 377,
   "metadata": {},
   "outputs": [
    {
     "data": {
      "text/plain": [
       "([233534, 247393, 211530, 272781, 259049, 257342, 253795],\n",
       " [242875, 237497, 219991, 272781, 248687, 257342, 253795])"
      ]
     },
     "execution_count": 377,
     "metadata": {},
     "output_type": "execute_result"
    }
   ],
   "source": [
    "week_inv_daegu_20_adj = []\n",
    "\n",
    "for i in range(17):\n",
    "    if i == 10:\n",
    "        week_inv_daegu_20_adj.append(int(week_inv_daegu_20[i]*1.04))\n",
    "    elif i == 11:\n",
    "        week_inv_daegu_20_adj.append(int(week_inv_daegu_20[i]*0.96))\n",
    "    elif i == 12:\n",
    "        week_inv_daegu_20_adj.append(int(week_inv_daegu_20[i]*1.04))\n",
    "    # 14주차(i==13)는 13주차 공휴일에 의한 영향이 14주차 어린이날에 의한 영향으로 상쇄\n",
    "    elif i == 14:\n",
    "        week_inv_daegu_20_adj.append(int(week_inv_daegu_20[i]*0.96))\n",
    "    else:\n",
    "        week_inv_daegu_20_adj.append(week_inv_daegu_20[i])\n",
    "        \n",
    "week_inv_daegu_20[10:], week_inv_daegu_20_adj[10:]"
   ]
  },
  {
   "cell_type": "code",
   "execution_count": 378,
   "metadata": {},
   "outputs": [
    {
     "data": {
      "image/png": "[encoded data removed]",
      "text/plain": [
       "<Figure size 720x288 with 1 Axes>"
      ]
     },
     "metadata": {
      "needs_background": "light"
     },
     "output_type": "display_data"
    }
   ],
   "source": [
    "plt.plot(week_inv_daegu_20_adj, label='보정 후')\n",
    "plt.plot(week_inv_daegu_20, label = '보정 전')\n",
    "plt.title('대구 주간 송장 건수')\n",
    "plt.legend()\n",
    "plt.show()"
   ]
  },
  {
   "cell_type": "markdown",
   "metadata": {},
   "source": [
    "#### 대구 주간 확진자 수와 송장 건수 상관계수"
   ]
  },
  {
   "cell_type": "code",
   "execution_count": 379,
   "metadata": {},
   "outputs": [
    {
     "name": "stdout",
     "output_type": "stream",
     "text": [
      "보정 전\n",
      "          0         1\n",
      "0  1.000000  0.744404\n",
      "1  0.744404  1.000000 \n",
      "\n",
      "보정 후\n",
      "          0         1\n",
      "0  1.000000  0.776364\n",
      "1  0.776364  1.000000\n"
     ]
    }
   ],
   "source": [
    "print('보정 전')\n",
    "lst=[week_num_daegu_20, week_inv_daegu_20]\n",
    "df = pd.DataFrame(lst).T\n",
    "corr = df.corr(method = 'pearson')\n",
    "print(corr,'\\n')\n",
    "\n",
    "print('보정 후')\n",
    "lst=[week_num_daegu_20, week_inv_daegu_20_adj]\n",
    "df = pd.DataFrame(lst).T\n",
    "corr = df.corr(method = 'pearson')\n",
    "print(corr)"
   ]
  },
  {
   "cell_type": "markdown",
   "metadata": {},
   "source": [
    "대구만의 데이터로 상관계수를 구하면 0.78이 나온다.  \n",
    "이는 코로나 확산세 초반에 신천지로 인한 대구의 확진자 수 증가가 택배 수 증가로 바로 연결된 것의 영향이 크기 때문으로 보인다.  \n",
    "신천지로 인한 코로나 확산으로 인해 서울의 택배도 영향을 받은 것으로 추측할 수 있지만, 이는 서울의 상관계수에 들어가지 않았다.  \n",
    "서울 확진자 수 데이터로 분석을 했기 때문이다."
   ]
  },
  {
   "cell_type": "markdown",
   "metadata": {},
   "source": [
    "# 전년대비 송장 건수 증감  \n",
    "- 공휴일에 의한 택배수 오차 외에도 또하나의 변인을 통제해야 한다.  \n",
    "- 택배는 계절에 따른 물량의 변동 폭이 크므로 전년대비 증감을 보도록 하자"
   ]
  },
  {
   "cell_type": "markdown",
   "metadata": {},
   "source": [
    "## 19년도 대구 송장 건수 불러오기"
   ]
  },
  {
   "cell_type": "code",
   "execution_count": 380,
   "metadata": {},
   "outputs": [
    {
     "data": {
      "text/html": [
       "<div>\n",
       "<style scoped>\n",
       "    .dataframe tbody tr th:only-of-type {\n",
       "        vertical-align: middle;\n",
       "    }\n",
       "\n",
       "    .dataframe tbody tr th {\n",
       "        vertical-align: top;\n",
       "    }\n",
       "\n",
       "    .dataframe thead th {\n",
       "        text-align: right;\n",
       "    }\n",
       "</style>\n",
       "<table border=\"1\" class=\"dataframe\">\n",
       "  <thead>\n",
       "    <tr style=\"text-align: right;\">\n",
       "      <th></th>\n",
       "      <th>DL_YMD</th>\n",
       "      <th>DL_GD_LCLS_NM</th>\n",
       "      <th>DL_GD_LCLS_CD</th>\n",
       "      <th>CTPV_NM</th>\n",
       "      <th>CTPV_CD</th>\n",
       "      <th>CTGG_NM</th>\n",
       "      <th>CTGG_CD</th>\n",
       "      <th>HDNG_NM</th>\n",
       "      <th>HDNG_CD</th>\n",
       "      <th>INVC_CONT</th>\n",
       "    </tr>\n",
       "  </thead>\n",
       "  <tbody>\n",
       "    <tr>\n",
       "      <th>2</th>\n",
       "      <td>190201</td>\n",
       "      <td>가구/인테리어</td>\n",
       "      <td>10</td>\n",
       "      <td>대구광역시</td>\n",
       "      <td>27</td>\n",
       "      <td>중구</td>\n",
       "      <td>11</td>\n",
       "      <td>성내1동</td>\n",
       "      <td>565</td>\n",
       "      <td>1</td>\n",
       "    </tr>\n",
       "    <tr>\n",
       "      <th>3</th>\n",
       "      <td>190201</td>\n",
       "      <td>도서/음반</td>\n",
       "      <td>12</td>\n",
       "      <td>대구광역시</td>\n",
       "      <td>27</td>\n",
       "      <td>중구</td>\n",
       "      <td>11</td>\n",
       "      <td>남산2동</td>\n",
       "      <td>650</td>\n",
       "      <td>6</td>\n",
       "    </tr>\n",
       "    <tr>\n",
       "      <th>4</th>\n",
       "      <td>190201</td>\n",
       "      <td>디지털/가전</td>\n",
       "      <td>13</td>\n",
       "      <td>대구광역시</td>\n",
       "      <td>27</td>\n",
       "      <td>수성구</td>\n",
       "      <td>26</td>\n",
       "      <td>고산3동</td>\n",
       "      <td>690</td>\n",
       "      <td>21</td>\n",
       "    </tr>\n",
       "    <tr>\n",
       "      <th>6</th>\n",
       "      <td>190201</td>\n",
       "      <td>가구/인테리어</td>\n",
       "      <td>10</td>\n",
       "      <td>대구광역시</td>\n",
       "      <td>27</td>\n",
       "      <td>수성구</td>\n",
       "      <td>26</td>\n",
       "      <td>범어1동</td>\n",
       "      <td>510</td>\n",
       "      <td>6</td>\n",
       "    </tr>\n",
       "    <tr>\n",
       "      <th>8</th>\n",
       "      <td>190201</td>\n",
       "      <td>가구/인테리어</td>\n",
       "      <td>10</td>\n",
       "      <td>대구광역시</td>\n",
       "      <td>27</td>\n",
       "      <td>중구</td>\n",
       "      <td>11</td>\n",
       "      <td>남산4동</td>\n",
       "      <td>670</td>\n",
       "      <td>2</td>\n",
       "    </tr>\n",
       "    <tr>\n",
       "      <th>...</th>\n",
       "      <td>...</td>\n",
       "      <td>...</td>\n",
       "      <td>...</td>\n",
       "      <td>...</td>\n",
       "      <td>...</td>\n",
       "      <td>...</td>\n",
       "      <td>...</td>\n",
       "      <td>...</td>\n",
       "      <td>...</td>\n",
       "      <td>...</td>\n",
       "    </tr>\n",
       "    <tr>\n",
       "      <th>76874</th>\n",
       "      <td>190531</td>\n",
       "      <td>화장품/미용</td>\n",
       "      <td>21</td>\n",
       "      <td>대구광역시</td>\n",
       "      <td>27</td>\n",
       "      <td>중구</td>\n",
       "      <td>11</td>\n",
       "      <td>동인동</td>\n",
       "      <td>517</td>\n",
       "      <td>86</td>\n",
       "    </tr>\n",
       "    <tr>\n",
       "      <th>76875</th>\n",
       "      <td>190531</td>\n",
       "      <td>패션의류</td>\n",
       "      <td>19</td>\n",
       "      <td>대구광역시</td>\n",
       "      <td>27</td>\n",
       "      <td>수성구</td>\n",
       "      <td>26</td>\n",
       "      <td>범물2동</td>\n",
       "      <td>662</td>\n",
       "      <td>184</td>\n",
       "    </tr>\n",
       "    <tr>\n",
       "      <th>76886</th>\n",
       "      <td>190531</td>\n",
       "      <td>화장품/미용</td>\n",
       "      <td>21</td>\n",
       "      <td>대구광역시</td>\n",
       "      <td>27</td>\n",
       "      <td>수성구</td>\n",
       "      <td>26</td>\n",
       "      <td>만촌2동</td>\n",
       "      <td>560</td>\n",
       "      <td>54</td>\n",
       "    </tr>\n",
       "    <tr>\n",
       "      <th>76888</th>\n",
       "      <td>190531</td>\n",
       "      <td>화장품/미용</td>\n",
       "      <td>21</td>\n",
       "      <td>대구광역시</td>\n",
       "      <td>27</td>\n",
       "      <td>수성구</td>\n",
       "      <td>26</td>\n",
       "      <td>범어2동</td>\n",
       "      <td>520</td>\n",
       "      <td>120</td>\n",
       "    </tr>\n",
       "    <tr>\n",
       "      <th>76890</th>\n",
       "      <td>190531</td>\n",
       "      <td>패션의류</td>\n",
       "      <td>19</td>\n",
       "      <td>대구광역시</td>\n",
       "      <td>27</td>\n",
       "      <td>중구</td>\n",
       "      <td>11</td>\n",
       "      <td>대신동</td>\n",
       "      <td>595</td>\n",
       "      <td>150</td>\n",
       "    </tr>\n",
       "  </tbody>\n",
       "</table>\n",
       "<p>38662 rows × 10 columns</p>\n",
       "</div>"
      ],
      "text/plain": [
       "       DL_YMD DL_GD_LCLS_NM  DL_GD_LCLS_CD CTPV_NM  CTPV_CD CTGG_NM  CTGG_CD  \\\n",
       "2      190201       가구/인테리어             10   대구광역시       27      중구       11   \n",
       "3      190201         도서/음반             12   대구광역시       27      중구       11   \n",
       "4      190201        디지털/가전             13   대구광역시       27     수성구       26   \n",
       "6      190201       가구/인테리어             10   대구광역시       27     수성구       26   \n",
       "8      190201       가구/인테리어             10   대구광역시       27      중구       11   \n",
       "...       ...           ...            ...     ...      ...     ...      ...   \n",
       "76874  190531        화장품/미용             21   대구광역시       27      중구       11   \n",
       "76875  190531          패션의류             19   대구광역시       27     수성구       26   \n",
       "76886  190531        화장품/미용             21   대구광역시       27     수성구       26   \n",
       "76888  190531        화장품/미용             21   대구광역시       27     수성구       26   \n",
       "76890  190531          패션의류             19   대구광역시       27      중구       11   \n",
       "\n",
       "      HDNG_NM  HDNG_CD  INVC_CONT  \n",
       "2        성내1동      565          1  \n",
       "3        남산2동      650          6  \n",
       "4        고산3동      690         21  \n",
       "6        범어1동      510          6  \n",
       "8        남산4동      670          2  \n",
       "...       ...      ...        ...  \n",
       "76874     동인동      517         86  \n",
       "76875    범물2동      662        184  \n",
       "76886    만촌2동      560         54  \n",
       "76888    범어2동      520        120  \n",
       "76890     대신동      595        150  \n",
       "\n",
       "[38662 rows x 10 columns]"
      ]
     },
     "execution_count": 380,
     "metadata": {},
     "output_type": "execute_result"
    }
   ],
   "source": [
    "logistic_data_daegu_19=logistic_data[(logistic_data['CTPV_NM']=='대구광역시')&(logistic_data['DL_YMD']>=190201)&(logistic_data['DL_YMD']<=190531)]\n",
    "logistic_data_daegu_19"
   ]
  },
  {
   "cell_type": "code",
   "execution_count": 381,
   "metadata": {},
   "outputs": [
    {
     "data": {
      "text/html": [
       "<div>\n",
       "<style scoped>\n",
       "    .dataframe tbody tr th:only-of-type {\n",
       "        vertical-align: middle;\n",
       "    }\n",
       "\n",
       "    .dataframe tbody tr th {\n",
       "        vertical-align: top;\n",
       "    }\n",
       "\n",
       "    .dataframe thead th {\n",
       "        text-align: right;\n",
       "    }\n",
       "</style>\n",
       "<table border=\"1\" class=\"dataframe\">\n",
       "  <thead>\n",
       "    <tr style=\"text-align: right;\">\n",
       "      <th></th>\n",
       "      <th>대구 일일 송장건수</th>\n",
       "    </tr>\n",
       "  </thead>\n",
       "  <tbody>\n",
       "    <tr>\n",
       "      <th>2020-02-01</th>\n",
       "      <td>5053</td>\n",
       "    </tr>\n",
       "    <tr>\n",
       "      <th>2020-02-02</th>\n",
       "      <td>687</td>\n",
       "    </tr>\n",
       "    <tr>\n",
       "      <th>2020-02-03</th>\n",
       "      <td>164</td>\n",
       "    </tr>\n",
       "    <tr>\n",
       "      <th>2020-02-04</th>\n",
       "      <td>39</td>\n",
       "    </tr>\n",
       "    <tr>\n",
       "      <th>2020-02-05</th>\n",
       "      <td>21</td>\n",
       "    </tr>\n",
       "    <tr>\n",
       "      <th>...</th>\n",
       "      <td>...</td>\n",
       "    </tr>\n",
       "    <tr>\n",
       "      <th>2020-05-26</th>\n",
       "      <td>52686</td>\n",
       "    </tr>\n",
       "    <tr>\n",
       "      <th>2020-05-27</th>\n",
       "      <td>35129</td>\n",
       "    </tr>\n",
       "    <tr>\n",
       "      <th>2020-05-28</th>\n",
       "      <td>31964</td>\n",
       "    </tr>\n",
       "    <tr>\n",
       "      <th>2020-05-29</th>\n",
       "      <td>29440</td>\n",
       "    </tr>\n",
       "    <tr>\n",
       "      <th>2020-05-30</th>\n",
       "      <td>26628</td>\n",
       "    </tr>\n",
       "  </tbody>\n",
       "</table>\n",
       "<p>120 rows × 1 columns</p>\n",
       "</div>"
      ],
      "text/plain": [
       "            대구 일일 송장건수\n",
       "2020-02-01        5053\n",
       "2020-02-02         687\n",
       "2020-02-03         164\n",
       "2020-02-04          39\n",
       "2020-02-05          21\n",
       "...                ...\n",
       "2020-05-26       52686\n",
       "2020-05-27       35129\n",
       "2020-05-28       31964\n",
       "2020-05-29       29440\n",
       "2020-05-30       26628\n",
       "\n",
       "[120 rows x 1 columns]"
      ]
     },
     "execution_count": 381,
     "metadata": {},
     "output_type": "execute_result"
    }
   ],
   "source": [
    "#대구 지역의 송장건수를 일별로 더해 데이터프레임 생성\n",
    "logistic_data_daegu_19=logistic_data_daegu_19.groupby(['DL_YMD'], as_index=False).sum().drop(['DL_YMD', 'DL_GD_LCLS_CD', 'CTPV_CD', 'CTGG_CD', 'HDNG_CD'], axis=1)\n",
    "\n",
    "date_range=pd.date_range('2020-02-01', periods=120)\n",
    "logistic_data_daegu_19.set_index(date_range, inplace=True)\n",
    "logistic_data_daegu_19.rename(columns={'INVC_CONT': '대구 일일 송장건수'}, inplace=True)\n",
    "logistic_data_daegu_19"
   ]
  },
  {
   "cell_type": "code",
   "execution_count": 382,
   "metadata": {},
   "outputs": [
    {
     "data": {
      "text/html": [
       "<div>\n",
       "<style scoped>\n",
       "    .dataframe tbody tr th:only-of-type {\n",
       "        vertical-align: middle;\n",
       "    }\n",
       "\n",
       "    .dataframe tbody tr th {\n",
       "        vertical-align: top;\n",
       "    }\n",
       "\n",
       "    .dataframe thead th {\n",
       "        text-align: right;\n",
       "    }\n",
       "</style>\n",
       "<table border=\"1\" class=\"dataframe\">\n",
       "  <thead>\n",
       "    <tr style=\"text-align: right;\">\n",
       "      <th></th>\n",
       "      <th>대구시 주간 송장건수</th>\n",
       "    </tr>\n",
       "  </thead>\n",
       "  <tbody>\n",
       "    <tr>\n",
       "      <th>0</th>\n",
       "      <td>129513</td>\n",
       "    </tr>\n",
       "    <tr>\n",
       "      <th>1</th>\n",
       "      <td>198832</td>\n",
       "    </tr>\n",
       "    <tr>\n",
       "      <th>2</th>\n",
       "      <td>180777</td>\n",
       "    </tr>\n",
       "    <tr>\n",
       "      <th>3</th>\n",
       "      <td>159272</td>\n",
       "    </tr>\n",
       "    <tr>\n",
       "      <th>4</th>\n",
       "      <td>215605</td>\n",
       "    </tr>\n",
       "    <tr>\n",
       "      <th>5</th>\n",
       "      <td>192897</td>\n",
       "    </tr>\n",
       "    <tr>\n",
       "      <th>6</th>\n",
       "      <td>184180</td>\n",
       "    </tr>\n",
       "    <tr>\n",
       "      <th>7</th>\n",
       "      <td>179945</td>\n",
       "    </tr>\n",
       "    <tr>\n",
       "      <th>8</th>\n",
       "      <td>181600</td>\n",
       "    </tr>\n",
       "    <tr>\n",
       "      <th>9</th>\n",
       "      <td>183976</td>\n",
       "    </tr>\n",
       "    <tr>\n",
       "      <th>10</th>\n",
       "      <td>180689</td>\n",
       "    </tr>\n",
       "    <tr>\n",
       "      <th>11</th>\n",
       "      <td>176401</td>\n",
       "    </tr>\n",
       "    <tr>\n",
       "      <th>12</th>\n",
       "      <td>176272</td>\n",
       "    </tr>\n",
       "    <tr>\n",
       "      <th>13</th>\n",
       "      <td>171037</td>\n",
       "    </tr>\n",
       "    <tr>\n",
       "      <th>14</th>\n",
       "      <td>191214</td>\n",
       "    </tr>\n",
       "    <tr>\n",
       "      <th>15</th>\n",
       "      <td>187257</td>\n",
       "    </tr>\n",
       "    <tr>\n",
       "      <th>16</th>\n",
       "      <td>179733</td>\n",
       "    </tr>\n",
       "  </tbody>\n",
       "</table>\n",
       "</div>"
      ],
      "text/plain": [
       "    대구시 주간 송장건수\n",
       "0        129513\n",
       "1        198832\n",
       "2        180777\n",
       "3        159272\n",
       "4        215605\n",
       "5        192897\n",
       "6        184180\n",
       "7        179945\n",
       "8        181600\n",
       "9        183976\n",
       "10       180689\n",
       "11       176401\n",
       "12       176272\n",
       "13       171037\n",
       "14       191214\n",
       "15       187257\n",
       "16       179733"
      ]
     },
     "execution_count": 382,
     "metadata": {},
     "output_type": "execute_result"
    }
   ],
   "source": [
    "#대구 지역의 주간 송장건수 데이터 \n",
    "week_inv_daegu_19=[]\n",
    "for i in range(2,int(len(logistic_data_daegu_19)),7):\n",
    "    week_inv_daegu_19.append(sum(logistic_data_daegu_19.iloc[i:i+7, 0]))\n",
    "\n",
    "week_inv_daegu_19=pd.DataFrame(columns=['대구시 주간 송장건수'], data=week_inv_daegu_19)\n",
    "week_inv_daegu_19"
   ]
  },
  {
   "cell_type": "code",
   "execution_count": 383,
   "metadata": {},
   "outputs": [],
   "source": [
    "week_inv_daegu_19 = list(week_inv_daegu_19['대구시 주간 송장건수'].values)"
   ]
  },
  {
   "cell_type": "markdown",
   "metadata": {},
   "source": [
    "### 마찬가지로 19년도 송장 건수에 대한 공휴일 보정을 실시한다."
   ]
  },
  {
   "cell_type": "code",
   "execution_count": 384,
   "metadata": {},
   "outputs": [],
   "source": [
    "week_inv_daegu_19_adj = []\n",
    "\n",
    "for i in range(17):\n",
    "    if i == 3:\n",
    "        week_inv_daegu_19_adj.append(int(week_inv_daegu_19[i]*1.15))\n",
    "    elif i == 4:\n",
    "        week_inv_daegu_19_adj.append(int(week_inv_daegu_19[i]*0.85))\n",
    "    elif i == 13:\n",
    "        week_inv_daegu_19_adj.append(int(week_inv_daegu_19[i]*1.04))\n",
    "    elif i == 14:\n",
    "        week_inv_daegu_19_adj.append(int(week_inv_daegu_19[i]*0.96))\n",
    "    else:\n",
    "        week_inv_daegu_19_adj.append(week_inv_daegu_19[i])\n"
   ]
  },
  {
   "cell_type": "code",
   "execution_count": 385,
   "metadata": {},
   "outputs": [],
   "source": [
    "week_inv_seoul_19_array = np.array(week_inv_seoul_19)\n",
    "week_inv_daegu_19_array = np.array(week_inv_daegu_19)\n",
    "week_inv_seoul_19_adj_array = np.array(week_inv_seoul_19_adj)\n",
    "week_inv_daegu_19_adj_array = np.array(week_inv_daegu_19_adj)\n",
    "week_inv_seoul_20_array = np.array(week_inv_seoul_20)\n",
    "week_inv_daegu_20_array = np.array(week_inv_daegu_20)\n",
    "week_inv_seoul_20_adj_array = np.array(week_inv_seoul_20_adj)\n",
    "week_inv_daegu_20_adj_array = np.array(week_inv_daegu_20_adj)\n",
    "\n",
    "# 리스트끼리 빼면 원하는 값이 안나와 어레이로 변환\n",
    "\n",
    "week_inv_seoul_yeardif = week_inv_seoul_20_array - week_inv_seoul_19_array\n",
    "week_inv_seoul_adj_yeardif = week_inv_seoul_20_adj_array - week_inv_seoul_19_array\n",
    "week_inv_daegu_yeardif = week_inv_daegu_20_array-week_inv_daegu_19_array\n",
    "week_inv_daegu_ajd_yeardif = week_inv_daegu_20_adj_array - week_inv_daegu_19_array\n",
    "# yeardif는 전년대비를 뜻하는 것\n"
   ]
  },
  {
   "cell_type": "code",
   "execution_count": 386,
   "metadata": {
    "scrolled": false
   },
   "outputs": [
    {
     "data": {
      "text/plain": [
       "[<matplotlib.lines.Line2D at 0x2c14728aa20>]"
      ]
     },
     "execution_count": 386,
     "metadata": {},
     "output_type": "execute_result"
    },
    {
     "data": {
      "image/png": "[encoded data removed]",
      "text/plain": [
       "<Figure size 936x648 with 6 Axes>"
      ]
     },
     "metadata": {
      "needs_background": "light"
     },
     "output_type": "display_data"
    }
   ],
   "source": [
    "plt.figure(figsize=(13, 9))\n",
    "\n",
    "plt.subplot(731)\n",
    "plt.title('서울 주간 확진자 수')\n",
    "plt.plot(week_17, week_num_seoul_20)\n",
    "\n",
    "plt.subplot(733)\n",
    "plt.title('대구 주간 확진자 수')\n",
    "plt.plot(week_17, week_num_daegu_20)\n",
    "\n",
    "plt.subplot(7,3,7)\n",
    "plt.title('20년도 서울 주간 보정 송장 건수')\n",
    "plt.plot(week_17, week_inv_seoul_20_adj)\n",
    "\n",
    "plt.subplot(7,3,9)\n",
    "plt.title('20년도 대구 주간 보정 송장 건수')\n",
    "plt.plot(week_17, week_inv_daegu_20_adj)\n",
    "\n",
    "plt.subplot(7,3,13)\n",
    "plt.title('전년대비 서울 보정 송장 건수')\n",
    "plt.plot(week_17, week_inv_seoul_adj_yeardif)\n",
    "\n",
    "plt.subplot(7,3,15)\n",
    "plt.title('전년대비 대구 보정 주간 송장 건수')\n",
    "plt.plot(week_17, week_inv_daegu_ajd_yeardif)"
   ]
  },
  {
   "cell_type": "markdown",
   "metadata": {},
   "source": [
    "## 2월 1주차, 2주차는 분석에서 제외 할 것이다 \n",
    "### 근거\n",
    "- 코로나의 영향이 미미했다 (2주차 까지의 확진자 수 전부 합쳐도 전국 29명이고 본격 확산세는 3주차부터 시작)  \n",
    "- 19년도 2월 1주차에 택배 물량의 변동이 큰 설날이 있었기 때문이다. (20년에는 설날이 1월에 있었다.)"
   ]
  },
  {
   "cell_type": "code",
   "execution_count": 387,
   "metadata": {},
   "outputs": [],
   "source": [
    "week_num_seoul_20_from_3week = week_num_seoul_20[2:]\n",
    "week_num_daegu_20_from_3week = week_num_daegu_20[2:]\n",
    "week_inv_seoul_20_from_3week = week_inv_seoul_20[2:]\n",
    "week_inv_daegu_20_from_3week = week_inv_daegu_20[2:]\n",
    "week_inv_seoul_20_adj_from_3week = week_inv_seoul_20_adj[2:]\n",
    "week_inv_seoul_19_adj_from_3week = week_inv_seoul_19_adj[2:]\n",
    "week_inv_daegu_20_adj_from_3week = week_inv_daegu_20_adj[2:]\n",
    "week_inv_daegu_19_adj_from_3week = week_inv_daegu_19_adj[2:]\n",
    "week_inv_seoul_19_from_3week = week_inv_seoul_19[2:]\n",
    "week_inv_daegu_19_from_3week = week_inv_daegu_19[2:]\n",
    "week_inv_seoul_yeardif_from_3week = week_inv_seoul_yeardif[2:]\n",
    "week_inv_daegu_yeardif_from_3week = week_inv_daegu_yeardif[2:]\n",
    "week_inv_seoul_adj_yeardif_from_3week = week_inv_seoul_adj_yeardif[2:]\n",
    "week_inv_daegu_adj_yeardif_from_3week = week_inv_daegu_ajd_yeardif[2:]"
   ]
  },
  {
   "cell_type": "code",
   "execution_count": 388,
   "metadata": {},
   "outputs": [
    {
     "data": {
      "text/plain": [
       "[<matplotlib.lines.Line2D at 0x2c14b2958d0>]"
      ]
     },
     "execution_count": 388,
     "metadata": {},
     "output_type": "execute_result"
    },
    {
     "data": {
      "image/png": "[encoded data removed]",
      "text/plain": [
       "<Figure size 936x648 with 10 Axes>"
      ]
     },
     "metadata": {
      "needs_background": "light"
     },
     "output_type": "display_data"
    }
   ],
   "source": [
    "plt.figure(figsize=(13, 9))\n",
    "\n",
    "plt.subplot(9,3,1)\n",
    "plt.title('서울 주간 확진자 수')\n",
    "plt.plot(week_from_3week, week_num_seoul_20_from_3week)\n",
    "\n",
    "plt.subplot(9,3,3)\n",
    "plt.title('대구 주간 확진자 수')\n",
    "plt.plot(week_from_3week, week_num_daegu_20_from_3week)\n",
    "\n",
    "plt.subplot(9,3,7)\n",
    "plt.title('20년도 서울 주간 송장 건수')\n",
    "plt.plot(week_from_3week, week_inv_seoul_20_from_3week)\n",
    "\n",
    "plt.subplot(9,3,9)\n",
    "plt.title('20년도 대구 주간 송장 건수')\n",
    "plt.plot(week_from_3week, week_inv_daegu_20_from_3week)\n",
    "\n",
    "plt.subplot(9,3,13)\n",
    "plt.title('20년도 서울 주간 보정 송장 건수')\n",
    "plt.plot(week_from_3week, week_inv_seoul_20_adj_from_3week)\n",
    "\n",
    "plt.subplot(9,3,15)\n",
    "plt.title('20년도 대구 주간 보정 송장 건수')\n",
    "plt.plot(week_from_3week, week_inv_daegu_20_adj_from_3week)\n",
    "\n",
    "plt.subplot(9,3,19)\n",
    "plt.title('전년대비 서울 송장 건수')\n",
    "plt.plot(week_from_3week, week_inv_seoul_yeardif_from_3week)\n",
    "\n",
    "plt.subplot(9,3,21)\n",
    "plt.title('전년대비 대구 송장 건수')\n",
    "plt.plot(week_from_3week, week_inv_daegu_yeardif_from_3week)\n",
    "\n",
    "plt.subplot(9,3,25)\n",
    "plt.title('전년대비 서울 보정 송장 건수')\n",
    "plt.plot(week_from_3week, week_inv_seoul_adj_yeardif_from_3week)\n",
    "\n",
    "plt.subplot(9,3,27)\n",
    "plt.title('전년대비 대구 보정 주간 송장 건수')\n",
    "plt.plot(week_from_3week, week_inv_daegu_adj_yeardif_from_3week)"
   ]
  },
  {
   "cell_type": "code",
   "execution_count": null,
   "metadata": {},
   "outputs": [],
   "source": []
  },
  {
   "cell_type": "markdown",
   "metadata": {},
   "source": [
    "맨 마지막줄의 그래프인 '전년대비' '(공휴일)보정' 그래프를 보면 4주차, 14주차에 송장건수가 급증한다.  \n",
    "이는 사람들이 기존에 없던 확산세에 대해 두려움을 느껴 외출을 꺼리면서 택배를 주문하는 반응속도가 매우 빠르단 것을 알 수 있다.  \n",
    "또한 바로 다음 주에는 택배량이 안정세를 갖는 특징을 보인다. 이는 물건을 살 사람은 이미 빠르게 다 샀기 때문인 것 같다. \n",
    "\n",
    "또한 전년대비 보정 송장 건수 그래프를 보면 3~11주차(신천지 영향)는 대구의 확산세와 비슷한 양상이고,  \n",
    "12주차부터(14주차에 이태원클럽)는 서울의 확산세와 비슷한 양상을 띤다.  \n",
    "#### 국민들은 속한 지역의 확산세보다는 전국적인 이슈에 민감하게 반응함을 알 수 있다.\n",
    "\n",
    "또한 14주차 폭증한 택배량에 비해 이태원으로 인한 확진자 수는 신천지 때와 비교했을 때 굉장히 적다.   \n",
    "#### 이는 사람들이 이미 코로나 확산세를 겪어본 학습효과에 의한 것으로 보인다.  \n",
    "따라서 다시한번 확산세가 시작된다면 택배량이 금방 폭증했다가 안정세를 찾을 것으로 예상된다."
   ]
  },
  {
   "cell_type": "code",
   "execution_count": 389,
   "metadata": {},
   "outputs": [
    {
     "name": "stdout",
     "output_type": "stream",
     "text": [
      "서울 주간 확진자 수 - 서울 주간 송장 건수 상관계수\n",
      "          0         1\n",
      "0  1.000000  0.339499\n",
      "1  0.339499  1.000000 \n",
      "\n",
      "서울 주간 확진자 수 - 서울 주간 보정 송장 건수 상관계수\n",
      "          0         1\n",
      "0  1.000000  0.365456\n",
      "1  0.365456  1.000000 \n",
      "\n",
      "서울 주간 확진자 수 - 전년대비 서울 주간 송장 건수 상관계수\n",
      "          0         1\n",
      "0  1.000000  0.207488\n",
      "1  0.207488  1.000000 \n",
      "\n",
      "서울 주간 확진자 수 - 전년대비 서울 주간 보정 송장 건수 상관계수\n",
      "          0         1\n",
      "0  1.000000  0.206032\n",
      "1  0.206032  1.000000 \n",
      "\n",
      "서울 주간 확진자 수 - 전년대비 서울 주간 보정 송장 건수 상관계수 최대치 - 11주차~17주차\n",
      "          0         1\n",
      "0  1.000000  0.604339\n",
      "1  0.604339  1.000000 \n",
      "\n"
     ]
    }
   ],
   "source": [
    "print('서울 주간 확진자 수 - 서울 주간 송장 건수 상관계수')\n",
    "lst=[week_num_seoul_20_from_3week, week_inv_seoul_20_from_3week]\n",
    "df = pd.DataFrame(lst).T\n",
    "corr = df.corr(method = 'pearson')\n",
    "print(corr,'\\n')\n",
    "\n",
    "print('서울 주간 확진자 수 - 서울 주간 보정 송장 건수 상관계수')\n",
    "lst = [week_num_seoul_20_from_3week, week_inv_seoul_20_adj_from_3week]\n",
    "df = pd.DataFrame(lst).T\n",
    "corr = df.corr(method = 'pearson')\n",
    "print(corr,'\\n')\n",
    "\n",
    "print('서울 주간 확진자 수 - 전년대비 서울 주간 송장 건수 상관계수')\n",
    "lst = [week_num_seoul_20_from_3week, week_inv_seoul_yeardif_from_3week]\n",
    "df = pd.DataFrame(lst).T\n",
    "corr = df.corr(method = 'pearson')\n",
    "print(corr,'\\n')\n",
    "\n",
    "print('서울 주간 확진자 수 - 전년대비 서울 주간 보정 송장 건수 상관계수')\n",
    "lst = [week_num_seoul_20_from_3week, week_inv_seoul_adj_yeardif_from_3week]\n",
    "df = pd.DataFrame(lst).T\n",
    "corr = df.corr(method = 'pearson')\n",
    "print(corr,'\\n')\n",
    "\n",
    "print('서울 주간 확진자 수 - 전년대비 서울 주간 보정 송장 건수 상관계수 최대치 - 11주차~17주차')\n",
    "lst = [week_num_seoul_20_from_3week[8:], week_inv_seoul_adj_yeardif_from_3week[8:]]\n",
    "df = pd.DataFrame(lst).T\n",
    "corr = df.corr(method = 'pearson')\n",
    "print(corr,'\\n')"
   ]
  },
  {
   "cell_type": "markdown",
   "metadata": {},
   "source": [
    "공휴일 보정을 실시했을 때 상관계수가 올라간다  \n",
    "상관계수가 크게 높지 않은 이유는, 택배는 전국의 코로나 확산세에 영향을 받지만 여기에는 서울의 코로나 확진자만으로 분석을 했기 때문이다. \n",
    "  \n",
    "서울의 이태원 클럽 감염으로인해 전국이 떠들썩 했던 14주차를 포함해 11주차~17주차의 상관계수를 도출하면 0.52가 나온다"
   ]
  },
  {
   "cell_type": "code",
   "execution_count": 390,
   "metadata": {},
   "outputs": [
    {
     "name": "stdout",
     "output_type": "stream",
     "text": [
      "대구 주간 확진자 수 - 대구 주간 송장 건수 상관계수\n",
      "          0         1\n",
      "0  1.000000  0.780376\n",
      "1  0.780376  1.000000 \n",
      "\n",
      "대구 주간 확진자 수 - 대구 주간 보정 송장 건수 상관계수\n",
      "          0         1\n",
      "0  1.000000  0.826973\n",
      "1  0.826973  1.000000 \n",
      "\n",
      "대구 주간 확진자 수 - 전년대비 대구 주간 송장 건수 상관계수\n",
      "         0        1\n",
      "0  1.00000  0.58764\n",
      "1  0.58764  1.00000 \n",
      "\n",
      "대구 주간 확진자 수 - 전년대비 대구 주간 보정 송장 건수 상관계수\n",
      "          0         1\n",
      "0  1.000000  0.610253\n",
      "1  0.610253  1.000000 \n",
      "\n",
      "대구 주간 확진자 수 - 대구 주간 보정 송장 건수 상관계수 최대치 - 3주차~10주차\n",
      "          0         1\n",
      "0  1.000000  0.954563\n",
      "1  0.954563  1.000000 \n",
      "\n",
      "대구 주간 확진자 수 - 전년대비 대구 주간 보정 송장 건수 상관계수 최대치 - 3주차~12주차\n",
      "          0         1\n",
      "0  1.000000  0.701851\n",
      "1  0.701851  1.000000 \n",
      "\n"
     ]
    }
   ],
   "source": [
    "print('대구 주간 확진자 수 - 대구 주간 송장 건수 상관계수')\n",
    "lst=[week_num_daegu_20_from_3week, week_inv_daegu_20_from_3week]\n",
    "df = pd.DataFrame(lst).T\n",
    "corr = df.corr(method = 'pearson')\n",
    "print(corr,'\\n')\n",
    "\n",
    "print('대구 주간 확진자 수 - 대구 주간 보정 송장 건수 상관계수')\n",
    "lst = [week_num_daegu_20_from_3week, week_inv_daegu_20_adj_from_3week]\n",
    "df = pd.DataFrame(lst).T\n",
    "corr = df.corr(method = 'pearson')\n",
    "print(corr,'\\n')\n",
    "\n",
    "print('대구 주간 확진자 수 - 전년대비 대구 주간 송장 건수 상관계수')\n",
    "lst = [week_num_daegu_20_from_3week, week_inv_daegu_yeardif_from_3week]\n",
    "df = pd.DataFrame(lst).T\n",
    "corr = df.corr(method = 'pearson')\n",
    "print(corr,'\\n')\n",
    "\n",
    "print('대구 주간 확진자 수 - 전년대비 대구 주간 보정 송장 건수 상관계수')\n",
    "lst = [week_num_daegu_20_from_3week, week_inv_daegu_adj_yeardif_from_3week]\n",
    "df = pd.DataFrame(lst).T\n",
    "corr = df.corr(method = 'pearson')\n",
    "print(corr,'\\n')\n",
    "\n",
    "print('대구 주간 확진자 수 - 대구 주간 보정 송장 건수 상관계수 최대치 - 3주차~10주차')\n",
    "lst = [week_num_daegu_20_from_3week[:9], week_inv_daegu_20_adj_from_3week[:9]]\n",
    "df = pd.DataFrame(lst).T\n",
    "corr = df.corr(method = 'pearson')\n",
    "print(corr,'\\n')\n",
    "\n",
    "print('대구 주간 확진자 수 - 전년대비 대구 주간 보정 송장 건수 상관계수 최대치 - 3주차~12주차')\n",
    "lst = [week_num_daegu_20_from_3week[:11], week_inv_daegu_adj_yeardif_from_3week[:11]]\n",
    "df = pd.DataFrame(lst).T\n",
    "corr = df.corr(method = 'pearson')\n",
    "print(corr,'\\n')"
   ]
  },
  {
   "cell_type": "markdown",
   "metadata": {},
   "source": [
    "코로나 초기에 대구의 신천지 집단감염으로 인한 확산세가 전국의 확산세를 주도했기 때문에 대구의 상관계수는 높게 나온다.  \n",
    "\n"
   ]
  },
  {
   "cell_type": "markdown",
   "metadata": {},
   "source": [
    "송장건수 변화 비율에 비해 확진자 수의 변화 비율의 변동이 너무 커서 확산세에 따른 택배량을 수식적인 모델링을 하지는 못했지만,  \n",
    "대략적으로 어떠한 양상을 띠는 지는 위의 그래프 형상에서 설명했듯이 여러가지 시사점을 도출할 수 있었다."
   ]
  },
  {
   "cell_type": "markdown",
   "metadata": {},
   "source": [
    "# 2. 송장 건수와 매출액의 상관도 분석    \n"
   ]
  },
  {
   "cell_type": "markdown",
   "metadata": {},
   "source": [
    "물동량과 매출액의 상관계수 분석  \n",
    "- 2012년 ~ 2019년의 물동량과 매출액 데이터 활용  \n",
    "출처 : 국가물류통합정보센터"
   ]
  },
  {
   "cell_type": "code",
   "execution_count": 391,
   "metadata": {},
   "outputs": [
    {
     "name": "stdout",
     "output_type": "stream",
     "text": [
      "2012년~2019년의 물동량\n",
      " [140598, 150931, 162325, 181596, 204666, 231946, 254278, 278980]\n"
     ]
    }
   ],
   "source": [
    "box_data = pd.read_excel('./01_parcelServiceLogistics.xlsx')\n",
    "box_datas = box_data[3:12]\n",
    "box = box_datas['Unnamed: 7']\n",
    "boxes_12_19 = list(box)[1:]\n",
    "print('2012년~2019년의 물동량\\n', boxes_12_19)"
   ]
  },
  {
   "cell_type": "code",
   "execution_count": 392,
   "metadata": {},
   "outputs": [
    {
     "name": "stdout",
     "output_type": "stream",
     "text": [
      "2012년~2019년의  매출액\n",
      " [35232, 37348, 39756, 43437, 47444, 52145, 56673, 63303]\n"
     ]
    }
   ],
   "source": [
    "sales_data = pd.read_excel('./02_parcelServiceSales.xlsx')\n",
    "sales_datas = sales_data[3:12]\n",
    "sale = sales_datas['Unnamed: 7']\n",
    "sales_12_19 = list(sale)[1:]\n",
    "print('2012년~2019년의  매출액\\n', sales_12_19)\n"
   ]
  },
  {
   "cell_type": "code",
   "execution_count": 393,
   "metadata": {},
   "outputs": [
    {
     "name": "stdout",
     "output_type": "stream",
     "text": [
      "          0         1\n",
      "0  1.000000  0.998001\n",
      "1  0.998001  1.000000\n"
     ]
    }
   ],
   "source": [
    "lst = [boxes_12_19, sales_12_19]\n",
    "df = pd.DataFrame(lst).T\n",
    "corr = df.corr(method = 'pearson')\n",
    "print(corr)"
   ]
  },
  {
   "cell_type": "markdown",
   "metadata": {},
   "source": [
    "### 물동량과 매출액의 상관계수가 1에 가깝게 나온다.  \n",
    "### 송장 건수를 물동량이라고 본다면, 송장 건수의 증가는 매출액의 증가로 이어진다고 볼 수 있다."
   ]
  },
  {
   "cell_type": "markdown",
   "metadata": {},
   "source": [
    "# 3. 택배회사의 매출과 인력수요의 상관도 분석\n",
    "2012~2018의 택배회사 매출액 데이터, 종사자 수 데이터를 통해\n",
    "매출에 따룬 인력수요 예측 모델 만들기\n",
    "\n",
    "f(매출액)=종사자 수\n"
   ]
  },
  {
   "cell_type": "code",
   "execution_count": 394,
   "metadata": {},
   "outputs": [
    {
     "name": "stdout",
     "output_type": "stream",
     "text": [
      "2012~2018 택배업 매출액(억원)\n",
      " [35232, 37348, 39756, 43437, 47444, 52145, 56673]\n"
     ]
    }
   ],
   "source": [
    "print('2012~2018 택배업 매출액(억원)\\n', sales_12_19[:7])\n",
    "par_sales_year = sales_12_19[:7]"
   ]
  },
  {
   "cell_type": "code",
   "execution_count": 395,
   "metadata": {},
   "outputs": [
    {
     "data": {
      "text/html": [
       "<div>\n",
       "<style scoped>\n",
       "    .dataframe tbody tr th:only-of-type {\n",
       "        vertical-align: middle;\n",
       "    }\n",
       "\n",
       "    .dataframe tbody tr th {\n",
       "        vertical-align: top;\n",
       "    }\n",
       "\n",
       "    .dataframe thead th {\n",
       "        text-align: right;\n",
       "    }\n",
       "</style>\n",
       "<table border=\"1\" class=\"dataframe\">\n",
       "  <thead>\n",
       "    <tr style=\"text-align: right;\">\n",
       "      <th></th>\n",
       "      <th>0</th>\n",
       "      <th>1</th>\n",
       "      <th>2</th>\n",
       "      <th>3</th>\n",
       "      <th>4</th>\n",
       "      <th>5</th>\n",
       "      <th>6</th>\n",
       "      <th>7</th>\n",
       "      <th>8</th>\n",
       "      <th>9</th>\n",
       "      <th>10</th>\n",
       "    </tr>\n",
       "  </thead>\n",
       "  <tbody>\n",
       "    <tr>\n",
       "      <th>0</th>\n",
       "      <td>산업별</td>\n",
       "      <td>종사자규모별</td>\n",
       "      <td>종사상지위별</td>\n",
       "      <td>성별</td>\n",
       "      <td>2018</td>\n",
       "      <td>2017</td>\n",
       "      <td>2016</td>\n",
       "      <td>2015</td>\n",
       "      <td>2014</td>\n",
       "      <td>2013</td>\n",
       "      <td>2012</td>\n",
       "    </tr>\n",
       "    <tr>\n",
       "      <th>1</th>\n",
       "      <td>택배업</td>\n",
       "      <td>합계</td>\n",
       "      <td>합계</td>\n",
       "      <td>계</td>\n",
       "      <td>41376</td>\n",
       "      <td>38408</td>\n",
       "      <td>35708</td>\n",
       "      <td>34248</td>\n",
       "      <td>33071</td>\n",
       "      <td>30910</td>\n",
       "      <td>28743</td>\n",
       "    </tr>\n",
       "    <tr>\n",
       "      <th>2</th>\n",
       "      <td>택배업</td>\n",
       "      <td>합계</td>\n",
       "      <td>합계</td>\n",
       "      <td>남자</td>\n",
       "      <td>39603</td>\n",
       "      <td>36910</td>\n",
       "      <td>34814</td>\n",
       "      <td>33163</td>\n",
       "      <td>32027</td>\n",
       "      <td>29701</td>\n",
       "      <td>27364</td>\n",
       "    </tr>\n",
       "    <tr>\n",
       "      <th>3</th>\n",
       "      <td>택배업</td>\n",
       "      <td>합계</td>\n",
       "      <td>합계</td>\n",
       "      <td>여자</td>\n",
       "      <td>1773</td>\n",
       "      <td>1498</td>\n",
       "      <td>894</td>\n",
       "      <td>1085</td>\n",
       "      <td>1044</td>\n",
       "      <td>1209</td>\n",
       "      <td>1379</td>\n",
       "    </tr>\n",
       "    <tr>\n",
       "      <th>4</th>\n",
       "      <td>택배업</td>\n",
       "      <td>합계</td>\n",
       "      <td>피고용자</td>\n",
       "      <td>계</td>\n",
       "      <td>41376</td>\n",
       "      <td>38408</td>\n",
       "      <td>35708</td>\n",
       "      <td>34055</td>\n",
       "      <td>33071</td>\n",
       "      <td>30910</td>\n",
       "      <td>28743</td>\n",
       "    </tr>\n",
       "    <tr>\n",
       "      <th>...</th>\n",
       "      <td>...</td>\n",
       "      <td>...</td>\n",
       "      <td>...</td>\n",
       "      <td>...</td>\n",
       "      <td>...</td>\n",
       "      <td>...</td>\n",
       "      <td>...</td>\n",
       "      <td>...</td>\n",
       "      <td>...</td>\n",
       "      <td>...</td>\n",
       "      <td>...</td>\n",
       "    </tr>\n",
       "    <tr>\n",
       "      <th>164</th>\n",
       "      <td>택배업</td>\n",
       "      <td>500명 이상</td>\n",
       "      <td>무급가족종사자</td>\n",
       "      <td>남자</td>\n",
       "      <td>-</td>\n",
       "      <td>NaN</td>\n",
       "      <td>NaN</td>\n",
       "      <td>-</td>\n",
       "      <td>-</td>\n",
       "      <td>-</td>\n",
       "      <td>-</td>\n",
       "    </tr>\n",
       "    <tr>\n",
       "      <th>165</th>\n",
       "      <td>택배업</td>\n",
       "      <td>500명 이상</td>\n",
       "      <td>무급가족종사자</td>\n",
       "      <td>여자</td>\n",
       "      <td>-</td>\n",
       "      <td>NaN</td>\n",
       "      <td>NaN</td>\n",
       "      <td>-</td>\n",
       "      <td>-</td>\n",
       "      <td>-</td>\n",
       "      <td>-</td>\n",
       "    </tr>\n",
       "    <tr>\n",
       "      <th>166</th>\n",
       "      <td>택배업</td>\n",
       "      <td>500명 이상</td>\n",
       "      <td>기타종사자</td>\n",
       "      <td>계</td>\n",
       "      <td>-</td>\n",
       "      <td>NaN</td>\n",
       "      <td>NaN</td>\n",
       "      <td>22</td>\n",
       "      <td>-</td>\n",
       "      <td>-</td>\n",
       "      <td>-</td>\n",
       "    </tr>\n",
       "    <tr>\n",
       "      <th>167</th>\n",
       "      <td>택배업</td>\n",
       "      <td>500명 이상</td>\n",
       "      <td>기타종사자</td>\n",
       "      <td>남자</td>\n",
       "      <td>-</td>\n",
       "      <td>NaN</td>\n",
       "      <td>NaN</td>\n",
       "      <td>22</td>\n",
       "      <td>-</td>\n",
       "      <td>-</td>\n",
       "      <td>-</td>\n",
       "    </tr>\n",
       "    <tr>\n",
       "      <th>168</th>\n",
       "      <td>택배업</td>\n",
       "      <td>500명 이상</td>\n",
       "      <td>기타종사자</td>\n",
       "      <td>여자</td>\n",
       "      <td>-</td>\n",
       "      <td>NaN</td>\n",
       "      <td>NaN</td>\n",
       "      <td>-</td>\n",
       "      <td>-</td>\n",
       "      <td>-</td>\n",
       "      <td>-</td>\n",
       "    </tr>\n",
       "  </tbody>\n",
       "</table>\n",
       "<p>169 rows × 11 columns</p>\n",
       "</div>"
      ],
      "text/plain": [
       "      0        1        2   3      4      5      6      7      8      9   \\\n",
       "0    산업별   종사자규모별   종사상지위별  성별   2018   2017   2016   2015   2014   2013   \n",
       "1    택배업       합계       합계   계  41376  38408  35708  34248  33071  30910   \n",
       "2    택배업       합계       합계  남자  39603  36910  34814  33163  32027  29701   \n",
       "3    택배업       합계       합계  여자   1773   1498    894   1085   1044   1209   \n",
       "4    택배업       합계     피고용자   계  41376  38408  35708  34055  33071  30910   \n",
       "..   ...      ...      ...  ..    ...    ...    ...    ...    ...    ...   \n",
       "164  택배업  500명 이상  무급가족종사자  남자      -    NaN    NaN      -      -      -   \n",
       "165  택배업  500명 이상  무급가족종사자  여자      -    NaN    NaN      -      -      -   \n",
       "166  택배업  500명 이상    기타종사자   계      -    NaN    NaN     22      -      -   \n",
       "167  택배업  500명 이상    기타종사자  남자      -    NaN    NaN     22      -      -   \n",
       "168  택배업  500명 이상    기타종사자  여자      -    NaN    NaN      -      -      -   \n",
       "\n",
       "        10  \n",
       "0     2012  \n",
       "1    28743  \n",
       "2    27364  \n",
       "3     1379  \n",
       "4    28743  \n",
       "..     ...  \n",
       "164      -  \n",
       "165      -  \n",
       "166      -  \n",
       "167      -  \n",
       "168      -  \n",
       "\n",
       "[169 rows x 11 columns]"
      ]
     },
     "execution_count": 395,
     "metadata": {},
     "output_type": "execute_result"
    }
   ],
   "source": [
    "par_num = pd.read_csv('./택배업 종사자 수.csv', sep=',',thousands=',', header=None)\n",
    "par_num\n",
    "#출처 : 국가물류통합정보센터"
   ]
  },
  {
   "cell_type": "code",
   "execution_count": 396,
   "metadata": {},
   "outputs": [
    {
     "name": "stdout",
     "output_type": "stream",
     "text": [
      "2012~2018 택배업 종사자 수\n",
      " [28743, 30910, 33071, 34248, 35708, 38408, 41376]\n"
     ]
    }
   ],
   "source": [
    "par_num_years=par_num.iloc[1,4:11]\n",
    "par_num_year = []\n",
    "for i in range(7):\n",
    "    par_num_year.append(int(par_num_years[10-i]))\n",
    "print('2012~2018 택배업 종사자 수\\n', par_num_year)"
   ]
  },
  {
   "cell_type": "markdown",
   "metadata": {},
   "source": [
    "#### 매출액(x축)에 따른 종사자 수(y축)"
   ]
  },
  {
   "cell_type": "code",
   "execution_count": 397,
   "metadata": {},
   "outputs": [
    {
     "data": {
      "text/plain": [
       "[<matplotlib.lines.Line2D at 0x2c14c317630>]"
      ]
     },
     "execution_count": 397,
     "metadata": {},
     "output_type": "execute_result"
    },
    {
     "data": {
      "image/png": "[encoded data removed]",
      "text/plain": [
       "<Figure size 720x288 with 1 Axes>"
      ]
     },
     "metadata": {
      "needs_background": "light"
     },
     "output_type": "display_data"
    }
   ],
   "source": [
    "plt.plot(par_sales_year, par_num_year)"
   ]
  },
  {
   "cell_type": "markdown",
   "metadata": {},
   "source": [
    "#### predict 활용해 매출액을 통해 종사자 수 예측  \n",
    "그래프 모형에 따라 선형회귀가 최선임을 알 수 있다."
   ]
  },
  {
   "cell_type": "code",
   "execution_count": 398,
   "metadata": {
    "scrolled": true
   },
   "outputs": [
    {
     "name": "stdout",
     "output_type": "stream",
     "text": [
      "2012~2018 택배업 매출액(억원)\n",
      " [35232, 37348, 39756, 43437, 47444, 52145, 56673]\n",
      "2012~2018 택배업 종사자 수\n",
      " [28743, 30910, 33071, 34248, 35708, 38408, 41376]\n"
     ]
    },
    {
     "data": {
      "text/plain": [
       "\"\\nsales=int(input('매출액(억원) : '))\\npredict_sales = line_fitter3.predict([[sales]])\\n\\nprint('매출액이  %d억원이라면 종사자 수는 %d명이다'%(sales, predict_sales))\\n\""
      ]
     },
     "execution_count": 398,
     "metadata": {},
     "output_type": "execute_result"
    }
   ],
   "source": [
    "print('2012~2018 택배업 매출액(억원)\\n', par_sales_year)\n",
    "print('2012~2018 택배업 종사자 수\\n', par_num_year)\n",
    "\n",
    "line_fitter3 = LinearRegression()\n",
    "x3=pd.DataFrame(par_sales_year)\n",
    "y3=pd.DataFrame(par_num_year)\n",
    "line_fitter3.fit(x3,y3)\n",
    "\n",
    "#바로 밑의 주석은 run all하면 input값 입력하는 거 걸려서 임시로 주석처리 한 것\n",
    "'''\n",
    "sales=int(input('매출액(억원) : '))\n",
    "predict_sales = line_fitter3.predict([[sales]])\n",
    "\n",
    "print('매출액이  %d억원이라면 종사자 수는 %d명이다'%(sales, predict_sales))\n",
    "'''"
   ]
  },
  {
   "cell_type": "markdown",
   "metadata": {},
   "source": [
    "fit과 predict를 통해 매출액을 통해 종사자 수를 예측할 수 있다."
   ]
  },
  {
   "cell_type": "markdown",
   "metadata": {},
   "source": [
    "## 따라서 송장 건수가 늘면 매출액이 늘고, 필요 인력이 늘 것임을 알 수 있다."
   ]
  }
 ],
 "metadata": {
  "kernelspec": {
   "display_name": "Python 3",
   "language": "python",
   "name": "python3"
  },
  "language_info": {
   "codemirror_mode": {
    "name": "ipython",
    "version": 3
   },
   "file_extension": ".py",
   "mimetype": "text/x-python",
   "name": "python",
   "nbconvert_exporter": "python",
   "pygments_lexer": "ipython3",
   "version": "3.6.10"
  }
 },
 "nbformat": 4,
 "nbformat_minor": 4
}
