{
 "cells": [
  {
   "cell_type": "markdown",
   "execution_count": null,
   "metadata": {
    "papermill": {
     "duration": 0.004646,
     "end_time": "2020-09-06T11:28:39.739148",
     "exception": false,
     "start_time": "2020-09-06T11:28:39.734502",
     "status": "completed"
    },
    "tags": []
   },
   "source": [
    "# data load"
   ]
  },
  {
   "cell_type": "code",
   "execution_count": 1,
   "metadata": {
    "_cell_guid": "b1076dfc-b9ad-4769-8c92-a6c4dae69d19",
    "_uuid": "8f2839f25d086af736a60e9eeb907d3b93b6e0e5",
    "execution": {
     "iopub.execute_input": "2020-09-06T11:28:39.752064Z",
     "iopub.status.busy": "2020-09-06T11:28:39.751273Z",
     "iopub.status.idle": "2020-09-06T11:28:40.665041Z",
     "shell.execute_reply": "2020-09-06T11:28:40.663587Z"
    },
    "papermill": {
     "duration": 0.921934,
     "end_time": "2020-09-06T11:28:40.665166",
     "exception": false,
     "start_time": "2020-09-06T11:28:39.743232",
     "status": "completed"
    },
    "tags": []
   },
   "outputs": [],
   "source": [
    "import numpy as np\n",
    "import pandas as pd\n",
    "import multiprocessing\n",
    "import sklearn\n",
    "import lightgbm\n",
    "from tqdm import tqdm"
   ]
  },
  {
   "cell_type": "code",
   "execution_count": 2,
   "metadata": {
    "_cell_guid": "79c7e3d0-c299-4dcb-8224-4455121ee9b0",
    "_uuid": "d629ff2d2480ee46fbb7e2d37f6b5fab8052498a",
    "execution": {
     "iopub.execute_input": "2020-09-06T11:28:40.681797Z",
     "iopub.status.busy": "2020-09-06T11:28:40.680942Z",
     "iopub.status.idle": "2020-09-06T11:28:47.108571Z",
     "shell.execute_reply": "2020-09-06T11:28:47.107307Z"
    },
    "papermill": {
     "duration": 6.439164,
     "end_time": "2020-09-06T11:28:47.108751",
     "exception": false,
     "start_time": "2020-09-06T11:28:40.669587",
     "status": "completed"
    },
    "tags": []
   },
   "outputs": [],
   "source": [
    "files = ['../input/lish-moa/test_features.csv', \n",
    "         '../input/lish-moa/train_targets_scored.csv',\n",
    "         '../input/lish-moa/train_features.csv',\n",
    "         '../input/lish-moa/train_targets_nonscored.csv',\n",
    "         '../input/lish-moa/sample_submission.csv']\n",
    "\n",
    "with multiprocessing.Pool() as pool:\n",
    "    test, train_target, train, train_nonscored, submission = pool.map(pd.read_csv, files)"
   ]
  },
  {
   "cell_type": "markdown",
   "execution_count": null,
   "metadata": {
    "papermill": {
     "duration": 0.004818,
     "end_time": "2020-09-06T11:28:47.119844",
     "exception": false,
     "start_time": "2020-09-06T11:28:47.115026",
     "status": "completed"
    },
    "tags": []
   },
   "source": [
    "# data cleaning"
   ]
  },
  {
   "cell_type": "code",
   "execution_count": 3,
   "metadata": {
    "execution": {
     "iopub.execute_input": "2020-09-06T11:28:47.136735Z",
     "iopub.status.busy": "2020-09-06T11:28:47.135795Z",
     "iopub.status.idle": "2020-09-06T11:28:47.140803Z",
     "shell.execute_reply": "2020-09-06T11:28:47.140233Z"
    },
    "papermill": {
     "duration": 0.016379,
     "end_time": "2020-09-06T11:28:47.140902",
     "exception": false,
     "start_time": "2020-09-06T11:28:47.124523",
     "status": "completed"
    },
    "tags": []
   },
   "outputs": [],
   "source": [
    "# train.head(3)\n",
    "# test.head(3)\n",
    "# train_target.head(3)\n",
    "# sub.head(3)"
   ]
  },
  {
   "cell_type": "code",
   "execution_count": 4,
   "metadata": {
    "execution": {
     "iopub.execute_input": "2020-09-06T11:28:47.182818Z",
     "iopub.status.busy": "2020-09-06T11:28:47.181843Z",
     "iopub.status.idle": "2020-09-06T11:28:47.504500Z",
     "shell.execute_reply": "2020-09-06T11:28:47.502987Z"
    },
    "papermill": {
     "duration": 0.354149,
     "end_time": "2020-09-06T11:28:47.504662",
     "exception": false,
     "start_time": "2020-09-06T11:28:47.150513",
     "status": "completed"
    },
    "tags": []
   },
   "outputs": [],
   "source": [
    "sub=pd.get_dummies(train['cp_time'].map({24:0,48:1,72:2}),prefix='cp_time')\n",
    "train=pd.concat([train,sub],axis=1)\n",
    "sub=pd.get_dummies(test['cp_time'].map({24:0,48:1,72:2}),prefix='cp_time')\n",
    "test=pd.concat([test,sub],axis=1)\n",
    "\n",
    "for col in ['cp_type','cp_dose']:\n",
    "    sub=pd.get_dummies(train[col])\n",
    "    train=pd.concat([train,sub],axis=1)\n",
    "    sub=pd.get_dummies(test[col])\n",
    "    test=pd.concat([test,sub],axis=1)    \n",
    "    \n",
    "train=train.drop(['cp_type','cp_time','cp_dose'],axis=1)\n",
    "test=test.drop(['cp_type','cp_time','cp_dose'],axis=1)"
   ]
  },
  {
   "cell_type": "code",
   "execution_count": 5,
   "metadata": {
    "execution": {
     "iopub.execute_input": "2020-09-06T11:28:47.568989Z",
     "iopub.status.busy": "2020-09-06T11:28:47.567206Z",
     "iopub.status.idle": "2020-09-06T11:28:47.591792Z",
     "shell.execute_reply": "2020-09-06T11:28:47.591226Z"
    },
    "papermill": {
     "duration": 0.082975,
     "end_time": "2020-09-06T11:28:47.591964",
     "exception": false,
     "start_time": "2020-09-06T11:28:47.508989",
     "status": "completed"
    },
    "tags": []
   },
   "outputs": [],
   "source": [
    "X_train=train.iloc[:,1:]\n",
    "X_test=test.iloc[:,1:]\n",
    "train_target=train_target.iloc[:,1:]"
   ]
  },
  {
   "cell_type": "markdown",
   "execution_count": null,
   "metadata": {
    "papermill": {
     "duration": 0.003716,
     "end_time": "2020-09-06T11:28:47.600589",
     "exception": false,
     "start_time": "2020-09-06T11:28:47.596873",
     "status": "completed"
    },
    "tags": []
   },
   "source": [
    "# baseline model"
   ]
  },
  {
   "cell_type": "code",
   "execution_count": 6,
   "metadata": {
    "execution": {
     "iopub.execute_input": "2020-09-06T11:28:47.624266Z",
     "iopub.status.busy": "2020-09-06T11:28:47.622581Z",
     "iopub.status.idle": "2020-09-06T12:10:17.201764Z",
     "shell.execute_reply": "2020-09-06T12:10:17.198660Z"
    },
    "papermill": {
     "duration": 2489.597227,
     "end_time": "2020-09-06T12:10:17.201920",
     "exception": false,
     "start_time": "2020-09-06T11:28:47.604693",
     "status": "completed"
    },
    "tags": []
   },
   "outputs": [
    {
     "name": "stderr",
     "output_type": "stream",
     "text": [
      "100%|██████████| 206/206 [41:29<00:00, 12.09s/it]\n"
     ]
    }
   ],
   "source": [
    "params={\n",
    "      'max_bin':63,\n",
    "      'device-type':'gpu',\n",
    "      'num_leaves': 511,\n",
    "      'feature_fraction': 0.3,\n",
    "      'bagging_fraction': 0.3,\n",
    "      'min_data_in_leaf': 100,\n",
    "      'objective': 'binary',\n",
    "      'max_depth': 9,\n",
    "      'learning_rate': 0.05,\n",
    "      'metric': 'binary_logloss',\n",
    "      'verbosity': 0\n",
    "}\n",
    "cv=sklearn.model_selection.KFold(n_splits=2,shuffle=True,random_state=2020)\n",
    "\n",
    "for col in tqdm(train_target.columns):\n",
    "    y=train_target[col]\n",
    "    y_preds=[]\n",
    "    oof_train=np.zeros(X_train.shape[0])\n",
    "\n",
    "\n",
    "    for train_idx,valid_idx in cv.split(X_train):\n",
    "        X_tr,X_val=X_train.iloc[train_idx],X_train.iloc[valid_idx]\n",
    "        y_tr,y_val=y.iloc[train_idx],y.iloc[valid_idx]\n",
    "\n",
    "        lgb_train=lightgbm.Dataset(X_tr,y_tr)\n",
    "        lgb_valid=lightgbm.Dataset(X_val,y_val,reference=lgb_train)\n",
    "\n",
    "        model=lightgbm.train(params,lgb_train,num_boost_round=2000,valid_sets=[lgb_train,lgb_valid],\n",
    "                        verbose_eval=0,early_stopping_rounds=50)\n",
    "\n",
    "        oof_train[valid_idx]=model.predict(X_val,num_iteration=model.best_iteration)\n",
    "    \n",
    "        y_pred=model.predict(X_test,num_iteration=model.best_iteration)\n",
    "        y_preds.append(y_pred)\n",
    "        \n",
    "    submission[col]=sum(y_preds)/len(y_preds)"
   ]
  },
  {
   "cell_type": "code",
   "execution_count": 7,
   "metadata": {
    "execution": {
     "iopub.execute_input": "2020-09-06T12:10:17.245183Z",
     "iopub.status.busy": "2020-09-06T12:10:17.244437Z",
     "iopub.status.idle": "2020-09-06T12:10:19.727899Z",
     "shell.execute_reply": "2020-09-06T12:10:19.728895Z"
    },
    "papermill": {
     "duration": 2.507773,
     "end_time": "2020-09-06T12:10:19.729129",
     "exception": false,
     "start_time": "2020-09-06T12:10:17.221356",
     "status": "completed"
    },
    "tags": []
   },
   "outputs": [],
   "source": [
    "submission.to_csv('submission.csv',index=False)"
   ]
  }
 ],
 "metadata": {
  "kernelspec": {
   "display_name": "Python 3",
   "language": "python",
   "name": "python3"
  },
  "language_info": {
   "codemirror_mode": {
    "name": "ipython",
    "version": 3
   },
   "file_extension": ".py",
   "mimetype": "text/x-python",
   "name": "python",
   "nbconvert_exporter": "python",
   "pygments_lexer": "ipython3",
   "version": "3.7.6"
  },
  "papermill": {
   "duration": 2504.305931,
   "end_time": "2020-09-06T12:10:19.867157",
   "environment_variables": {},
   "exception": null,
   "input_path": "__notebook__.ipynb",
   "output_path": "__notebook__.ipynb",
   "parameters": {},
   "start_time": "2020-09-06T11:28:35.561226",
   "version": "2.1.0"
  }
 },
 "nbformat": 4,
 "nbformat_minor": 4
}
