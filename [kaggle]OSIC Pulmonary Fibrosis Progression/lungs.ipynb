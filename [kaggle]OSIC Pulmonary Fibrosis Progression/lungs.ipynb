{
 "cells": [
  {
   "cell_type": "markdown",
   "metadata": {
    "papermill": {
     "duration": 0.01976,
     "end_time": "2020-09-26T17:21:54.723678",
     "exception": false,
     "start_time": "2020-09-26T17:21:54.703918",
     "status": "completed"
    },
    "tags": []
   },
   "source": [
    "# data load"
   ]
  },
  {
   "cell_type": "code",
   "execution_count": 1,
   "metadata": {
    "_cell_guid": "b1076dfc-b9ad-4769-8c92-a6c4dae69d19",
    "_uuid": "8f2839f25d086af736a60e9eeb907d3b93b6e0e5",
    "execution": {
     "iopub.execute_input": "2020-09-26T17:21:54.766685Z",
     "iopub.status.busy": "2020-09-26T17:21:54.765922Z",
     "iopub.status.idle": "2020-09-26T17:21:54.777093Z",
     "shell.execute_reply": "2020-09-26T17:21:54.776299Z"
    },
    "papermill": {
     "duration": 0.034717,
     "end_time": "2020-09-26T17:21:54.777217",
     "exception": false,
     "start_time": "2020-09-26T17:21:54.742500",
     "status": "completed"
    },
    "tags": []
   },
   "outputs": [],
   "source": [
    "import multiprocessing\n",
    "import pandas as pd\n",
    "import numpy as np\n",
    "import matplotlib.pyplot as plt"
   ]
  },
  {
   "cell_type": "code",
   "execution_count": 2,
   "metadata": {
    "_cell_guid": "79c7e3d0-c299-4dcb-8224-4455121ee9b0",
    "_uuid": "d629ff2d2480ee46fbb7e2d37f6b5fab8052498a",
    "execution": {
     "iopub.execute_input": "2020-09-26T17:21:54.821367Z",
     "iopub.status.busy": "2020-09-26T17:21:54.820571Z",
     "iopub.status.idle": "2020-09-26T17:21:54.964341Z",
     "shell.execute_reply": "2020-09-26T17:21:54.963501Z"
    },
    "papermill": {
     "duration": 0.168229,
     "end_time": "2020-09-26T17:21:54.964475",
     "exception": false,
     "start_time": "2020-09-26T17:21:54.796246",
     "status": "completed"
    },
    "tags": []
   },
   "outputs": [],
   "source": [
    "files=['../input/osic-pulmonary-fibrosis-progression/train.csv',\n",
    "       '../input/osic-pulmonary-fibrosis-progression/test.csv',\n",
    "       '../input/osic-pulmonary-fibrosis-progression/sample_submission.csv']\n",
    "\n",
    "with multiprocessing.Pool() as pool:\n",
    "    train,test,submission=pool.map(pd.read_csv,files)"
   ]
  },
  {
   "cell_type": "markdown",
   "metadata": {
    "papermill": {
     "duration": 0.019332,
     "end_time": "2020-09-26T17:21:55.003096",
     "exception": false,
     "start_time": "2020-09-26T17:21:54.983764",
     "status": "completed"
    },
    "tags": []
   },
   "source": [
    "# data browse"
   ]
  },
  {
   "cell_type": "code",
   "execution_count": 3,
   "metadata": {
    "execution": {
     "iopub.execute_input": "2020-09-26T17:21:55.048318Z",
     "iopub.status.busy": "2020-09-26T17:21:55.047392Z",
     "iopub.status.idle": "2020-09-26T17:21:55.049827Z",
     "shell.execute_reply": "2020-09-26T17:21:55.050425Z"
    },
    "papermill": {
     "duration": 0.028503,
     "end_time": "2020-09-26T17:21:55.050568",
     "exception": false,
     "start_time": "2020-09-26T17:21:55.022065",
     "status": "completed"
    },
    "tags": []
   },
   "outputs": [],
   "source": [
    "# train.head()\n",
    "# test.head()\n",
    "# submission.head()\n",
    "\n",
    "#####################\n",
    "# 1. y is FVC \n",
    "# 2. confidence is metric=−2–√Δσclipped−ln(2–√σclipped).\n",
    "# 3. need one-hot encode \n",
    "# 4. quantile model\n",
    "# 4. submission merge test data"
   ]
  },
  {
   "cell_type": "markdown",
   "metadata": {
    "papermill": {
     "duration": 0.018877,
     "end_time": "2020-09-26T17:21:55.088593",
     "exception": false,
     "start_time": "2020-09-26T17:21:55.069716",
     "status": "completed"
    },
    "tags": []
   },
   "source": [
    "# data cleaning"
   ]
  },
  {
   "cell_type": "code",
   "execution_count": 4,
   "metadata": {
    "execution": {
     "iopub.execute_input": "2020-09-26T17:21:55.139602Z",
     "iopub.status.busy": "2020-09-26T17:21:55.136232Z",
     "iopub.status.idle": "2020-09-26T17:21:55.150417Z",
     "shell.execute_reply": "2020-09-26T17:21:55.149501Z"
    },
    "papermill": {
     "duration": 0.042789,
     "end_time": "2020-09-26T17:21:55.150549",
     "exception": false,
     "start_time": "2020-09-26T17:21:55.107760",
     "status": "completed"
    },
    "tags": []
   },
   "outputs": [],
   "source": [
    "train=train.sort_values(['Patient','Weeks'])"
   ]
  },
  {
   "cell_type": "code",
   "execution_count": 5,
   "metadata": {
    "execution": {
     "iopub.execute_input": "2020-09-26T17:21:55.200132Z",
     "iopub.status.busy": "2020-09-26T17:21:55.198855Z",
     "iopub.status.idle": "2020-09-26T17:21:55.347841Z",
     "shell.execute_reply": "2020-09-26T17:21:55.347203Z"
    },
    "papermill": {
     "duration": 0.177537,
     "end_time": "2020-09-26T17:21:55.347982",
     "exception": false,
     "start_time": "2020-09-26T17:21:55.170445",
     "status": "completed"
    },
    "tags": []
   },
   "outputs": [],
   "source": [
    "train['BaseFVC']=train.groupby('Patient')['FVC'].transform(lambda x:x.iloc[0])\n",
    "train['BaseWeeks']=train.groupby('Patient')['Weeks'].transform(lambda x:x.iloc[0])\n",
    "train['BasePercent']=train.groupby('Patient')['Percent'].transform(lambda x:x.iloc[0])"
   ]
  },
  {
   "cell_type": "code",
   "execution_count": 6,
   "metadata": {
    "collapsed": true,
    "execution": {
     "iopub.execute_input": "2020-09-26T17:21:55.406219Z",
     "iopub.status.busy": "2020-09-26T17:21:55.405418Z",
     "iopub.status.idle": "2020-09-26T17:21:56.525101Z",
     "shell.execute_reply": "2020-09-26T17:21:56.525693Z"
    },
    "papermill": {
     "duration": 1.158114,
     "end_time": "2020-09-26T17:21:56.525840",
     "exception": false,
     "start_time": "2020-09-26T17:21:55.367726",
     "status": "completed"
    },
    "tags": []
   },
   "outputs": [
    {
     "name": "stdout",
     "output_type": "stream",
     "text": [
      "done\n",
      "done\n"
     ]
    },
    {
     "name": "stderr",
     "output_type": "stream",
     "text": [
      "/opt/conda/lib/python3.7/site-packages/sklearn/model_selection/_split.py:672: UserWarning: The least populated class in y has only 1 members, which is less than n_splits=4.\n",
      "  % (min_groups, self.n_splits)), UserWarning)\n",
      "/opt/conda/lib/python3.7/site-packages/ipykernel_launcher.py:33: SettingWithCopyWarning: \n",
      "A value is trying to be set on a copy of a slice from a DataFrame.\n",
      "Try using .loc[row_indexer,col_indexer] = value instead\n",
      "\n",
      "See the caveats in the documentation: https://pandas.pydata.org/pandas-docs/stable/user_guide/indexing.html#returning-a-view-versus-a-copy\n",
      "/opt/conda/lib/python3.7/site-packages/sklearn/model_selection/_split.py:672: UserWarning: The least populated class in y has only 1 members, which is less than n_splits=4.\n",
      "  % (min_groups, self.n_splits)), UserWarning)\n",
      "/opt/conda/lib/python3.7/site-packages/ipykernel_launcher.py:33: SettingWithCopyWarning: \n",
      "A value is trying to be set on a copy of a slice from a DataFrame.\n",
      "Try using .loc[row_indexer,col_indexer] = value instead\n",
      "\n",
      "See the caveats in the documentation: https://pandas.pydata.org/pandas-docs/stable/user_guide/indexing.html#returning-a-view-versus-a-copy\n"
     ]
    }
   ],
   "source": [
    "from sklearn.model_selection import StratifiedKFold\n",
    "\n",
    "X=train.drop(['FVC'],axis=1)\n",
    "y=train['FVC']\n",
    "skf=StratifiedKFold(n_splits=4,shuffle=True,random_state=2020)\n",
    "train['SexMean']=np.nan\n",
    "train['SmokingMean']=np.nan\n",
    "\n",
    "mean=train.groupby('Sex')['FVC'].mean()\n",
    "nrows=train.groupby('Sex')['FVC'].size()\n",
    "globalMean=train['FVC'].mean()\n",
    "alpha=5\n",
    "meanEncode=(mean*nrows+alpha*globalMean)/(nrows+alpha)\n",
    "test['SexMean']=test['Sex'].map(meanEncode)\n",
    "\n",
    "mean=train.groupby('SmokingStatus')['FVC'].mean()\n",
    "nrows=train.groupby('SmokingStatus')['FVC'].size()\n",
    "globalMean=train['FVC'].mean()\n",
    "alpha=5\n",
    "meanEncode=(mean*nrows+alpha*globalMean)/(nrows+alpha)\n",
    "test['SmokingMean']=test['SmokingStatus'].map(meanEncode)\n",
    "\n",
    "\n",
    "def featureEngineer(col,call):\n",
    "    for train_idx,valid_idx in skf.split(X,y):\n",
    "        X_tr,X_val=train.iloc[train_idx],train.iloc[valid_idx]\n",
    "\n",
    "        mean=X_tr.groupby(col)['FVC'].mean()\n",
    "        nrows=X_tr.groupby(col)['FVC'].size()\n",
    "        globalMean=X_tr['FVC'].mean()\n",
    "        alpha=5\n",
    "        meanEncode=(mean*nrows+alpha*globalMean)/(nrows+alpha)\n",
    "        X_val[call]=X_val[col].map(meanEncode)\n",
    "        train.iloc[valid_idx]=X_val\n",
    "    print('done')\n",
    "    \n",
    "featureEngineer('Sex','SexMean')\n",
    "featureEngineer('SmokingStatus','SmokingMean')"
   ]
  },
  {
   "cell_type": "code",
   "execution_count": 7,
   "metadata": {
    "execution": {
     "iopub.execute_input": "2020-09-26T17:21:56.572994Z",
     "iopub.status.busy": "2020-09-26T17:21:56.572000Z",
     "iopub.status.idle": "2020-09-26T17:21:56.575020Z",
     "shell.execute_reply": "2020-09-26T17:21:56.574295Z"
    },
    "papermill": {
     "duration": 0.028082,
     "end_time": "2020-09-26T17:21:56.575143",
     "exception": false,
     "start_time": "2020-09-26T17:21:56.547061",
     "status": "completed"
    },
    "tags": []
   },
   "outputs": [],
   "source": [
    "# def freqs(df,col):\n",
    "#     freq=df.groupby(col)[col].size()/df.shape[0]\n",
    "#     return freq\n",
    "\n",
    "# freq=freqs(train,'Sex')\n",
    "# train['freqSex']=train['Sex'].map(freq)\n",
    "# test['freqSex']=test['Sex'].map(freq)\n",
    "# freq=freqs(train,'SmokingStatus')\n",
    "# train['freqSmoking']=train['SmokingStatus'].map(freq)\n",
    "# test['freqSmoking']=test['SmokingStatus'].map(freq)"
   ]
  },
  {
   "cell_type": "code",
   "execution_count": 8,
   "metadata": {
    "execution": {
     "iopub.execute_input": "2020-09-26T17:21:56.625745Z",
     "iopub.status.busy": "2020-09-26T17:21:56.624322Z",
     "iopub.status.idle": "2020-09-26T17:21:56.636335Z",
     "shell.execute_reply": "2020-09-26T17:21:56.635690Z"
    },
    "papermill": {
     "duration": 0.04045,
     "end_time": "2020-09-26T17:21:56.636460",
     "exception": false,
     "start_time": "2020-09-26T17:21:56.596010",
     "status": "completed"
    },
    "tags": []
   },
   "outputs": [],
   "source": [
    "def getDummies(df):\n",
    "    smokingDummies=pd.get_dummies(df['SmokingStatus'])\n",
    "    sexDummies=pd.get_dummies(df['Sex'])\n",
    "    df=pd.concat([df,smokingDummies,sexDummies],axis=1)\n",
    "    return df\n",
    "\n",
    "train=getDummies(train)\n",
    "test=getDummies(test)"
   ]
  },
  {
   "cell_type": "code",
   "execution_count": 9,
   "metadata": {
    "execution": {
     "iopub.execute_input": "2020-09-26T17:21:56.689678Z",
     "iopub.status.busy": "2020-09-26T17:21:56.688625Z",
     "iopub.status.idle": "2020-09-26T17:21:56.692166Z",
     "shell.execute_reply": "2020-09-26T17:21:56.691564Z"
    },
    "papermill": {
     "duration": 0.034784,
     "end_time": "2020-09-26T17:21:56.692295",
     "exception": false,
     "start_time": "2020-09-26T17:21:56.657511",
     "status": "completed"
    },
    "tags": []
   },
   "outputs": [],
   "source": [
    "submission['Patient']=submission['Patient_Week'].apply(lambda x:x.split('_')[0])\n",
    "submission['Weeks']=submission['Patient_Week'].apply(lambda x:x.split('_')[1]).astype(int)"
   ]
  },
  {
   "cell_type": "code",
   "execution_count": 10,
   "metadata": {
    "execution": {
     "iopub.execute_input": "2020-09-26T17:21:56.746342Z",
     "iopub.status.busy": "2020-09-26T17:21:56.742036Z",
     "iopub.status.idle": "2020-09-26T17:21:56.749097Z",
     "shell.execute_reply": "2020-09-26T17:21:56.749620Z"
    },
    "papermill": {
     "duration": 0.036181,
     "end_time": "2020-09-26T17:21:56.749774",
     "exception": false,
     "start_time": "2020-09-26T17:21:56.713593",
     "status": "completed"
    },
    "tags": []
   },
   "outputs": [],
   "source": [
    "def ageBand(x):\n",
    "    if x<=54:\n",
    "        return 'under54'\n",
    "    elif x<=64:\n",
    "        return 'under64'\n",
    "    elif x<=74:\n",
    "        return 'under74'\n",
    "    else:\n",
    "        return 'other'\n",
    "    \n",
    "train['ageBand']=train['Age'].apply(lambda x:ageBand(x))\n",
    "test['ageBand']=test['Age'].apply(lambda x:ageBand(x))"
   ]
  },
  {
   "cell_type": "code",
   "execution_count": 11,
   "metadata": {
    "execution": {
     "iopub.execute_input": "2020-09-26T17:21:56.801738Z",
     "iopub.status.busy": "2020-09-26T17:21:56.800877Z",
     "iopub.status.idle": "2020-09-26T17:21:56.820311Z",
     "shell.execute_reply": "2020-09-26T17:21:56.819707Z"
    },
    "papermill": {
     "duration": 0.049332,
     "end_time": "2020-09-26T17:21:56.820443",
     "exception": false,
     "start_time": "2020-09-26T17:21:56.771111",
     "status": "completed"
    },
    "tags": []
   },
   "outputs": [],
   "source": [
    "def getDummies(df):\n",
    "    dummies=pd.get_dummies(df['ageBand'])\n",
    "    df=pd.concat([df,dummies],axis=1)\n",
    "    return df\n",
    "\n",
    "n=train.shape[0]\n",
    "data=pd.concat([train,test])\n",
    "data=getDummies(data)\n",
    "train=data.iloc[:n]\n",
    "test=data.iloc[n:].dropna(axis=1)"
   ]
  },
  {
   "cell_type": "code",
   "execution_count": 12,
   "metadata": {
    "execution": {
     "iopub.execute_input": "2020-09-26T17:21:56.871104Z",
     "iopub.status.busy": "2020-09-26T17:21:56.870360Z",
     "iopub.status.idle": "2020-09-26T17:21:56.876675Z",
     "shell.execute_reply": "2020-09-26T17:21:56.875974Z"
    },
    "papermill": {
     "duration": 0.034475,
     "end_time": "2020-09-26T17:21:56.876801",
     "exception": false,
     "start_time": "2020-09-26T17:21:56.842326",
     "status": "completed"
    },
    "tags": []
   },
   "outputs": [],
   "source": [
    "train=train.drop(['Age','Sex','Currently smokes','Female','other'],axis=1)\n",
    "test=test.drop(['Age','Sex','other'],axis=1)"
   ]
  },
  {
   "cell_type": "code",
   "execution_count": 13,
   "metadata": {
    "execution": {
     "iopub.execute_input": "2020-09-26T17:21:56.928741Z",
     "iopub.status.busy": "2020-09-26T17:21:56.928022Z",
     "iopub.status.idle": "2020-09-26T17:21:56.930861Z",
     "shell.execute_reply": "2020-09-26T17:21:56.931399Z"
    },
    "papermill": {
     "duration": 0.033199,
     "end_time": "2020-09-26T17:21:56.931553",
     "exception": false,
     "start_time": "2020-09-26T17:21:56.898354",
     "status": "completed"
    },
    "tags": []
   },
   "outputs": [],
   "source": [
    "train=train.drop(['ageBand','Male','SmokingStatus'],axis=1)\n",
    "test=test.drop(['ageBand','SmokingStatus'],axis=1)"
   ]
  },
  {
   "cell_type": "code",
   "execution_count": 14,
   "metadata": {
    "execution": {
     "iopub.execute_input": "2020-09-26T17:21:56.995229Z",
     "iopub.status.busy": "2020-09-26T17:21:56.986594Z",
     "iopub.status.idle": "2020-09-26T17:21:57.011493Z",
     "shell.execute_reply": "2020-09-26T17:21:57.010696Z"
    },
    "papermill": {
     "duration": 0.058251,
     "end_time": "2020-09-26T17:21:57.011628",
     "exception": false,
     "start_time": "2020-09-26T17:21:56.953377",
     "status": "completed"
    },
    "tags": []
   },
   "outputs": [],
   "source": [
    "merge=pd.merge(test,submission,on=['Patient'],how='left').sort_values(['Weeks_y','Patient']).reset_index(drop=True)\n",
    "merge=merge.drop(['FVC_y'],axis=1)\n",
    "merge=merge.rename(columns={'FVC_x':'BaseFVC','Weeks_y':'Weeks','Weeks_x':'BaseWeeks','Percent':'BasePercent'})\n",
    "\n",
    "del test\n",
    "del submission\n",
    "\n",
    "test=merge.loc[:,['Patient','Weeks','BaseWeeks','BasePercent','SexMean','SmokingMean',\n",
    "                  'BaseFVC','Ex-smoker','Never smoked','Male','under54','under64','under74']]\n",
    "submission=merge.loc[:,['Patient_Week','BaseFVC','Confidence']]\n",
    "submission=submission.rename(columns={'BaseFVC':'FVC'})"
   ]
  },
  {
   "cell_type": "code",
   "execution_count": 15,
   "metadata": {
    "execution": {
     "iopub.execute_input": "2020-09-26T17:21:57.060496Z",
     "iopub.status.busy": "2020-09-26T17:21:57.059709Z",
     "iopub.status.idle": "2020-09-26T17:21:57.062929Z",
     "shell.execute_reply": "2020-09-26T17:21:57.062207Z"
    },
    "papermill": {
     "duration": 0.029413,
     "end_time": "2020-09-26T17:21:57.063056",
     "exception": false,
     "start_time": "2020-09-26T17:21:57.033643",
     "status": "completed"
    },
    "tags": []
   },
   "outputs": [],
   "source": [
    "# merge=pd.merge(test,submission,on=['Patient'],how='left').sort_values(['Weeks_y','Patient']).reset_index(drop=True)\n",
    "# merge=merge.drop(['FVC_y'],axis=1)\n",
    "# merge=merge.rename(columns={'FVC_x':'BaseFVC','Weeks_y':'Weeks','Weeks_x':'BaseWeeks','Percent':'BasePercent'})\n",
    "\n",
    "# del test\n",
    "# del submission\n",
    "\n",
    "# test=merge.loc[:,['Patient','Weeks','BaseWeeks','BasePercent','freqSex','freqSmoking',\n",
    "#                   'BaseFVC','Ex-smoker','Never smoked','Male','under54','under64','under74']]\n",
    "# submission=merge.loc[:,['Patient_Week','BaseFVC','Confidence']]\n",
    "# submission=submission.rename(columns={'BaseFVC':'FVC'})"
   ]
  },
  {
   "cell_type": "code",
   "execution_count": 16,
   "metadata": {
    "execution": {
     "iopub.execute_input": "2020-09-26T17:21:57.117499Z",
     "iopub.status.busy": "2020-09-26T17:21:57.116428Z",
     "iopub.status.idle": "2020-09-26T17:21:57.118905Z",
     "shell.execute_reply": "2020-09-26T17:21:57.119504Z"
    },
    "papermill": {
     "duration": 0.034626,
     "end_time": "2020-09-26T17:21:57.119683",
     "exception": false,
     "start_time": "2020-09-26T17:21:57.085057",
     "status": "completed"
    },
    "tags": []
   },
   "outputs": [],
   "source": [
    "feature=['Weeks','SexMean','SmokingMean','BaseFVC','BaseWeeks','BasePercent',\n",
    "        'Ex-smoker', 'Never smoked','under54', 'under64', 'under74']\n",
    "\n",
    "X_train=train.loc[:,feature]\n",
    "y_train=train['FVC']\n",
    "X_test=test.loc[:,feature]"
   ]
  },
  {
   "cell_type": "markdown",
   "metadata": {
    "papermill": {
     "duration": 0.022445,
     "end_time": "2020-09-26T17:21:57.164837",
     "exception": false,
     "start_time": "2020-09-26T17:21:57.142392",
     "status": "completed"
    },
    "tags": []
   },
   "source": [
    "# model & predict"
   ]
  },
  {
   "cell_type": "code",
   "execution_count": 17,
   "metadata": {
    "execution": {
     "iopub.execute_input": "2020-09-26T17:21:57.219975Z",
     "iopub.status.busy": "2020-09-26T17:21:57.218622Z",
     "iopub.status.idle": "2020-09-26T17:22:04.239263Z",
     "shell.execute_reply": "2020-09-26T17:22:04.238554Z"
    },
    "papermill": {
     "duration": 7.051715,
     "end_time": "2020-09-26T17:22:04.239391",
     "exception": false,
     "start_time": "2020-09-26T17:21:57.187676",
     "status": "completed"
    },
    "tags": []
   },
   "outputs": [],
   "source": [
    "from sklearn.ensemble import GradientBoostingRegressor\n",
    "\n",
    "alpha = 0.8\n",
    "result=pd.DataFrame()\n",
    "\n",
    "model = GradientBoostingRegressor(loss='quantile', alpha=alpha,\n",
    "                                n_estimators=500, max_depth=5,\n",
    "                                learning_rate=.05,random_state=2020)\n",
    "model.fit(X_train,y_train)\n",
    "Upper=model.predict(X_test)\n",
    "result['upper']=Upper\n",
    "\n",
    "model.set_params(alpha=1.0-alpha)\n",
    "model.fit(X_train,y_train)\n",
    "Lower=model.predict(X_test)\n",
    "result['lower']=Lower\n",
    "\n",
    "model.set_params(loss='ls')\n",
    "model.fit(X_train,y_train)\n",
    "pred=model.predict(X_test)\n",
    "result['pred']=pred"
   ]
  },
  {
   "cell_type": "markdown",
   "metadata": {
    "papermill": {
     "duration": 0.02251,
     "end_time": "2020-09-26T17:22:04.284668",
     "exception": false,
     "start_time": "2020-09-26T17:22:04.262158",
     "status": "completed"
    },
    "tags": []
   },
   "source": [
    "# conclusion"
   ]
  },
  {
   "cell_type": "code",
   "execution_count": 18,
   "metadata": {
    "execution": {
     "iopub.execute_input": "2020-09-26T17:22:04.338241Z",
     "iopub.status.busy": "2020-09-26T17:22:04.337459Z",
     "iopub.status.idle": "2020-09-26T17:22:04.340952Z",
     "shell.execute_reply": "2020-09-26T17:22:04.340321Z"
    },
    "papermill": {
     "duration": 0.033689,
     "end_time": "2020-09-26T17:22:04.341079",
     "exception": false,
     "start_time": "2020-09-26T17:22:04.307390",
     "status": "completed"
    },
    "tags": []
   },
   "outputs": [],
   "source": [
    "result=pd.concat([test['Patient'],result],axis=1)"
   ]
  },
  {
   "cell_type": "code",
   "execution_count": 19,
   "metadata": {
    "execution": {
     "iopub.execute_input": "2020-09-26T17:22:04.394844Z",
     "iopub.status.busy": "2020-09-26T17:22:04.393922Z",
     "iopub.status.idle": "2020-09-26T17:22:04.396671Z",
     "shell.execute_reply": "2020-09-26T17:22:04.397259Z"
    },
    "papermill": {
     "duration": 0.033385,
     "end_time": "2020-09-26T17:22:04.397418",
     "exception": false,
     "start_time": "2020-09-26T17:22:04.364033",
     "status": "completed"
    },
    "tags": []
   },
   "outputs": [],
   "source": [
    "submission['FVC']=result['pred']\n",
    "submission['Confidence']=result['upper']-result['lower']"
   ]
  },
  {
   "cell_type": "code",
   "execution_count": 20,
   "metadata": {
    "execution": {
     "iopub.execute_input": "2020-09-26T17:22:04.449173Z",
     "iopub.status.busy": "2020-09-26T17:22:04.448386Z",
     "iopub.status.idle": "2020-09-26T17:22:04.821911Z",
     "shell.execute_reply": "2020-09-26T17:22:04.821203Z"
    },
    "papermill": {
     "duration": 0.401528,
     "end_time": "2020-09-26T17:22:04.822040",
     "exception": false,
     "start_time": "2020-09-26T17:22:04.420512",
     "status": "completed"
    },
    "tags": []
   },
   "outputs": [],
   "source": [
    "submission.to_csv('submission.csv',index=False)"
   ]
  }
 ],
 "metadata": {
  "kernelspec": {
   "display_name": "Python 3",
   "language": "python",
   "name": "python3"
  },
  "language_info": {
   "codemirror_mode": {
    "name": "ipython",
    "version": 3
   },
   "file_extension": ".py",
   "mimetype": "text/x-python",
   "name": "python",
   "nbconvert_exporter": "python",
   "pygments_lexer": "ipython3",
   "version": "3.7.6"
  },
  "papermill": {
   "duration": 14.825771,
   "end_time": "2020-09-26T17:22:04.953573",
   "environment_variables": {},
   "exception": null,
   "input_path": "__notebook__.ipynb",
   "output_path": "__notebook__.ipynb",
   "parameters": {},
   "start_time": "2020-09-26T17:21:50.127802",
   "version": "2.1.0"
  }
 },
 "nbformat": 4,
 "nbformat_minor": 4
}
