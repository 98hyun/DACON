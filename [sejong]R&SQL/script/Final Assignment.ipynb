{
 "cells": [
  {
   "cell_type": "markdown",
   "metadata": {},
   "source": [
    "<h1 style='background-color:black;text-align:center;padding:25px'><span style='color:white'>Final Assignment</span></h1>"
   ]
  },
  {
   "cell_type": "markdown",
   "metadata": {},
   "source": [
    "<h4>Name : 황창현</h4>\n",
    "<h4>student id : 17010668</h4>"
   ]
  },
  {
   "cell_type": "markdown",
   "metadata": {},
   "source": [
    "<h2 >[Table1 Output] Top10 customers with high amount</h2>"
   ]
  },
  {
   "cell_type": "markdown",
   "metadata": {},
   "source": [
    "<img src=\"https://ifh.cc/g/eD2WqP.png\"\n",
    "     style='float:left'>"
   ]
  },
  {
   "cell_type": "markdown",
   "metadata": {},
   "source": [
    "<h2>[R script]</h2>"
   ]
  },
  {
   "cell_type": "markdown",
   "metadata": {},
   "source": [
    "<img src=\"https://ifh.cc/g/dSYd7C.png\"\n",
    "     style='float:left'>"
   ]
  },
  {
   "cell_type": "markdown",
   "metadata": {},
   "source": [
    "<h2>[Explanations]</h2>"
   ]
  },
  {
   "cell_type": "markdown",
   "metadata": {},
   "source": [
    "먼저, data load를 했다.  \n",
    "<mark>주가 customers고, 서브가 payments </mark>기 때문에   \n",
    "customers에 맞춰 inner_join을 했다.    \n",
    "후에 살려야 하는 column 들은 ```paste(unique(...)...)``` 로 살려놓았고,  \n",
    "총 매출합 내림차순으로     \n",
    "Top 10 개만 추렸다.   "
   ]
  },
  {
   "cell_type": "markdown",
   "metadata": {},
   "source": [
    "<div style=\"page-break-before:always\">&nbsp;</div> "
   ]
  },
  {
   "cell_type": "markdown",
   "metadata": {},
   "source": [
    "<h2>[Graph Output] Bar plot</h2> "
   ]
  },
  {
   "cell_type": "markdown",
   "metadata": {},
   "source": [
    "<img src=\"https://ifh.cc/g/0GcFnM.png\"\n",
    "     style='float:left;height:60%;width:60%'>"
   ]
  },
  {
   "cell_type": "markdown",
   "metadata": {},
   "source": [
    "<h2>[R script]</h2>"
   ]
  },
  {
   "cell_type": "markdown",
   "metadata": {},
   "source": [
    "<img src=\"https://ifh.cc/g/u2h2Et.jpg\"\n",
    "     style='float:left;width:70%'>"
   ]
  },
  {
   "cell_type": "markdown",
   "metadata": {},
   "source": [
    "<h2>[Explanations]</h2>"
   ]
  },
  {
   "cell_type": "markdown",
   "metadata": {},
   "source": [
    "먼저, 데이터가 <mark>숫자가 거의 없다.</mark>   \n",
    "customerName. 숫자지만 고객을 분류해놓은 id 같은거다. 즉 연속적이고 의미있는 수가 아니다.  \n",
    "creditNumber 도 같은 느낌이다.    \n",
    "하지만, 반대로 보면 그만큼 <mark>기준이 많다는 것이다.</mark> 모두 분류형 숫자가 될 수 있기 때문이다.  \n",
    "그래서 수를 셀 수 있는 amount에 집중했고, 기준을 매장이름으로 잡았다.  \n",
    "가장 기본적인 plot을 시각화 했다.  "
   ]
  },
  {
   "cell_type": "markdown",
   "metadata": {},
   "source": [
    "<div style=\"page-break-before:always\">&nbsp;</div> "
   ]
  },
  {
   "cell_type": "markdown",
   "metadata": {},
   "source": [
    "<h2>[Graph Output] Treemap</h2> "
   ]
  },
  {
   "cell_type": "markdown",
   "metadata": {},
   "source": [
    "<img src=\"https://ifh.cc/g/NVsBvl.jpg\"\n",
    "     style='float:left;width:50%;height:50%'>"
   ]
  },
  {
   "cell_type": "markdown",
   "metadata": {},
   "source": [
    "<h2>[R script]</h2>"
   ]
  },
  {
   "cell_type": "markdown",
   "metadata": {},
   "source": [
    "<img src=\"https://ifh.cc/g/xg7KNE.jpg\"\n",
    "     style='float:left;height:70%;width:70%'>"
   ]
  },
  {
   "cell_type": "markdown",
   "metadata": {},
   "source": [
    "<h2>[Explanations]</h2>"
   ]
  },
  {
   "cell_type": "markdown",
   "metadata": {},
   "source": [
    "1-2 은 <mark>treemap graph </mark>로 매출합 순 top10 나라를 알고 싶었다.  \n",
    "\n",
    "이번 그래프는 <mark>기준을 매장이름</mark>으로 잡았다.  \n",
    "저번 HW3 도 그렇고, 원하는 table을 만들고 나서 그 table을 위한 sub plot을   \n",
    "density plot이나 scatter plot으로 도와줬다.  \n",
    "이번엔 매장을 알았으니 각 기업은 매장을 글로벌진출을 할 것이다.   \n",
    "어느 나라에서 소비가 좋은 지 확인하고 그 나라의 매장에 대해서 더 지원할 수 있다.  \n",
    "(먼저 아이템을 푼다든지. 이벤트를 많이 열어 소비를 촉진시키는 등.)  "
   ]
  },
  {
   "cell_type": "markdown",
   "metadata": {},
   "source": [
    "<div style=\"page-break-before:always\">&nbsp;</div> "
   ]
  },
  {
   "cell_type": "markdown",
   "metadata": {},
   "source": [
    "<h2>[Key bindings]</h2>"
   ]
  },
  {
   "cell_type": "markdown",
   "metadata": {},
   "source": [
    "먼저, 1-1 그래프에서 매출합 내림차순으로 정렬 했을 때,  \n",
    "<mark>Euro+ shopping channel 과 Mini gifts distributors Ltd. 매장이 가장 많은 매출</mark>을 올린 것을 확인 할 수 있다.    \n",
    "위 데이터는 어떤 아이템들에 대해서 가장 많은 수익을 올린 매장을 보는 데이터다.  \n",
    "그랬을 때, 단순히 <mark>어떤 매장이 매출이 잘 되는 매장인지 한눈에 볼 수 있는 장점</mark>이 있다.    \n",
    "내가 원하는 모양대로 나왔다.   \n",
    "    \n",
    "또, <mark>어떤 나라에서 가장 큰 매출이 발생</mark>하는지 확인하고 싶었다.    \n",
    "\n",
    "그래서 1-2 그래프로 어떤 나라에서 가장 큰 매출이 발생하는지 treemap으로 그려봤다.    \n",
    "미국이 1등 스페인이 2등 프랑스가 3등으로 다른 나라들에 비해 2배~6배로 차이가 났다.    \n",
    "\n",
    "실제로 찾아보니 미국에 Mini gifts distributors Ltd. 와 함께 다른 매출 많은 매장들 이름이 있었고,    \n",
    "Euro+ shopping channel 은 스페인에 있었다.    \n",
    "이 뜻은<mark> 매장이름이 나라마다 하나밖에 없다는 뜻</mark>이다.  \n",
    "  \n",
    "원했던 내용은 어떤 나라에서 매출이 높고,   \n",
    "어떤 매장에서 매출이 높은지 확인하려고 했던 것이라 원하는 내용은 나왔지만,   \n",
    "위 그래프들로는 뭔가 아쉽다.   \n",
    "\n",
    "만약 <mark>scatter pie chart </mark>같은 그래프로 세로를 나라 가로를 매장 으로 해놓고 amount에 따라   \n",
    "크기를 다르게 해놓았다면 더 보기 좋은 그래프가 나왔을 것 같다.   "
   ]
  },
  {
   "cell_type": "markdown",
   "metadata": {},
   "source": [
    "<div style=\"page-break-before:always\">&nbsp;</div> "
   ]
  },
  {
   "cell_type": "markdown",
   "metadata": {},
   "source": [
    "<h2>[Table2 Output] Top10 productCode with high margin</h2>"
   ]
  },
  {
   "cell_type": "markdown",
   "metadata": {},
   "source": [
    "<img src=\"https://ifh.cc/g/ByCJGN.png\"\n",
    "     style='float:left'>"
   ]
  },
  {
   "cell_type": "markdown",
   "metadata": {},
   "source": [
    "<h2>[R script]</h2>"
   ]
  },
  {
   "cell_type": "markdown",
   "metadata": {},
   "source": [
    "<img src=\"https://ifh.cc/g/ACEDbF.png\"\n",
    "     style='float:left'>"
   ]
  },
  {
   "cell_type": "markdown",
   "metadata": {},
   "source": [
    "<h2>[Explanations]</h2>"
   ]
  },
  {
   "cell_type": "markdown",
   "metadata": {},
   "source": [
    "저번 `midterm` 때 <mark>계산을 틀려서 잘못된 table</mark>이 나왔다.   \n",
    "저번과 다른 것이 있다면 margin을 order 별 priceEach에서 buyPrice를 빼고 그것의 Order수를 곱했다는 것이다.   \n",
    "또, <mark>gap을 조사하는 이유는 gap이 크면 보통 margin이 크지 않나? 하는 이유 때문</mark>이다.   \n",
    "왜냐하면 gap은 MSRP 라는 권장소매가격인데 보통 만들 때 이걸 비싸게 해놓고서 나중에 팔 때   \n",
    "싸게 팔면 이거 싸게 나왔구나 하는 생각을 가진다고 한다. ( 차 관련 돼서 많이 사용한다.)  \n",
    "그래서 확인해보니 <mark>실제로 gap이 클수록 margin이 컸다.</mark>   \n",
    "(위는 margin의 내림차순으로 정리했고, 마지막 arrange(desc(gap)) 하면 다른 productName은 두 개 밖에 없다.  "
   ]
  },
  {
   "cell_type": "markdown",
   "metadata": {},
   "source": [
    "<div style=\"page-break-before:always\">&nbsp;</div> "
   ]
  },
  {
   "cell_type": "markdown",
   "metadata": {},
   "source": [
    "<h2>[Graph Output] Scatter plot</h2> "
   ]
  },
  {
   "cell_type": "markdown",
   "metadata": {},
   "source": [
    "<img src=\"https://ifh.cc/g/LahiPG.png\"\n",
    "     style='float:left'>"
   ]
  },
  {
   "cell_type": "markdown",
   "metadata": {},
   "source": [
    "<h2>[R script]</h2>"
   ]
  },
  {
   "cell_type": "markdown",
   "metadata": {},
   "source": [
    "<img src=\"https://ifh.cc/g/ImnAKl.jpg\"\n",
    "     style='float:left'>"
   ]
  },
  {
   "cell_type": "markdown",
   "metadata": {},
   "source": [
    "<h2>[Explanations]</h2>"
   ]
  },
  {
   "cell_type": "markdown",
   "metadata": {},
   "source": [
    "<mark>gap 이 클수록 margin이 크다는 그래프</mark>를 보았다.   \n",
    "data는 margin 으로 내림차순한 data2, gap으로 내림차순한 data3로 했다.  \n",
    "<mark>두 그래프를 한번에 쓰기 위해서 cowplot을 사용</mark>했고,   \n",
    "조정하는 법을 구글링하지 못해서 figure size가 이상하다.  \n",
    "\n",
    "smooth(se=False)로 추세선을 그렸고 <mark>실제로 우상향</mark>이다.  "
   ]
  },
  {
   "cell_type": "markdown",
   "metadata": {},
   "source": [
    "<div style=\"page-break-before:always\">&nbsp;</div> "
   ]
  },
  {
   "cell_type": "markdown",
   "metadata": {},
   "source": [
    "<h2>[Graph Output] Heatmap</h2> "
   ]
  },
  {
   "cell_type": "markdown",
   "metadata": {},
   "source": [
    "<img src=\"https://ifh.cc/g/5yJdF8.png\"\n",
    "     style='float:left'>"
   ]
  },
  {
   "cell_type": "markdown",
   "metadata": {},
   "source": [
    "<h2>[R script]</h2>"
   ]
  },
  {
   "cell_type": "markdown",
   "metadata": {},
   "source": [
    "<img src=\"https://ifh.cc/g/x6HemV.png\"\n",
    "     style='float:left'>"
   ]
  },
  {
   "cell_type": "markdown",
   "metadata": {},
   "source": [
    "<h2>[Explanations]</h2>"
   ]
  },
  {
   "cell_type": "markdown",
   "metadata": {},
   "source": [
    "이번 그래프는 <mark>어떤 공급업체가 product를 많이 냈는지</mark> heatmap 으로 그렸다.  \n",
    "사실 heatmap하면 전체가 색깔로 알 수 있는 걸 보통 부르는데,  \n",
    "이번엔 그냥 <mark>중요한 부분만 styling</mark> 했다.   \n",
    "먼저 `공급업체 별 total` 은 평균 210을 기준으로 `차이가 많이 없지`만,   \n",
    "<mark>각 공급업체마다 맡고있는 product들이 다르다.  </mark>  \n",
    "Exoto design은 plane,ship,train 같은 덩치큰 것은 과감히 포기하고 운송에 투자한다면,  \n",
    "Classic Metal Creation은 주로 차에 많이 투자하고, 다른곳에 적게 발을 담그고 있다.  "
   ]
  },
  {
   "cell_type": "markdown",
   "metadata": {},
   "source": [
    "<div style=\"page-break-before:always\">&nbsp;</div> "
   ]
  },
  {
   "cell_type": "markdown",
   "metadata": {},
   "source": [
    "<h2>[Key bindings]</h2>"
   ]
  },
  {
   "cell_type": "markdown",
   "metadata": {},
   "source": [
    "저번 중간시험 때 틀린 수식으로 잘못된 정보를 분석했다.   \n",
    "MSRP는 권장소비가격이고 보통 차나 값비싼 product를 팔 때 업체에서 붙인다고 한다.  \n",
    "그래서 <mark>MSRP가 높다가 팔 때 싸게 올려놓는다고 많이 한다. </mark>   \n",
    "이번 table2의 gap column이 MSRP 와 Price간의 가격 차이를 본 것이다.  \n",
    "또, product 별 margin을 조사했다. 이는 <mark>어떤 product 가 인기가 많고,   \n",
    "많이 팔렸는지 알기 위해서 이고, gap 과 어떤 관계가 있는지 알기 위해서 구했다. </mark>   \n",
    "\n",
    "실제로 <mark>gap과 margin은 서로 상관관계</mark>가 있었다.   \n",
    "\n",
    "더 나아가, 공급업체 별 그래프를 통해서 <mark>어떤 공급업체가 어떤 product를 담당하는지 조사</mark>해봤다.   \n",
    "왜냐하면 table에서 알 수 있기도 하고 일단 차가 거의 판매의 대부분이다.   \n",
    "그래서 공급업체 간 차이점을 보려고 heatmap을 준비했고, <mark>업체들은 보통 차에 많이 투자하지만,   \n",
    "몇몇 업체들은 차가 아닌 바이크나 비행기에 많이 투자하는 것을 알았다.</mark>    \n",
    "\n",
    "아쉬운 점은 <mark>업체 간 margin 이나 매출도 조사해보면 더 좋을 것 같다. </mark>  "
   ]
  },
  {
   "cell_type": "markdown",
   "metadata": {},
   "source": [
    "<h2>[Bonus Question]</h2>"
   ]
  },
  {
   "cell_type": "markdown",
   "metadata": {},
   "source": [
    "데이터 조작에서 비슷한 역할을 하는 R, SQL의 개인적으로 느낀 <mark>프로그래밍 유사점</mark>은      \n",
    "* 특정 목적에 즉 <mark>데이터 분석</mark> 편리하게 프로그래밍 됐다는 것이다. \n",
    "    - 특히 SQL 같은 경우는 MySQL을 배우면서 되게 쉽게 배웠다는 것이다.  \n",
    "    - 평소에 Python을 공부했었기 때문에 데이터분석 라이브러리나 명령어들이랑 match 가 쉬웠다.  \n",
    "    \n",
    "    \n",
    "```javascript\n",
    "## R\n",
    "1. read.csv(path)\n",
    "2. df %>% \n",
    "    groupby(column) %>% \n",
    "    summerise(name=mean(column))  \n",
    "## SQL\n",
    "1. select column from df\n",
    "2.  select mean(column) \n",
    "    from df\n",
    "    group by(column)\n",
    "```  \n",
    "\n",
    "반대로 R, SQL의 개인적으로 느낀 <mark>차이점</mark>은   \n",
    "* 문법이 다르다. \n",
    "    + 이게 무슨뜻인가 하면 SQL은 select (선택해라) from (어디서) group by(묶고) ... 이런식이다. \n",
    "    + 영어식이라는 뜻이다. 명령어 인자. 명령어 인자.\n",
    "    + 그래서 나중에 <mark>sql은 많이 까먹어도 다시 찾아볼 수 있다. 영어 생각하면 편리하기 때문에.</mark>\n",
    "    + 하지만 R은 다르다. R은 그럼에도 지켜야하는 뭔가 순서가 있다. <mark>모듈 + 인자 = 명령어</mark> 랄까 약간 헷갈린다."
   ]
  }
 ],
 "metadata": {
  "kernelspec": {
   "display_name": "R",
   "language": "R",
   "name": "ir"
  },
  "language_info": {
   "codemirror_mode": "r",
   "file_extension": ".r",
   "mimetype": "text/x-r-source",
   "name": "R",
   "pygments_lexer": "r",
   "version": "3.6.1"
  }
 },
 "nbformat": 4,
 "nbformat_minor": 4
}
