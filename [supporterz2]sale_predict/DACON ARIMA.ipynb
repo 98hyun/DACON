{
 "cells": [
  {
   "cell_type": "code",
   "execution_count": 1,
   "metadata": {},
   "outputs": [],
   "source": [
    "import pandas as pd\n",
    "import numpy as np\n",
    "import matplotlib.pyplot as plt\n",
    "import seaborn as sns\n",
    "from datetime import datetime as dt\n",
    "from tqdm import tqdm"
   ]
  },
  {
   "cell_type": "markdown",
   "metadata": {},
   "source": [
    "## 데이터 불러오기"
   ]
  },
  {
   "cell_type": "code",
   "execution_count": null,
   "metadata": {},
   "outputs": [],
   "source": [
    "raw_data=pd.read_csv('./data09/funda_train.csv')\n",
    "data=raw_data.copy()\n",
    "data.info()\n",
    "#data.describe()  \n",
    "# 날짜 헷갈리니까 합친다.\n",
    "# 환불 금액이 보임. 환불을 먼저 없앤다."
   ]
  },
  {
   "cell_type": "markdown",
   "metadata": {},
   "source": [
    "## 환불금액제거."
   ]
  },
  {
   "cell_type": "code",
   "execution_count": null,
   "metadata": {},
   "outputs": [],
   "source": [
    "#합치기\n",
    "data['date']=data['transacted_date']+' '+data['transacted_time']\n",
    "data['date']=pd.to_datetime(data['date'])\n",
    "#환불 제거\n",
    "data_neg=data[data['amount']<0]\n",
    "data_pos=data[data['amount']>0]\n",
    "remove_data=pd.DataFrame()\n",
    "# store_id 안나누고 하니까 시간이 너무 오래걸림. \n",
    "for i in tqdm(data.store_id.unique()):\n",
    "    divided_data=data_pos[data_pos['store_id']==i] \n",
    "    divided_data2=data_neg[data_neg['store_id']==i] \n",
    "    #행 마다 조사.    \n",
    "    for neg in divided_data2.to_records():  \n",
    "        refund_store=neg['store_id']\n",
    "        refund_id=neg['card_id'] \n",
    "        refund_date=neg['date']\n",
    "        refund_amount=abs(neg['amount'])\n",
    "        #행뽑기\n",
    "        row=divided_data[divided_data['date']<=refund_date]\n",
    "        row=row[row['card_id']==refund_id]\n",
    "        row=row[row['amount']==refund_amount]\n",
    "        \n",
    "        if(len(row)!=0):\n",
    "            refund_date=max(row['date']) \n",
    "            remove=divided_data[divided_data['date']==refund_date] \n",
    "            remove=remove[remove['card_id']==refund_id] \n",
    "            remove=remove[remove['amount']==refund_amount] \n",
    "            divided_data=divided_data.drop(index=remove.index) \n",
    "\n",
    "    remove_data=pd.concat([remove_data,divided_data],axis=0)\n",
    "\n",
    "remove_data\n",
    "\n",
    "#remove_data.to_csv('./data09/funda_remove_data.csv')"
   ]
  },
  {
   "cell_type": "code",
   "execution_count": 2,
   "metadata": {
    "collapsed": true
   },
   "outputs": [
    {
     "name": "stderr",
     "output_type": "stream",
     "text": [
      "C:\\Users\\ckdck\\miniconda3\\envs\\tensor\\lib\\site-packages\\numpy\\lib\\arraysetops.py:569: FutureWarning: elementwise comparison failed; returning scalar instead, but in the future will perform elementwise comparison\n",
      "  mask |= (ar1 == a)\n"
     ]
    }
   ],
   "source": [
    "data=pd.read_csv('./data09/funda_remove_data.csv',index_col=0)\n",
    "data['date_slice']=pd.to_datetime(data['date'].str.slice(stop=10))\n",
    "data=data.set_index('date_slice')\n",
    "#data.head(3)"
   ]
  },
  {
   "cell_type": "code",
   "execution_count": 3,
   "metadata": {
    "collapsed": true
   },
   "outputs": [
    {
     "name": "stderr",
     "output_type": "stream",
     "text": [
      "100%|██████████████████████████████████████████████████████████████████████████████| 1967/1967 [00:49<00:00, 39.71it/s]\n"
     ]
    }
   ],
   "source": [
    "data_month=pd.DataFrame()\n",
    "for i in tqdm(data.store_id.unique()):\n",
    "    data_num=data[data.store_id==i]\n",
    "    sum_amount=data_num['amount'].resample(rule='m').sum()\n",
    "    data_mon=pd.concat([sum_amount],axis=1)\n",
    "    data_mon.insert(0,'store_id',i)\n",
    "    data_month=pd.concat([data_month,data_mon],axis=0)\n",
    "    \n",
    "#data_month.head(10)"
   ]
  },
  {
   "cell_type": "markdown",
   "metadata": {},
   "source": [
    "## ARIMA"
   ]
  },
  {
   "cell_type": "code",
   "execution_count": 4,
   "metadata": {},
   "outputs": [],
   "source": [
    "import itertools\n",
    "\n",
    "p = [0,1,2]\n",
    "d = [0,1,2]\n",
    "q = [0,1,2]\n",
    "\n",
    "pdq = list(itertools.product(p, d, q))"
   ]
  },
  {
   "cell_type": "code",
   "execution_count": null,
   "metadata": {},
   "outputs": [],
   "source": [
    "from statsmodels.tsa.arima_model import ARIMA\n",
    "\n",
    "arima_pred_arr = np.array([])\n",
    "for i in tqdm(data_month.store_id.unique()):\n",
    "    data_set = data_month[data_month.store_id == i]\n",
    "\n",
    "    best_score = 10000000000\n",
    "    best_param = 0\n",
    "    for param in pdq:\n",
    "        try:\n",
    "            arima_model = ARIMA(data_set.amount.values, order=param)\n",
    "            result = arima_model.fit()\n",
    "            if result.aic < best_score:\n",
    "                best_score = result.aic\n",
    "                best_param = param\n",
    "        except:\n",
    "            continue\n",
    "\n",
    "    arima_model = ARIMA(data_set.amount.values, order=best_param)\n",
    "    arima_result = arima_model.fit()\n",
    "    arima_pred = arima_result.forecast(3)[0]\n",
    "\n",
    "    arima_pred_arr = np.concatenate((arima_pred_arr, np.array([arima_pred.sum()])))"
   ]
  },
  {
   "cell_type": "code",
   "execution_count": null,
   "metadata": {},
   "outputs": [],
   "source": [
    "arima_sum_sub = pd.DataFrame({'store_id' : data_month.store_id.unique().tolist(), 'amount' : arima_pred_arr})\n",
    "arima_sum_sub.to_csv('./data09/funda_arima_sub.csv', index=False)"
   ]
  }
 ],
 "metadata": {
  "kernelspec": {
   "display_name": "Python 3",
   "language": "python",
   "name": "python3"
  },
  "language_info": {
   "codemirror_mode": {
    "name": "ipython",
    "version": 3
   },
   "file_extension": ".py",
   "mimetype": "text/x-python",
   "name": "python",
   "nbconvert_exporter": "python",
   "pygments_lexer": "ipython3",
   "version": "3.7.7"
  }
 },
 "nbformat": 4,
 "nbformat_minor": 4
}
