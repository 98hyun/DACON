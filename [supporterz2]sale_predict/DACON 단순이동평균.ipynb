{
 "cells": [
  {
   "cell_type": "code",
   "execution_count": 1,
   "metadata": {},
   "outputs": [],
   "source": [
    "import pandas as pd\n",
    "import numpy as np\n",
    "import matplotlib.pyplot as plt\n",
    "import seaborn as sns\n",
    "from datetime import datetime as dt\n",
    "from tqdm import tqdm"
   ]
  },
  {
   "cell_type": "markdown",
   "metadata": {},
   "source": [
    "## 데이터 불러오기"
   ]
  },
  {
   "cell_type": "code",
   "execution_count": 2,
   "metadata": {
    "collapsed": true
   },
   "outputs": [
    {
     "name": "stdout",
     "output_type": "stream",
     "text": [
      "<class 'pandas.core.frame.DataFrame'>\n",
      "RangeIndex: 6556613 entries, 0 to 6556612\n",
      "Data columns (total 9 columns):\n",
      " #   Column            Dtype  \n",
      "---  ------            -----  \n",
      " 0   store_id          int64  \n",
      " 1   card_id           int64  \n",
      " 2   card_company      object \n",
      " 3   transacted_date   object \n",
      " 4   transacted_time   object \n",
      " 5   installment_term  int64  \n",
      " 6   region            object \n",
      " 7   type_of_business  object \n",
      " 8   amount            float64\n",
      "dtypes: float64(1), int64(3), object(5)\n",
      "memory usage: 450.2+ MB\n"
     ]
    }
   ],
   "source": [
    "raw_data=pd.read_csv('./data09/funda_train.csv')\n",
    "data=raw_data.copy()\n",
    "data.info()\n",
    "#data.describe()  \n",
    "# 날짜 헷갈리니까 합친다.\n",
    "# 환불 금액이 보임. 환불을 먼저 없앤다."
   ]
  },
  {
   "cell_type": "markdown",
   "metadata": {},
   "source": [
    "## 데이터 기본정보"
   ]
  },
  {
   "cell_type": "code",
   "execution_count": 3,
   "metadata": {
    "collapsed": true
   },
   "outputs": [
    {
     "name": "stdout",
     "output_type": "stream",
     "text": [
      "store_id : 1967\n",
      "card_company : 8\n",
      "region : 181\n",
      "type_of_business : 146\n",
      "installment_term : 34\n",
      "<class 'pandas.core.frame.DataFrame'>\n",
      "RangeIndex: 6556613 entries, 0 to 6556612\n",
      "Data columns (total 9 columns):\n",
      " #   Column            Dtype  \n",
      "---  ------            -----  \n",
      " 0   store_id          int64  \n",
      " 1   card_id           int64  \n",
      " 2   card_company      object \n",
      " 3   transacted_date   object \n",
      " 4   transacted_time   object \n",
      " 5   installment_term  int64  \n",
      " 6   region            object \n",
      " 7   type_of_business  object \n",
      " 8   amount            float64\n",
      "dtypes: float64(1), int64(3), object(5)\n",
      "memory usage: 450.2+ MB\n"
     ]
    }
   ],
   "source": [
    "num_store=len(data.store_id.unique())\n",
    "num_card=len(data.card_company.unique())\n",
    "num_region=len(data.region.unique())\n",
    "num_business=len(data.type_of_business.unique())\n",
    "num_installment=len(data.installment_term.unique())\n",
    "\n",
    "print(f'store_id : {num_store}')\n",
    "print(f'card_company : {num_card}')\n",
    "print(f'region : {num_region}')\n",
    "print(f'type_of_business : {num_business}')\n",
    "print(f'installment_term : {num_installment}',end='\\n')\n",
    "\n",
    "data.info()"
   ]
  },
  {
   "cell_type": "code",
   "execution_count": 4,
   "metadata": {
    "collapsed": true
   },
   "outputs": [
    {
     "data": {
      "text/plain": [
       "<matplotlib.axes._subplots.AxesSubplot at 0x1f710ee3408>"
      ]
     },
     "execution_count": 4,
     "metadata": {},
     "output_type": "execute_result"
    },
    {
     "data": {
      "image/png": "[encoded data removed]",
      "text/plain": [
       "<Figure size 864x432 with 1 Axes>"
      ]
     },
     "metadata": {
      "needs_background": "light"
     },
     "output_type": "display_data"
    }
   ],
   "source": [
    "plt.figure(figsize=(12,6))\n",
    "sns.boxplot(x='amount',data=data)"
   ]
  },
  {
   "cell_type": "code",
   "execution_count": 5,
   "metadata": {
    "collapsed": true
   },
   "outputs": [
    {
     "name": "stdout",
     "output_type": "stream",
     "text": [
      "region nan data : 0.312\n",
      "type_of_business nan data : 0.603\n"
     ]
    }
   ],
   "source": [
    "data.isna().sum()\n",
    "\n",
    "print('region nan data :',(data.region.isna().sum()/len(data)).round(3))\n",
    "print('type_of_business nan data :',(data.type_of_business.isna().sum()/len(data)).round(3))"
   ]
  },
  {
   "cell_type": "markdown",
   "metadata": {},
   "source": [
    "1. 데이터 갯수가 60만개 이상 > 보통의 방법으로는 처리시간이 많이 걸림. > store_id로 나눠 생각한다.\n",
    "2. transacted_date와 transacted_time 을 합쳐 datetime 형식으로 바꾼다. > 시계열 데이터 처리를 위한다.\n",
    "3. 숫자형 데이터의 describe()를 봤을 때, amount의 음수가 있다.         > 환불 데이터는 후에 처리할 정보의 영향을 줄 수 있으므로 제거한다.\n",
    "4. 시계열 데이터를 위해 월별 데이터를 모은다.  \n",
    "5. 결측율이 region과 type_of_business 가 각각 30%와 60%를 넘어가며, 채우는데 더 오랜 시간이 걸릴걸로 보아 제거한다. "
   ]
  },
  {
   "cell_type": "markdown",
   "metadata": {},
   "source": [
    "## 환불금액 제거."
   ]
  },
  {
   "cell_type": "code",
   "execution_count": null,
   "metadata": {},
   "outputs": [],
   "source": [
    "#합치기\n",
    "data['date']=data['transacted_date']+' '+data['transacted_time']\n",
    "data['date']=pd.to_datetime(data['date'])\n",
    "#환불 제거\n",
    "data_neg=data[data['amount']<0]\n",
    "data_pos=data[data['amount']>0]\n",
    "remove_data=pd.DataFrame()\n",
    "# store_id 안나누고 하니까 시간이 너무 오래걸림. \n",
    "for i in tqdm(data.store_id.unique()):\n",
    "    divided_data=data_pos[data_pos['store_id']==i] \n",
    "    divided_data2=data_neg[data_neg['store_id']==i] \n",
    "    #행 마다 조사.    \n",
    "    for neg in divided_data2.to_records():  \n",
    "        refund_store=neg['store_id']\n",
    "        refund_id=neg['card_id'] \n",
    "        refund_date=neg['date']\n",
    "        refund_amount=abs(neg['amount'])\n",
    "        #행뽑기\n",
    "        row=divided_data[divided_data['date']<=refund_date]\n",
    "        row=row[row['card_id']==refund_id]\n",
    "        row=row[row['amount']==refund_amount]\n",
    "        \n",
    "        if(len(row)!=0):\n",
    "            refund_date=max(row['date']) \n",
    "            remove=divided_data[divided_data['date']==refund_date] \n",
    "            remove=remove[remove['card_id']==refund_id] \n",
    "            remove=remove[remove['amount']==refund_amount] \n",
    "            divided_data=divided_data.drop(index=remove.index) \n",
    "\n",
    "    remove_data=pd.concat([remove_data,divided_data],axis=0)\n",
    "\n",
    "remove_data\n",
    "\n",
    "#remove_data.to_csv('./data09/funda_remove_data.csv')"
   ]
  },
  {
   "cell_type": "code",
   "execution_count": 6,
   "metadata": {
    "collapsed": true
   },
   "outputs": [
    {
     "name": "stderr",
     "output_type": "stream",
     "text": [
      "C:\\Users\\ckdck\\miniconda3\\envs\\tensor\\lib\\site-packages\\numpy\\lib\\arraysetops.py:569: FutureWarning: elementwise comparison failed; returning scalar instead, but in the future will perform elementwise comparison\n",
      "  mask |= (ar1 == a)\n"
     ]
    }
   ],
   "source": [
    "data=pd.read_csv('./data09/funda_remove_data.csv',index_col=0)\n",
    "data['date_slice']=pd.to_datetime(data['date'].str.slice(stop=10))\n",
    "data=data.set_index('date_slice')\n",
    "#data.head(3)"
   ]
  },
  {
   "cell_type": "code",
   "execution_count": 7,
   "metadata": {
    "collapsed": true
   },
   "outputs": [
    {
     "data": {
      "text/plain": [
       "<matplotlib.axes._subplots.AxesSubplot at 0x1f76dda8a08>"
      ]
     },
     "execution_count": 7,
     "metadata": {},
     "output_type": "execute_result"
    },
    {
     "data": {
      "image/png": "[encoded data removed]",
      "text/plain": [
       "<Figure size 864x432 with 1 Axes>"
      ]
     },
     "metadata": {
      "needs_background": "light"
     },
     "output_type": "display_data"
    }
   ],
   "source": [
    "plt.figure(figsize=(12,6))\n",
    "sns.boxplot(x='amount',data=data)"
   ]
  },
  {
   "cell_type": "code",
   "execution_count": 8,
   "metadata": {
    "collapsed": true
   },
   "outputs": [
    {
     "name": "stderr",
     "output_type": "stream",
     "text": [
      "100%|██████████████████████████████████████████████████████████████████████████████| 1967/1967 [00:49<00:00, 39.77it/s]\n"
     ]
    }
   ],
   "source": [
    "data_month=pd.DataFrame()\n",
    "for i in tqdm(data.store_id.unique()):\n",
    "    data_num=data[data.store_id==i]\n",
    "    sum_amount=data_num['amount'].resample(rule='m').sum()\n",
    "    data_mon=pd.concat([sum_amount],axis=1)\n",
    "    data_mon.insert(0,'store_id',i)\n",
    "    data_month=pd.concat([data_month,data_mon],axis=0)\n",
    "    \n",
    "#data_month.head(10)"
   ]
  },
  {
   "cell_type": "markdown",
   "metadata": {},
   "source": [
    "## 단순 이동 평균"
   ]
  },
  {
   "cell_type": "code",
   "execution_count": 9,
   "metadata": {},
   "outputs": [],
   "source": [
    "def sub(df,n):\n",
    "    concat_3mon = pd.DataFrame(index=pd.to_datetime(['2019-03-31', '2019-04-30', '2019-05-31']))\n",
    "    df_sma=pd.DataFrame(columns=['store_id','amount'])\n",
    "\n",
    "    for i in data_month.store_id.unique():\n",
    "        df_set = pd.DataFrame(df[df.store_id == i].amount)\n",
    "        sma_train = pd.concat([df_set,concat_3mon], axis=0)\n",
    "        num = df_set.amount.rolling(window=n,min_periods=1).mean().values[-3:].sum()\n",
    "        df_sma.loc[i,'store_id']=i\n",
    "        df_sma.loc[i,'amount']=num\n",
    "        \n",
    "    return df_sma"
   ]
  },
  {
   "cell_type": "code",
   "execution_count": null,
   "metadata": {},
   "outputs": [],
   "source": [
    "for i in tqdm(range(4, 7)):\n",
    "    sma_sub = sub(data_month, i)\n",
    "    sma_sub.to_csv(f'./data09/funda_{i}sma_sub.csv',index=False)"
   ]
  }
 ],
 "metadata": {
  "kernelspec": {
   "display_name": "Python 3",
   "language": "python",
   "name": "python3"
  },
  "language_info": {
   "codemirror_mode": {
    "name": "ipython",
    "version": 3
   },
   "file_extension": ".py",
   "mimetype": "text/x-python",
   "name": "python",
   "nbconvert_exporter": "python",
   "pygments_lexer": "ipython3",
   "version": "3.7.7"
  }
 },
 "nbformat": 4,
 "nbformat_minor": 4
}
