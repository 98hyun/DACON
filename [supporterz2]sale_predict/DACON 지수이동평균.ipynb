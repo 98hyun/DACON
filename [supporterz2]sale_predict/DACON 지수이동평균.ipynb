{
 "cells": [
  {
   "cell_type": "code",
   "execution_count": 1,
   "metadata": {},
   "outputs": [],
   "source": [
    "import pandas as pd\n",
    "import numpy as np\n",
    "import matplotlib.pyplot as plt\n",
    "import seaborn as sns\n",
    "from datetime import datetime as dt\n",
    "from tqdm import tqdm"
   ]
  },
  {
   "cell_type": "markdown",
   "metadata": {},
   "source": [
    "## 데이터 불러오기"
   ]
  },
  {
   "cell_type": "code",
   "execution_count": 2,
   "metadata": {
    "collapsed": true
   },
   "outputs": [
    {
     "name": "stdout",
     "output_type": "stream",
     "text": [
      "<class 'pandas.core.frame.DataFrame'>\n",
      "RangeIndex: 6556613 entries, 0 to 6556612\n",
      "Data columns (total 9 columns):\n",
      " #   Column            Dtype  \n",
      "---  ------            -----  \n",
      " 0   store_id          int64  \n",
      " 1   card_id           int64  \n",
      " 2   card_company      object \n",
      " 3   transacted_date   object \n",
      " 4   transacted_time   object \n",
      " 5   installment_term  int64  \n",
      " 6   region            object \n",
      " 7   type_of_business  object \n",
      " 8   amount            float64\n",
      "dtypes: float64(1), int64(3), object(5)\n",
      "memory usage: 450.2+ MB\n"
     ]
    }
   ],
   "source": [
    "raw_data=pd.read_csv('./data09/funda_train.csv')\n",
    "data=raw_data.copy()\n",
    "data.info()\n",
    "#data.describe()  \n",
    "# 날짜 헷갈리니까 합친다.\n",
    "# 환불 금액이 보임. 환불을 먼저 없앤다."
   ]
  },
  {
   "cell_type": "markdown",
   "metadata": {},
   "source": [
    "## 환불금액제거."
   ]
  },
  {
   "cell_type": "code",
   "execution_count": null,
   "metadata": {},
   "outputs": [],
   "source": [
    "#합치기\n",
    "data['date']=data['transacted_date']+' '+data['transacted_time']\n",
    "data['date']=pd.to_datetime(data['date'])\n",
    "#환불 제거\n",
    "data_neg=data[data['amount']<0]\n",
    "data_pos=data[data['amount']>0]\n",
    "remove_data=pd.DataFrame()\n",
    "# store_id 안나누고 하니까 시간이 너무 오래걸림. \n",
    "for i in tqdm(data.store_id.unique()):\n",
    "    divided_data=data_pos[data_pos['store_id']==i] \n",
    "    divided_data2=data_neg[data_neg['store_id']==i] \n",
    "    #행 마다 조사.    \n",
    "    for neg in divided_data2.to_records():  \n",
    "        refund_store=neg['store_id']\n",
    "        refund_id=neg['card_id'] \n",
    "        refund_date=neg['date']\n",
    "        refund_amount=abs(neg['amount'])\n",
    "        #행뽑기\n",
    "        row=divided_data[divided_data['date']<=refund_date]\n",
    "        row=row[row['card_id']==refund_id]\n",
    "        row=row[row['amount']==refund_amount]\n",
    "        \n",
    "        if(len(row)!=0):\n",
    "            refund_date=max(row['date']) \n",
    "            remove=divided_data[divided_data['date']==refund_date] \n",
    "            remove=remove[remove['card_id']==refund_id] \n",
    "            remove=remove[remove['amount']==refund_amount] \n",
    "            divided_data=divided_data.drop(index=remove.index) \n",
    "\n",
    "    remove_data=pd.concat([remove_data,divided_data],axis=0)\n",
    "\n",
    "remove_data\n",
    "\n",
    "#remove_data.to_csv('./data09/funda_remove_data.csv')"
   ]
  },
  {
   "cell_type": "code",
   "execution_count": 3,
   "metadata": {
    "collapsed": true
   },
   "outputs": [
    {
     "name": "stderr",
     "output_type": "stream",
     "text": [
      "C:\\Users\\ckdck\\miniconda3\\envs\\tensor\\lib\\site-packages\\numpy\\lib\\arraysetops.py:569: FutureWarning: elementwise comparison failed; returning scalar instead, but in the future will perform elementwise comparison\n",
      "  mask |= (ar1 == a)\n"
     ]
    }
   ],
   "source": [
    "data=pd.read_csv('./data09/funda_remove_data.csv',index_col=0)\n",
    "data['date_slice']=pd.to_datetime(data['date'].str.slice(stop=10))\n",
    "data=data.set_index('date_slice')\n",
    "#data.head(3)"
   ]
  },
  {
   "cell_type": "code",
   "execution_count": 4,
   "metadata": {
    "collapsed": true
   },
   "outputs": [
    {
     "name": "stderr",
     "output_type": "stream",
     "text": [
      "100%|██████████████████████████████████████████████████████████████████████████████| 1967/1967 [00:48<00:00, 40.19it/s]\n"
     ]
    }
   ],
   "source": [
    "data_month=pd.DataFrame()\n",
    "for i in tqdm(data.store_id.unique()):\n",
    "    data_num=data[data.store_id==i]\n",
    "    sum_amount=data_num['amount'].resample(rule='m').sum()\n",
    "    data_mon=pd.concat([sum_amount],axis=1)\n",
    "    data_mon.insert(0,'store_id',i)\n",
    "    data_month=pd.concat([data_month,data_mon],axis=0)\n",
    "    \n",
    "#data_month.head(10)"
   ]
  },
  {
   "cell_type": "markdown",
   "metadata": {},
   "source": [
    "## 지수 이동 평균"
   ]
  },
  {
   "cell_type": "code",
   "execution_count": 5,
   "metadata": {},
   "outputs": [],
   "source": [
    "def sub(df,n):\n",
    "    concat_3mon = pd.DataFrame(index=pd.to_datetime(['2019-03-31', '2019-04-30', '2019-05-31']))\n",
    "    df_ema=pd.DataFrame(columns=['store_id','amount'])\n",
    "    ema_sub = np.array([])\n",
    "\n",
    "    for i in df.store_id.unique():\n",
    "        df_set = pd.DataFrame(df[df.store_id == i].amount)\n",
    "        wma_train = pd.concat([df_set, concat_3mon], axis=0)\n",
    "        num_sub = wma_train.amount.ewm(span=n).mean()['2019-03':].sum()\n",
    "        df_ema.loc[i,'store_id']=i\n",
    "        df_ema.loc[i,'amount']=num_sub\n",
    "        \n",
    "    return df_ema"
   ]
  },
  {
   "cell_type": "code",
   "execution_count": null,
   "metadata": {},
   "outputs": [],
   "source": [
    "for i in tqdm(range(4, 7)):\n",
    "    ema_sub = sub(data_month, i)\n",
    "    ema_sub.to_csv(f'./data09/funda_{i}ema_sub.csv',index=False)"
   ]
  }
 ],
 "metadata": {
  "kernelspec": {
   "display_name": "Python 3",
   "language": "python",
   "name": "python3"
  },
  "language_info": {
   "codemirror_mode": {
    "name": "ipython",
    "version": 3
   },
   "file_extension": ".py",
   "mimetype": "text/x-python",
   "name": "python",
   "nbconvert_exporter": "python",
   "pygments_lexer": "ipython3",
   "version": "3.7.7"
  }
 },
 "nbformat": 4,
 "nbformat_minor": 4
}
