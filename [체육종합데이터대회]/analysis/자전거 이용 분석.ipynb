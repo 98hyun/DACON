{
 "cells": [
  {
   "cell_type": "code",
   "execution_count": 1,
   "metadata": {},
   "outputs": [],
   "source": [
    "import pandas as pd"
   ]
  },
  {
   "cell_type": "markdown",
   "metadata": {},
   "source": [
    "# 따릉이 이용현황\n",
    "\n",
    "## 자전거 이용현황을 알아보기 위함."
   ]
  },
  {
   "cell_type": "code",
   "execution_count": 2,
   "metadata": {},
   "outputs": [],
   "source": [
    "# _201901=pd.read_csv('201901.csv',encoding='cp949')\n",
    "# _201904=pd.read_excel('201904.xlsx')\n",
    "# _201906=pd.read_excel('201906.xlsx')\n",
    "# _201912=pd.read_excel('201912.xlsx')\n",
    "data=pd.read_csv('따릉이_201901_202006.csv')"
   ]
  },
  {
   "cell_type": "code",
   "execution_count": 3,
   "metadata": {},
   "outputs": [],
   "source": [
    "# _201901['대여일시']=_201901['대여일시'].str.replace('-','')\n",
    "# _201901['대여일시']=pd.to_datetime(_201901['대여일시'],format=\"%Y%m%d\")\n",
    "# _201904['대여일시']=_201904['대여일자']\n",
    "# _201904=_201904.drop(['대여일자'],axis=1)\n",
    "\n",
    "# data=pd.concat([_201901,_201904,_201906,_201912],axis=0)"
   ]
  },
  {
   "cell_type": "code",
   "execution_count": 4,
   "metadata": {},
   "outputs": [],
   "source": [
    "# data.to_csv('따릉이_201901_202006.csv',index=False)"
   ]
  },
  {
   "cell_type": "code",
   "execution_count": 5,
   "metadata": {},
   "outputs": [],
   "source": [
    "data['대여일시']=data['대여일시'].str.replace('-','')\n",
    "data['대여일시']=pd.to_datetime(data['대여일시'],format=\"%Y%m%d\")\n",
    "\n",
    "data['월']=data['대여일시'].apply(lambda x:x.month)\n",
    "data['년']=data['대여일시'].apply(lambda x:x.year)"
   ]
  },
  {
   "cell_type": "markdown",
   "metadata": {},
   "source": [
    "### 2019년에 비해 2020년 자전거 이용이 늘었다. (1월~5월)\n",
    "### 코로나 등 여러 이유가 있지만, 결론은 전년대비 1~5월 평균 자전거 이용이 늘었다.\n",
    "### 사람들은 자전거를 꾸준히 탈 의향이 있다."
   ]
  },
  {
   "cell_type": "code",
   "execution_count": 6,
   "metadata": {
    "scrolled": false
   },
   "outputs": [
    {
     "data": {
      "text/html": [
       "<div>\n",
       "<style scoped>\n",
       "    .dataframe tbody tr th:only-of-type {\n",
       "        vertical-align: middle;\n",
       "    }\n",
       "\n",
       "    .dataframe tbody tr th {\n",
       "        vertical-align: top;\n",
       "    }\n",
       "\n",
       "    .dataframe thead th {\n",
       "        text-align: right;\n",
       "    }\n",
       "</style>\n",
       "<table border=\"1\" class=\"dataframe\">\n",
       "  <thead>\n",
       "    <tr style=\"text-align: right;\">\n",
       "      <th></th>\n",
       "      <th></th>\n",
       "      <th>sum</th>\n",
       "      <th>mean</th>\n",
       "    </tr>\n",
       "    <tr>\n",
       "      <th>년</th>\n",
       "      <th>월</th>\n",
       "      <th></th>\n",
       "      <th></th>\n",
       "    </tr>\n",
       "  </thead>\n",
       "  <tbody>\n",
       "    <tr>\n",
       "      <th rowspan=\"12\" valign=\"top\">2019</th>\n",
       "      <th>1</th>\n",
       "      <td>495573</td>\n",
       "      <td>15986.225806</td>\n",
       "    </tr>\n",
       "    <tr>\n",
       "      <th>2</th>\n",
       "      <td>471543</td>\n",
       "      <td>16840.821429</td>\n",
       "    </tr>\n",
       "    <tr>\n",
       "      <th>3</th>\n",
       "      <td>904819</td>\n",
       "      <td>29187.709677</td>\n",
       "    </tr>\n",
       "    <tr>\n",
       "      <th>4</th>\n",
       "      <td>1468000</td>\n",
       "      <td>48933.333333</td>\n",
       "    </tr>\n",
       "    <tr>\n",
       "      <th>5</th>\n",
       "      <td>2232895</td>\n",
       "      <td>72028.870968</td>\n",
       "    </tr>\n",
       "    <tr>\n",
       "      <th>6</th>\n",
       "      <td>2293879</td>\n",
       "      <td>76462.633333</td>\n",
       "    </tr>\n",
       "    <tr>\n",
       "      <th>7</th>\n",
       "      <td>2164086</td>\n",
       "      <td>69809.225806</td>\n",
       "    </tr>\n",
       "    <tr>\n",
       "      <th>8</th>\n",
       "      <td>2101184</td>\n",
       "      <td>67780.129032</td>\n",
       "    </tr>\n",
       "    <tr>\n",
       "      <th>9</th>\n",
       "      <td>2084222</td>\n",
       "      <td>71869.724138</td>\n",
       "    </tr>\n",
       "    <tr>\n",
       "      <th>10</th>\n",
       "      <td>2436401</td>\n",
       "      <td>78593.580645</td>\n",
       "    </tr>\n",
       "    <tr>\n",
       "      <th>11</th>\n",
       "      <td>1537269</td>\n",
       "      <td>51242.300000</td>\n",
       "    </tr>\n",
       "    <tr>\n",
       "      <th>12</th>\n",
       "      <td>882078</td>\n",
       "      <td>28454.129032</td>\n",
       "    </tr>\n",
       "    <tr>\n",
       "      <th rowspan=\"5\" valign=\"top\">2020</th>\n",
       "      <th>1</th>\n",
       "      <td>794162</td>\n",
       "      <td>25618.129032</td>\n",
       "    </tr>\n",
       "    <tr>\n",
       "      <th>2</th>\n",
       "      <td>762274</td>\n",
       "      <td>26285.310345</td>\n",
       "    </tr>\n",
       "    <tr>\n",
       "      <th>3</th>\n",
       "      <td>1533535</td>\n",
       "      <td>49468.870968</td>\n",
       "    </tr>\n",
       "    <tr>\n",
       "      <th>4</th>\n",
       "      <td>2157390</td>\n",
       "      <td>71913.000000</td>\n",
       "    </tr>\n",
       "    <tr>\n",
       "      <th>5</th>\n",
       "      <td>2480330</td>\n",
       "      <td>80010.645161</td>\n",
       "    </tr>\n",
       "  </tbody>\n",
       "</table>\n",
       "</div>"
      ],
      "text/plain": [
       "             sum          mean\n",
       "년    월                        \n",
       "2019 1    495573  15986.225806\n",
       "     2    471543  16840.821429\n",
       "     3    904819  29187.709677\n",
       "     4   1468000  48933.333333\n",
       "     5   2232895  72028.870968\n",
       "     6   2293879  76462.633333\n",
       "     7   2164086  69809.225806\n",
       "     8   2101184  67780.129032\n",
       "     9   2084222  71869.724138\n",
       "     10  2436401  78593.580645\n",
       "     11  1537269  51242.300000\n",
       "     12   882078  28454.129032\n",
       "2020 1    794162  25618.129032\n",
       "     2    762274  26285.310345\n",
       "     3   1533535  49468.870968\n",
       "     4   2157390  71913.000000\n",
       "     5   2480330  80010.645161"
      ]
     },
     "execution_count": 6,
     "metadata": {},
     "output_type": "execute_result"
    }
   ],
   "source": [
    "data.groupby(['년','월'])['대여건수'].agg(['sum','mean'])"
   ]
  },
  {
   "cell_type": "markdown",
   "metadata": {},
   "source": [
    "# 경륜 자전거 보관 현황"
   ]
  },
  {
   "cell_type": "code",
   "execution_count": 7,
   "metadata": {},
   "outputs": [],
   "source": [
    "data=pd.read_csv('bicycle.csv')"
   ]
  },
  {
   "cell_type": "code",
   "execution_count": 8,
   "metadata": {},
   "outputs": [],
   "source": [
    "data=data.loc[data['CYCLE_KEEP']>0]"
   ]
  },
  {
   "cell_type": "code",
   "execution_count": 9,
   "metadata": {},
   "outputs": [],
   "source": [
    "data['date']=pd.to_datetime(data['MAX_RACE_DAY'],format=\"%Y%m%d\")\n",
    "\n",
    "data['month']=data['date'].apply(lambda x:x.month)"
   ]
  },
  {
   "cell_type": "code",
   "execution_count": 10,
   "metadata": {
    "scrolled": false
   },
   "outputs": [
    {
     "data": {
      "text/plain": [
       "STND_YEAR  month\n",
       "2019       3        24\n",
       "           4        22\n",
       "           5        23\n",
       "           6        30\n",
       "           7        23\n",
       "           8        24\n",
       "           9        21\n",
       "           10       24\n",
       "           11       24\n",
       "           12       29\n",
       "2020       1        24\n",
       "           2        23\n",
       "Name: CYCLE_OUT, dtype: int64"
      ]
     },
     "execution_count": 10,
     "metadata": {},
     "output_type": "execute_result"
    }
   ],
   "source": [
    "data.groupby(['STND_YEAR','month'])['CYCLE_OUT'].sum()"
   ]
  },
  {
   "cell_type": "markdown",
   "metadata": {},
   "source": [
    "### 평균 113대를 가지고 있고, 그중 월 평균 24대정도 반출된다.\n",
    "### 그래서, 남은 자전거 중 일정 부분을 일반인에게 사업을 해도 괜찮겠다고 생각했다."
   ]
  }
 ],
 "metadata": {
  "kernelspec": {
   "display_name": "Python 3",
   "language": "python",
   "name": "python3"
  },
  "language_info": {
   "codemirror_mode": {
    "name": "ipython",
    "version": 3
   },
   "file_extension": ".py",
   "mimetype": "text/x-python",
   "name": "python",
   "nbconvert_exporter": "python",
   "pygments_lexer": "ipython3",
   "version": "3.7.7"
  }
 },
 "nbformat": 4,
 "nbformat_minor": 4
}
