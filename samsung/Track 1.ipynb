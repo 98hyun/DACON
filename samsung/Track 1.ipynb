{
 "cells": [
  {
   "cell_type": "markdown",
   "metadata": {},
   "source": [
    "# data load"
   ]
  },
  {
   "cell_type": "code",
   "execution_count": 16,
   "metadata": {},
   "outputs": [],
   "source": [
    "import pickle\n",
    "import numpy as np\n",
    "import pandas as pd\n",
    "import sklearn\n",
    "import lightgbm\n",
    "import scipy\n",
    "import bayes_opt\n",
    "from matplotlib import pyplot as plt"
   ]
  },
  {
   "cell_type": "code",
   "execution_count": 2,
   "metadata": {},
   "outputs": [],
   "source": [
    "# rawInfo=pd.read_csv('./dataset/[Track1_데이터1] mrc_info.csv',encoding='cp949')\n",
    "# rawTrain=pd.read_csv('./dataset/[Track1_데이터2] samp_train.csv',encoding='cp949')\n",
    "# rawCst=pd.read_csv('./dataset/[Track1_데이터3] samp_cst_feat.csv',encoding='cp949')\n",
    "# rawDtype=pd.read_csv('./dataset/[Track1_데이터4] variable_dtype.csv',encoding='cp949')"
   ]
  },
  {
   "cell_type": "code",
   "execution_count": 3,
   "metadata": {},
   "outputs": [],
   "source": [
    "# with open('./dataset/info.pkl','wb') as file:\n",
    "#     pickle.dump(rawInfo,file)\n",
    "    \n",
    "# with open('./dataset/train.pkl','wb') as file:\n",
    "#     pickle.dump(rawTrain,file)\n",
    "    \n",
    "# with open('./dataset/cst.pkl','wb') as file:\n",
    "#     pickle.dump(rawCst,file)\n",
    "    \n",
    "# with open('./dataset/dtype.pkl','wb') as file:\n",
    "#     pickle.dump(rawDtype,file)"
   ]
  },
  {
   "cell_type": "code",
   "execution_count": 2,
   "metadata": {},
   "outputs": [],
   "source": [
    "with open('./dataset/info.pkl','rb') as file:\n",
    "    info=pickle.load(file)\n",
    "    \n",
    "with open('./dataset/train.pkl','rb') as file:\n",
    "    train=pickle.load(file)\n",
    "    \n",
    "with open('./dataset/cst.pkl','rb') as file:\n",
    "    cst=pickle.load(file)\n",
    "    \n",
    "with open('./dataset/dtype.pkl','rb') as file:\n",
    "    dtype=pickle.load(file)"
   ]
  },
  {
   "cell_type": "markdown",
   "metadata": {},
   "source": [
    "# data browse\n"
   ]
  },
  {
   "cell_type": "code",
   "execution_count": 3,
   "metadata": {},
   "outputs": [],
   "source": [
    "def datainfo(df):\n",
    "    return pd.DataFrame([(col,df[col].nunique(),df[col].isna().sum(),df[col].dtype,df[col].unique()[:5]) for col in df.columns],\n",
    "                       columns=['name','nunique','missing','dtype','value :5'])"
   ]
  },
  {
   "cell_type": "code",
   "execution_count": 6,
   "metadata": {},
   "outputs": [],
   "source": [
    "# datainfo(info)\n",
    "# datainfo(train)\n",
    "# datainfo(cst)\n",
    "# datainfo(dtype)"
   ]
  },
  {
   "cell_type": "markdown",
   "metadata": {},
   "source": [
    "# data cleaning"
   ]
  },
  {
   "cell_type": "code",
   "execution_count": 7,
   "metadata": {},
   "outputs": [],
   "source": [
    "# 0 미용 1 6 8 홈쇼핑 2 3 5 10 종합몰 4 9 전문몰 7 오픈마켓_소셜\n",
    "# info"
   ]
  },
  {
   "cell_type": "code",
   "execution_count": 8,
   "metadata": {},
   "outputs": [],
   "source": [
    "# 미용 대다수 그 뒤로 오픈마켓 홈쇼핑 등.\n",
    "# train.MRC_ID_DI.value_counts(normalize=True)"
   ]
  },
  {
   "cell_type": "code",
   "execution_count": 4,
   "metadata": {},
   "outputs": [],
   "source": [
    "# 숫자형 범주형 나누기\n",
    "# dtype.dType.unique()\n",
    "num_feature=dtype[dtype['dType']=='numerical'].Variable_Name.values\n",
    "categorical_feature=list(dtype[dtype.dType=='categorical'].Variable_Name.values)"
   ]
  },
  {
   "cell_type": "code",
   "execution_count": 5,
   "metadata": {},
   "outputs": [],
   "source": [
    "Train=pd.merge(train,cst,on=['cst_id_di'])\n",
    "Train['MRC_ID_DI']=Train['MRC_ID_DI'].replace({1:1,2:1,3:1,4:1,5:1,6:1,7:1,8:1,9:1,10:1})"
   ]
  },
  {
   "cell_type": "code",
   "execution_count": 7,
   "metadata": {},
   "outputs": [],
   "source": [
    "notFeature=['cst_id_di','MRC_ID_DI']\n",
    "feature=[col for col in Train.columns if col not in notFeature]\n",
    "\n",
    "X=Train[feature]\n",
    "y=Train['MRC_ID_DI']"
   ]
  },
  {
   "cell_type": "markdown",
   "metadata": {},
   "source": [
    "# binary baseline model"
   ]
  },
  {
   "cell_type": "code",
   "execution_count": 133,
   "metadata": {},
   "outputs": [],
   "source": [
    "X_train,X_test,y_train,y_true=sklearn.model_selection.train_test_split(X,y,test_size=0.2,random_state=2020)\n",
    "\n",
    "params={\n",
    "    'objective':'binary',\n",
    "    'metric':'binary_logloss',\n",
    "    'is_unbalance':True,\n",
    "    'learning_rate':0.03,\n",
    "    'verbose':0    \n",
    "}"
   ]
  },
  {
   "cell_type": "code",
   "execution_count": 134,
   "metadata": {
    "scrolled": true
   },
   "outputs": [
    {
     "name": "stdout",
     "output_type": "stream",
     "text": [
      "Training until validation scores don't improve for 70 rounds\n",
      "[50]\tvalid_0's binary_logloss: 0.381527\n",
      "[100]\tvalid_0's binary_logloss: 0.37909\n",
      "[150]\tvalid_0's binary_logloss: 0.364809\n",
      "[200]\tvalid_0's binary_logloss: 0.352312\n",
      "[250]\tvalid_0's binary_logloss: 0.344723\n",
      "[300]\tvalid_0's binary_logloss: 0.338537\n",
      "[350]\tvalid_0's binary_logloss: 0.334515\n",
      "[400]\tvalid_0's binary_logloss: 0.330608\n",
      "[450]\tvalid_0's binary_logloss: 0.329094\n",
      "[500]\tvalid_0's binary_logloss: 0.327936\n",
      "[550]\tvalid_0's binary_logloss: 0.327569\n",
      "[600]\tvalid_0's binary_logloss: 0.32856\n",
      "Early stopping, best iteration is:\n",
      "[548]\tvalid_0's binary_logloss: 0.327387\n",
      "Training until validation scores don't improve for 70 rounds\n",
      "[50]\tvalid_0's binary_logloss: 0.393829\n",
      "[100]\tvalid_0's binary_logloss: 0.397511\n",
      "Early stopping, best iteration is:\n",
      "[33]\tvalid_0's binary_logloss: 0.390028\n",
      "Training until validation scores don't improve for 70 rounds\n",
      "[50]\tvalid_0's binary_logloss: 0.390113\n",
      "[100]\tvalid_0's binary_logloss: 0.388617\n",
      "[150]\tvalid_0's binary_logloss: 0.380011\n",
      "[200]\tvalid_0's binary_logloss: 0.372094\n",
      "[250]\tvalid_0's binary_logloss: 0.365851\n",
      "[300]\tvalid_0's binary_logloss: 0.359613\n",
      "[350]\tvalid_0's binary_logloss: 0.356781\n",
      "[400]\tvalid_0's binary_logloss: 0.355284\n",
      "[450]\tvalid_0's binary_logloss: 0.354445\n",
      "Early stopping, best iteration is:\n",
      "[418]\tvalid_0's binary_logloss: 0.354243\n",
      "Training until validation scores don't improve for 70 rounds\n",
      "[50]\tvalid_0's binary_logloss: 0.419835\n",
      "[100]\tvalid_0's binary_logloss: 0.422302\n",
      "Early stopping, best iteration is:\n",
      "[30]\tvalid_0's binary_logloss: 0.414865\n",
      "Training until validation scores don't improve for 70 rounds\n",
      "[50]\tvalid_0's binary_logloss: 0.389204\n",
      "[100]\tvalid_0's binary_logloss: 0.383226\n",
      "[150]\tvalid_0's binary_logloss: 0.370608\n",
      "[200]\tvalid_0's binary_logloss: 0.357956\n",
      "[250]\tvalid_0's binary_logloss: 0.348996\n",
      "[300]\tvalid_0's binary_logloss: 0.342649\n",
      "[350]\tvalid_0's binary_logloss: 0.337035\n",
      "[400]\tvalid_0's binary_logloss: 0.333226\n",
      "[450]\tvalid_0's binary_logloss: 0.331904\n",
      "[500]\tvalid_0's binary_logloss: 0.329847\n",
      "[550]\tvalid_0's binary_logloss: 0.329461\n",
      "[600]\tvalid_0's binary_logloss: 0.328742\n",
      "[650]\tvalid_0's binary_logloss: 0.3289\n",
      "Early stopping, best iteration is:\n",
      "[598]\tvalid_0's binary_logloss: 0.328571\n",
      "Training until validation scores don't improve for 70 rounds\n",
      "[50]\tvalid_0's binary_logloss: 0.407179\n",
      "[100]\tvalid_0's binary_logloss: 0.406017\n",
      "[150]\tvalid_0's binary_logloss: 0.400159\n",
      "[200]\tvalid_0's binary_logloss: 0.395869\n",
      "[250]\tvalid_0's binary_logloss: 0.391647\n",
      "[300]\tvalid_0's binary_logloss: 0.387361\n",
      "[350]\tvalid_0's binary_logloss: 0.386428\n",
      "[400]\tvalid_0's binary_logloss: 0.385555\n",
      "[450]\tvalid_0's binary_logloss: 0.388605\n",
      "Early stopping, best iteration is:\n",
      "[400]\tvalid_0's binary_logloss: 0.385555\n"
     ]
    }
   ],
   "source": [
    "cv=sklearn.model_selection.KFold(n_splits=6,shuffle=True,random_state=2020)\n",
    "oof_train=dict()\n",
    "models=[]\n",
    "\n",
    "for foldId,(train_idx,valid_idx) in enumerate(cv.split(X_train)):\n",
    "    X_tr,X_val=X_train.iloc[train_idx],X_train.iloc[valid_idx]\n",
    "    y_tr,y_val=y_train.iloc[train_idx],y_train.iloc[valid_idx]\n",
    "\n",
    "    lgbTrain=lightgbm.Dataset(X_tr,y_tr,categorical_feature=categorical_feature)\n",
    "    lgbValid=lightgbm.Dataset(X_val,y_val,reference=lgbTrain,categorical_feature=categorical_feature)\n",
    "\n",
    "    model=lightgbm.train(params,lgbTrain,num_boost_round=3000,valid_sets=[lgbValid],early_stopping_rounds=70,\n",
    "                        verbose_eval=50,categorical_feature=categorical_feature)\n",
    "    models.append(model)\n",
    "    res=model.predict(X_test,num_iteration=model.best_iteration)\n",
    "    \n",
    "    oof_train[f\"oof_{foldId}\"]=res"
   ]
  },
  {
   "cell_type": "code",
   "execution_count": 136,
   "metadata": {},
   "outputs": [
    {
     "name": "stdout",
     "output_type": "stream",
     "text": [
      "best score : 0.32738727236335946\n",
      "best score : 0.390028415714558\n",
      "best score : 0.35424345019003295\n",
      "best score : 0.4148650630389748\n",
      "best score : 0.3285707334818596\n",
      "best score : 0.3855548399863246\n"
     ]
    }
   ],
   "source": [
    "for model in models:\n",
    "    print(f\"best score :\",model.best_score['valid_0']['binary_logloss'])"
   ]
  },
  {
   "cell_type": "code",
   "execution_count": 137,
   "metadata": {
    "scrolled": true
   },
   "outputs": [
    {
     "data": {
      "image/png": "[encoded data removed]",
      "text/plain": [
       "<Figure size 432x288 with 1 Axes>"
      ]
     },
     "metadata": {
      "needs_background": "light"
     },
     "output_type": "display_data"
    }
   ],
   "source": [
    "fpr,tpr,threshold=sklearn.metrics.roc_curve(y_true,oof_train['oof_0'])\n",
    "auc=sklearn.metrics.roc_auc_score(y_true,oof_train['oof_0'])\n",
    "plt.plot(fpr,tpr)\n",
    "plt.title(\"auc score : \"+str(auc))\n",
    "plt.show()"
   ]
  },
  {
   "cell_type": "code",
   "execution_count": 141,
   "metadata": {
    "scrolled": false
   },
   "outputs": [
    {
     "data": {
      "text/html": [
       "<div>\n",
       "<style scoped>\n",
       "    .dataframe tbody tr th:only-of-type {\n",
       "        vertical-align: middle;\n",
       "    }\n",
       "\n",
       "    .dataframe tbody tr th {\n",
       "        vertical-align: top;\n",
       "    }\n",
       "\n",
       "    .dataframe thead th {\n",
       "        text-align: right;\n",
       "    }\n",
       "</style>\n",
       "<table border=\"1\" class=\"dataframe\">\n",
       "  <thead>\n",
       "    <tr style=\"text-align: right;\">\n",
       "      <th></th>\n",
       "      <th>0</th>\n",
       "      <th>MRC_ID_DI</th>\n",
       "    </tr>\n",
       "  </thead>\n",
       "  <tbody>\n",
       "    <tr>\n",
       "      <th>0</th>\n",
       "      <td>-6.221457</td>\n",
       "      <td>0</td>\n",
       "    </tr>\n",
       "    <tr>\n",
       "      <th>1</th>\n",
       "      <td>1.321056</td>\n",
       "      <td>0</td>\n",
       "    </tr>\n",
       "    <tr>\n",
       "      <th>2</th>\n",
       "      <td>-7.656170</td>\n",
       "      <td>0</td>\n",
       "    </tr>\n",
       "    <tr>\n",
       "      <th>3</th>\n",
       "      <td>-7.824752</td>\n",
       "      <td>0</td>\n",
       "    </tr>\n",
       "    <tr>\n",
       "      <th>4</th>\n",
       "      <td>2.445123</td>\n",
       "      <td>1</td>\n",
       "    </tr>\n",
       "    <tr>\n",
       "      <th>...</th>\n",
       "      <td>...</td>\n",
       "      <td>...</td>\n",
       "    </tr>\n",
       "    <tr>\n",
       "      <th>2020</th>\n",
       "      <td>1.567693</td>\n",
       "      <td>1</td>\n",
       "    </tr>\n",
       "    <tr>\n",
       "      <th>2021</th>\n",
       "      <td>-1.404259</td>\n",
       "      <td>0</td>\n",
       "    </tr>\n",
       "    <tr>\n",
       "      <th>2022</th>\n",
       "      <td>-0.747274</td>\n",
       "      <td>1</td>\n",
       "    </tr>\n",
       "    <tr>\n",
       "      <th>2023</th>\n",
       "      <td>1.041113</td>\n",
       "      <td>1</td>\n",
       "    </tr>\n",
       "    <tr>\n",
       "      <th>2024</th>\n",
       "      <td>-0.863034</td>\n",
       "      <td>1</td>\n",
       "    </tr>\n",
       "  </tbody>\n",
       "</table>\n",
       "<p>2025 rows × 2 columns</p>\n",
       "</div>"
      ],
      "text/plain": [
       "             0  MRC_ID_DI\n",
       "0    -6.221457          0\n",
       "1     1.321056          0\n",
       "2    -7.656170          0\n",
       "3    -7.824752          0\n",
       "4     2.445123          1\n",
       "...        ...        ...\n",
       "2020  1.567693          1\n",
       "2021 -1.404259          0\n",
       "2022 -0.747274          1\n",
       "2023  1.041113          1\n",
       "2024 -0.863034          1\n",
       "\n",
       "[2025 rows x 2 columns]"
      ]
     },
     "execution_count": 141,
     "metadata": {},
     "output_type": "execute_result"
    }
   ],
   "source": [
    "pd.concat([pd.DataFrame(models[4].predict(X_test,raw_score=True)),y_true.reset_index(drop=True)],axis=1)\n",
    "# 0.00268905598"
   ]
  },
  {
   "cell_type": "markdown",
   "metadata": {},
   "source": [
    "# hypertuning"
   ]
  },
  {
   "cell_type": "code",
   "execution_count": 261,
   "metadata": {},
   "outputs": [],
   "source": [
    "def lgb_cv(learning_rate,max_depth,num_leaves,min_data_in_leaf,\n",
    "              bagging_fraction,feature_fraction):\n",
    "    params={\n",
    "        'objective':'binary',\n",
    "        'metric':'auc',\n",
    "        'is_unbalance':True,\n",
    "        'learning_rate':learning_rate,\n",
    "        'max_depth':int(max_depth),\n",
    "        'num_leaves':int(num_leaves),\n",
    "        'min_data_in_leaf':int(min_data_in_leaf),\n",
    "        'bagging_fraction':bagging_fraction,\n",
    "        'feature_fraction':feature_fraction,\n",
    "        'bagging_freq':0,\n",
    "        'verbose':0    \n",
    "    }\n",
    "    \n",
    "    lgbTrain=lightgbm.Dataset(X,y,categorical_feature=categorical_feature)\n",
    "    \n",
    "    res=lightgbm.cv(params,lgbTrain,num_boost_round=3000,verbose_eval=50,\n",
    "                      categorical_feature=categorical_feature,nfold=6)\n",
    "    \n",
    "    return res['auc-mean']\n",
    "\n",
    "def paramTuning(init_points,n_iter):\n",
    "    lgbBO=bayes_opt.BayesianOptimization(lgb_train,{\n",
    "        'learning_rate':(0.03,0.05),\n",
    "        'max_depth':(6,10),\n",
    "        'num_leaves':(300,500),\n",
    "        'min_data_in_leaf':(50,90)\n",
    "    },random_state=2020)\n",
    "    lgbBO.maximize(init_points=init_points,n_iter=n_iter,acq='ei')\n",
    "    return lgbBO"
   ]
  },
  {
   "cell_type": "code",
   "execution_count": 88,
   "metadata": {},
   "outputs": [],
   "source": [
    "pred=models[4].predict(X,num_iteration=models[4].best_iteration)"
   ]
  },
  {
   "cell_type": "code",
   "execution_count": 262,
   "metadata": {},
   "outputs": [
    {
     "ename": "NameError",
     "evalue": "name 'bayes_opt' is not defined",
     "output_type": "error",
     "traceback": [
      "\u001b[1;31m---------------------------------------------------------------------------\u001b[0m",
      "\u001b[1;31mNameError\u001b[0m                                 Traceback (most recent call last)",
      "\u001b[1;32m<ipython-input-262-436afd6e2400>\u001b[0m in \u001b[0;36m<module>\u001b[1;34m\u001b[0m\n\u001b[1;32m----> 1\u001b[1;33m \u001b[0mbest_params\u001b[0m\u001b[1;33m=\u001b[0m\u001b[0mparamTuning\u001b[0m\u001b[1;33m(\u001b[0m\u001b[1;36m2\u001b[0m\u001b[1;33m,\u001b[0m\u001b[1;36m7\u001b[0m\u001b[1;33m)\u001b[0m\u001b[1;33m\u001b[0m\u001b[1;33m\u001b[0m\u001b[0m\n\u001b[0m",
      "\u001b[1;32m<ipython-input-261-c75dd29fc2e7>\u001b[0m in \u001b[0;36mparamTuning\u001b[1;34m(init_points, n_iter)\u001b[0m\n\u001b[0;32m     23\u001b[0m \u001b[1;33m\u001b[0m\u001b[0m\n\u001b[0;32m     24\u001b[0m \u001b[1;32mdef\u001b[0m \u001b[0mparamTuning\u001b[0m\u001b[1;33m(\u001b[0m\u001b[0minit_points\u001b[0m\u001b[1;33m,\u001b[0m\u001b[0mn_iter\u001b[0m\u001b[1;33m)\u001b[0m\u001b[1;33m:\u001b[0m\u001b[1;33m\u001b[0m\u001b[1;33m\u001b[0m\u001b[0m\n\u001b[1;32m---> 25\u001b[1;33m     lgbBO=bayes_opt.BayesianOptimization(lgb_train,{\n\u001b[0m\u001b[0;32m     26\u001b[0m         \u001b[1;34m'learning_rate'\u001b[0m\u001b[1;33m:\u001b[0m\u001b[1;33m(\u001b[0m\u001b[1;36m0.03\u001b[0m\u001b[1;33m,\u001b[0m\u001b[1;36m0.05\u001b[0m\u001b[1;33m)\u001b[0m\u001b[1;33m,\u001b[0m\u001b[1;33m\u001b[0m\u001b[1;33m\u001b[0m\u001b[0m\n\u001b[0;32m     27\u001b[0m         \u001b[1;34m'max_depth'\u001b[0m\u001b[1;33m:\u001b[0m\u001b[1;33m(\u001b[0m\u001b[1;36m6\u001b[0m\u001b[1;33m,\u001b[0m\u001b[1;36m10\u001b[0m\u001b[1;33m)\u001b[0m\u001b[1;33m,\u001b[0m\u001b[1;33m\u001b[0m\u001b[1;33m\u001b[0m\u001b[0m\n",
      "\u001b[1;31mNameError\u001b[0m: name 'bayes_opt' is not defined"
     ]
    }
   ],
   "source": [
    "best_params=paramTuning(2,7)"
   ]
  },
  {
   "cell_type": "code",
   "execution_count": 94,
   "metadata": {},
   "outputs": [],
   "source": [
    "sub=pd.concat([pd.DataFrame(pred),y],axis=1)\n",
    "# sub['pred']=np.where(sub[0]<0.7)"
   ]
  },
  {
   "cell_type": "code",
   "execution_count": 491,
   "metadata": {
    "scrolled": false
   },
   "outputs": [],
   "source": [
    "import random \n",
    "\n",
    "n=random.randint(0,2020)\n",
    "\n",
    "oof_train=pd.DataFrame()\n",
    "params={\n",
    "    'objective':'regression',\n",
    "    'metric':'mape',\n",
    "    'learning_rate':0.4115,\n",
    "    'max_depth':int(9.433),\n",
    "    'num_leaves':int(70.37),\n",
    "    'min_data_in_leaf':int(354.1),\n",
    "    'bagging_fraction':0.3,\n",
    "    'feature_fraction':0.3,\n",
    "    'verbose':0  \n",
    "}\n",
    "\n",
    "\n",
    "lgbTrain=lightgbm.Dataset(X,y,categorical_feature=categorical_feature)\n",
    "\n",
    "model=lightgbm.train(params,lgbTrain,num_boost_round=3000,verbose_eval=50,categorical_feature=categorical_feature)\n",
    "with open(f\"./dataset/{n}_model.pkl\", \"wb\") as file:\n",
    "    pickle.dump(model, file)\n",
    "    \n",
    "pred=model.predict(X,num_iteration=model.best_iteration)"
   ]
  },
  {
   "cell_type": "code",
   "execution_count": 486,
   "metadata": {},
   "outputs": [],
   "source": [
    "with open('./dataset/448_model.pkl','rb') as file:\n",
    "    model=pickle.load(file)"
   ]
  },
  {
   "cell_type": "code",
   "execution_count": 492,
   "metadata": {
    "scrolled": false
   },
   "outputs": [
    {
     "data": {
      "text/html": [
       "<div>\n",
       "<style scoped>\n",
       "    .dataframe tbody tr th:only-of-type {\n",
       "        vertical-align: middle;\n",
       "    }\n",
       "\n",
       "    .dataframe tbody tr th {\n",
       "        vertical-align: top;\n",
       "    }\n",
       "\n",
       "    .dataframe thead th {\n",
       "        text-align: right;\n",
       "    }\n",
       "</style>\n",
       "<table border=\"1\" class=\"dataframe\">\n",
       "  <thead>\n",
       "    <tr style=\"text-align: right;\">\n",
       "      <th></th>\n",
       "      <th>MRC_ID_DI</th>\n",
       "      <th>0</th>\n",
       "    </tr>\n",
       "  </thead>\n",
       "  <tbody>\n",
       "    <tr>\n",
       "      <th>0</th>\n",
       "      <td>4</td>\n",
       "      <td>4.0</td>\n",
       "    </tr>\n",
       "    <tr>\n",
       "      <th>1</th>\n",
       "      <td>2</td>\n",
       "      <td>2.0</td>\n",
       "    </tr>\n",
       "    <tr>\n",
       "      <th>2</th>\n",
       "      <td>4</td>\n",
       "      <td>4.0</td>\n",
       "    </tr>\n",
       "    <tr>\n",
       "      <th>3</th>\n",
       "      <td>1</td>\n",
       "      <td>1.0</td>\n",
       "    </tr>\n",
       "    <tr>\n",
       "      <th>4</th>\n",
       "      <td>2</td>\n",
       "      <td>2.0</td>\n",
       "    </tr>\n",
       "    <tr>\n",
       "      <th>...</th>\n",
       "      <td>...</td>\n",
       "      <td>...</td>\n",
       "    </tr>\n",
       "    <tr>\n",
       "      <th>10119</th>\n",
       "      <td>3</td>\n",
       "      <td>3.0</td>\n",
       "    </tr>\n",
       "    <tr>\n",
       "      <th>10120</th>\n",
       "      <td>4</td>\n",
       "      <td>4.0</td>\n",
       "    </tr>\n",
       "    <tr>\n",
       "      <th>10121</th>\n",
       "      <td>4</td>\n",
       "      <td>4.0</td>\n",
       "    </tr>\n",
       "    <tr>\n",
       "      <th>10122</th>\n",
       "      <td>4</td>\n",
       "      <td>4.0</td>\n",
       "    </tr>\n",
       "    <tr>\n",
       "      <th>10123</th>\n",
       "      <td>4</td>\n",
       "      <td>4.0</td>\n",
       "    </tr>\n",
       "  </tbody>\n",
       "</table>\n",
       "<p>10124 rows × 2 columns</p>\n",
       "</div>"
      ],
      "text/plain": [
       "       MRC_ID_DI    0\n",
       "0              4  4.0\n",
       "1              2  2.0\n",
       "2              4  4.0\n",
       "3              1  1.0\n",
       "4              2  2.0\n",
       "...          ...  ...\n",
       "10119          3  3.0\n",
       "10120          4  4.0\n",
       "10121          4  4.0\n",
       "10122          4  4.0\n",
       "10123          4  4.0\n",
       "\n",
       "[10124 rows x 2 columns]"
      ]
     },
     "execution_count": 492,
     "metadata": {},
     "output_type": "execute_result"
    }
   ],
   "source": [
    "pd.concat([y.reset_index(drop=True),round(pd.DataFrame(pred))],axis=1)"
   ]
  }
 ],
 "metadata": {
  "kernelspec": {
   "display_name": "Python 3",
   "language": "python",
   "name": "python3"
  },
  "language_info": {
   "codemirror_mode": {
    "name": "ipython",
    "version": 3
   },
   "file_extension": ".py",
   "mimetype": "text/x-python",
   "name": "python",
   "nbconvert_exporter": "python",
   "pygments_lexer": "ipython3",
   "version": "3.6.12"
  }
 },
 "nbformat": 4,
 "nbformat_minor": 4
}
